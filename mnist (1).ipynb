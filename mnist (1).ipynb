{
 "cells": [
  {
   "cell_type": "code",
   "execution_count": 1,
   "id": "c1db9d3a",
   "metadata": {},
   "outputs": [],
   "source": [
    "import numpy as np\n",
    "import matplotlib.pyplot as plt"
   ]
  },
  {
   "cell_type": "code",
   "execution_count": 2,
   "id": "979b35c6",
   "metadata": {},
   "outputs": [],
   "source": [
    "import idx2numpy\n",
    "data = idx2numpy.convert_from_file('D:/data/train-images.idx3-ubyte')\n",
    "data_labels = idx2numpy.convert_from_file('D:/data/train-labels.idx1-ubyte')\n",
    "df = data\n",
    "df_labels = data_labels"
   ]
  },
  {
   "cell_type": "code",
   "execution_count": 3,
   "id": "7a40f681",
   "metadata": {},
   "outputs": [
    {
     "data": {
      "image/png": "[encoded data removed]",
      "text/plain": [
       "<Figure size 2016x2016 with 5 Axes>"
      ]
     },
     "metadata": {
      "needs_background": "light"
     },
     "output_type": "display_data"
    }
   ],
   "source": [
    "fig, axs = plt.subplots(1, 5, figsize=(28, 28))\n",
    "for i in range(0, 5):\n",
    "    axs[i].imshow(data[i, :])"
   ]
  },
  {
   "cell_type": "code",
   "execution_count": 4,
   "id": "8c47cb2f",
   "metadata": {},
   "outputs": [],
   "source": [
    "df = df.reshape((60000, 28 * 28))"
   ]
  },
  {
   "cell_type": "code",
   "execution_count": 5,
   "id": "69793948",
   "metadata": {},
   "outputs": [],
   "source": [
    "from sklearn.model_selection import train_test_split\n",
    "X_train, X_test, y_train, y_test = train_test_split(df, df_labels, test_size=0.2, random_state=42)"
   ]
  },
  {
   "cell_type": "code",
   "execution_count": 6,
   "id": "b4b05599",
   "metadata": {},
   "outputs": [
    {
     "data": {
      "text/html": [
       "<style>#sk-container-id-1 {color: black;background-color: white;}#sk-container-id-1 pre{padding: 0;}#sk-container-id-1 div.sk-toggleable {background-color: white;}#sk-container-id-1 label.sk-toggleable__label {cursor: pointer;display: block;width: 100%;margin-bottom: 0;padding: 0.3em;box-sizing: border-box;text-align: center;}#sk-container-id-1 label.sk-toggleable__label-arrow:before {content: \"▸\";float: left;margin-right: 0.25em;color: #696969;}#sk-container-id-1 label.sk-toggleable__label-arrow:hover:before {color: black;}#sk-container-id-1 div.sk-estimator:hover label.sk-toggleable__label-arrow:before {color: black;}#sk-container-id-1 div.sk-toggleable__content {max-height: 0;max-width: 0;overflow: hidden;text-align: left;background-color: #f0f8ff;}#sk-container-id-1 div.sk-toggleable__content pre {margin: 0.2em;color: black;border-radius: 0.25em;background-color: #f0f8ff;}#sk-container-id-1 input.sk-toggleable__control:checked~div.sk-toggleable__content {max-height: 200px;max-width: 100%;overflow: auto;}#sk-container-id-1 input.sk-toggleable__control:checked~label.sk-toggleable__label-arrow:before {content: \"▾\";}#sk-container-id-1 div.sk-estimator input.sk-toggleable__control:checked~label.sk-toggleable__label {background-color: #d4ebff;}#sk-container-id-1 div.sk-label input.sk-toggleable__control:checked~label.sk-toggleable__label {background-color: #d4ebff;}#sk-container-id-1 input.sk-hidden--visually {border: 0;clip: rect(1px 1px 1px 1px);clip: rect(1px, 1px, 1px, 1px);height: 1px;margin: -1px;overflow: hidden;padding: 0;position: absolute;width: 1px;}#sk-container-id-1 div.sk-estimator {font-family: monospace;background-color: #f0f8ff;border: 1px dotted black;border-radius: 0.25em;box-sizing: border-box;margin-bottom: 0.5em;}#sk-container-id-1 div.sk-estimator:hover {background-color: #d4ebff;}#sk-container-id-1 div.sk-parallel-item::after {content: \"\";width: 100%;border-bottom: 1px solid gray;flex-grow: 1;}#sk-container-id-1 div.sk-label:hover label.sk-toggleable__label {background-color: #d4ebff;}#sk-container-id-1 div.sk-serial::before {content: \"\";position: absolute;border-left: 1px solid gray;box-sizing: border-box;top: 0;bottom: 0;left: 50%;z-index: 0;}#sk-container-id-1 div.sk-serial {display: flex;flex-direction: column;align-items: center;background-color: white;padding-right: 0.2em;padding-left: 0.2em;position: relative;}#sk-container-id-1 div.sk-item {position: relative;z-index: 1;}#sk-container-id-1 div.sk-parallel {display: flex;align-items: stretch;justify-content: center;background-color: white;position: relative;}#sk-container-id-1 div.sk-item::before, #sk-container-id-1 div.sk-parallel-item::before {content: \"\";position: absolute;border-left: 1px solid gray;box-sizing: border-box;top: 0;bottom: 0;left: 50%;z-index: -1;}#sk-container-id-1 div.sk-parallel-item {display: flex;flex-direction: column;z-index: 1;position: relative;background-color: white;}#sk-container-id-1 div.sk-parallel-item:first-child::after {align-self: flex-end;width: 50%;}#sk-container-id-1 div.sk-parallel-item:last-child::after {align-self: flex-start;width: 50%;}#sk-container-id-1 div.sk-parallel-item:only-child::after {width: 0;}#sk-container-id-1 div.sk-dashed-wrapped {border: 1px dashed gray;margin: 0 0.4em 0.5em 0.4em;box-sizing: border-box;padding-bottom: 0.4em;background-color: white;}#sk-container-id-1 div.sk-label label {font-family: monospace;font-weight: bold;display: inline-block;line-height: 1.2em;}#sk-container-id-1 div.sk-label-container {text-align: center;}#sk-container-id-1 div.sk-container {/* jupyter's `normalize.less` sets `[hidden] { display: none; }` but bootstrap.min.css set `[hidden] { display: none !important; }` so we also need the `!important` here to be able to override the default hidden behavior on the sphinx rendered scikit-learn.org. See: https://github.com/scikit-learn/scikit-learn/issues/21755 */display: inline-block !important;position: relative;}#sk-container-id-1 div.sk-text-repr-fallback {display: none;}</style><div id=\"sk-container-id-1\" class=\"sk-top-container\"><div class=\"sk-text-repr-fallback\"><pre>KNeighborsClassifier()</pre><b>In a Jupyter environment, please rerun this cell to show the HTML representation or trust the notebook. <br />On GitHub, the HTML representation is unable to render, please try loading this page with nbviewer.org.</b></div><div class=\"sk-container\" hidden><div class=\"sk-item\"><div class=\"sk-estimator sk-toggleable\"><input class=\"sk-toggleable__control sk-hidden--visually\" id=\"sk-estimator-id-1\" type=\"checkbox\" checked><label for=\"sk-estimator-id-1\" class=\"sk-toggleable__label sk-toggleable__label-arrow\">KNeighborsClassifier</label><div class=\"sk-toggleable__content\"><pre>KNeighborsClassifier()</pre></div></div></div></div></div>"
      ],
      "text/plain": [
       "KNeighborsClassifier()"
      ]
     },
     "execution_count": 6,
     "metadata": {},
     "output_type": "execute_result"
    }
   ],
   "source": [
    "from sklearn.neighbors import KNeighborsClassifier\n",
    "kn = KNeighborsClassifier()\n",
    "kn.fit(X_train, y_train)"
   ]
  },
  {
   "cell_type": "code",
   "execution_count": 7,
   "id": "0dc465fc",
   "metadata": {},
   "outputs": [],
   "source": [
    "y_pred = kn.predict(X_test)"
   ]
  },
  {
   "cell_type": "code",
   "execution_count": 8,
   "id": "7e5bb0fa",
   "metadata": {},
   "outputs": [
    {
     "data": {
      "text/plain": [
       "0.9715"
      ]
     },
     "execution_count": 8,
     "metadata": {},
     "output_type": "execute_result"
    }
   ],
   "source": [
    "from sklearn.metrics import accuracy_score\n",
    "accuracy_score(y_test, y_pred)"
   ]
  },
  {
   "cell_type": "code",
   "execution_count": 9,
   "id": "d127147d",
   "metadata": {},
   "outputs": [
    {
     "name": "stdout",
     "output_type": "stream",
     "text": [
      "[3] [9] [3] [5] [2] "
     ]
    },
    {
     "data": {
      "image/png": "[encoded data removed]",
      "text/plain": [
       "<Figure size 2016x2016 with 5 Axes>"
      ]
     },
     "metadata": {
      "needs_background": "light"
     },
     "output_type": "display_data"
    }
   ],
   "source": [
    "fig, axs = plt.subplots(1, 5, figsize=(28, 28)) # вывод случайной чифры с предсказанием модели\n",
    "for i in range(5):\n",
    "    ran = np.random.randint(len(y_test))\n",
    "    axs[i].imshow(X_test[ran, :].reshape((28, 28)))\n",
    "    print(kn.predict(X_test[ran:ran+1, :]), end=\" \")"
   ]
  },
  {
   "cell_type": "code",
   "execution_count": 10,
   "id": "d684a524",
   "metadata": {},
   "outputs": [],
   "source": [
    "from sklearn.metrics import confusion_matrix\n",
    "conf_mat = confusion_matrix(y_test, y_pred)\n",
    "np.fill_diagonal(conf_mat, 0)"
   ]
  },
  {
   "cell_type": "code",
   "execution_count": 11,
   "id": "0a0f451a",
   "metadata": {},
   "outputs": [
    {
     "data": {
      "image/png": "[encoded data removed]",
      "text/plain": [
       "<Figure size 432x288 with 2 Axes>"
      ]
     },
     "metadata": {
      "needs_background": "light"
     },
     "output_type": "display_data"
    }
   ],
   "source": [
    "fig, axs = plt.subplots()\n",
    "mat_show = axs.matshow(conf_mat)\n",
    "fig.colorbar(mat_show)\n",
    "plt.show()"
   ]
  },
  {
   "cell_type": "code",
   "execution_count": null,
   "id": "963ceb7c",
   "metadata": {},
   "outputs": [],
   "source": []
  },
  {
   "cell_type": "code",
   "execution_count": 12,
   "id": "cb48c40f",
   "metadata": {},
   "outputs": [],
   "source": [
    "def min_max_normalization(X):\n",
    "    min_arr, max_arr = np.min(X), np.max(X)\n",
    "    return ((X - min_arr) / (max_arr - min_arr)).astype(\"float32\")\n",
    "X_train = min_max_normalization(X_train)\n",
    "X_test = min_max_normalization(X_test)"
   ]
  },
  {
   "cell_type": "code",
   "execution_count": 13,
   "id": "b468ba0d",
   "metadata": {},
   "outputs": [],
   "source": [
    "#реализация алгоритма k-ближайщих соседей\n",
    "\n",
    "def all_distances_point(x_train, point): # расстояние между каждой точки до нужной\n",
    "    distances = np.sqrt(np.sum(np.power((x_train - point), 2), axis=1))\n",
    "    return distances\n",
    "\n",
    "def nearest_neighbor_method(x_train, y_train, x_test, k = 5): # непосредственно метод ближайщих соседей\n",
    "    y_pred = np.array([])\n",
    "    for i in x_test:\n",
    "        distance = all_distances_point(x_train, i)\n",
    "        dist_argsort = np.argsort(distance)\n",
    "        unique, counts = np.unique(y_train[dist_argsort[:k]], return_counts=True) # подсчитываем количество уникальных соседей с выбором k ближайших\n",
    "        count_neighbours = np.column_stack((unique, counts.T))\n",
    "        index = np.random.choice(np.where(count_neighbours[:, 1] == np.max(count_neighbours[:, 1]))[0]) # выбираем случайного соседа из наиболее повторяющийся\n",
    "        pred_class = count_neighbours[index, 0]\n",
    "        y_pred = np.append(y_pred, pred_class)\n",
    "    return y_pred"
   ]
  },
  {
   "cell_type": "code",
   "execution_count": 14,
   "id": "ad3a14e7",
   "metadata": {},
   "outputs": [],
   "source": [
    "y_pred = nearest_neighbor_method(X_train, y_train, X_test[:1000, :]) # я здесь взял первые 1000 записей потому что метод очень долго делает вычисления"
   ]
  },
  {
   "cell_type": "code",
   "execution_count": 15,
   "id": "0d5704db",
   "metadata": {},
   "outputs": [],
   "source": [
    "def accuracy(y_test, y_pred): # оценка точность алгоритма\n",
    "    matrix = y_test == y_pred\n",
    "    return np.float64(np.sum(matrix) / len(matrix))"
   ]
  },
  {
   "cell_type": "code",
   "execution_count": 16,
   "id": "4c6a771c",
   "metadata": {},
   "outputs": [
    {
     "name": "stdout",
     "output_type": "stream",
     "text": [
      "0.972\n"
     ]
    }
   ],
   "source": [
    "print(accuracy(y_test[:1000], y_pred))"
   ]
  },
  {
   "cell_type": "code",
   "execution_count": null,
   "id": "b6571fae",
   "metadata": {},
   "outputs": [],
   "source": []
  },
  {
   "cell_type": "code",
   "execution_count": 18,
   "id": "46ddd55f",
   "metadata": {},
   "outputs": [],
   "source": [
    "import tensorflow as tf "
   ]
  },
  {
   "cell_type": "code",
   "execution_count": 19,
   "id": "d15e5723",
   "metadata": {},
   "outputs": [],
   "source": [
    "df = tf.keras.utils.normalize(data)\n",
    "X_train, X_test, y_train, y_test = train_test_split(df, df_labels, test_size=0.2, random_state=42)"
   ]
  },
  {
   "cell_type": "code",
   "execution_count": 20,
   "id": "2d20765e",
   "metadata": {},
   "outputs": [
    {
     "name": "stdout",
     "output_type": "stream",
     "text": [
      "Model: \"model\"\n",
      "_________________________________________________________________\n",
      " Layer (type)                Output Shape              Param #   \n",
      "=================================================================\n",
      " input_1 (InputLayer)        [(None, 28, 28)]          0         \n",
      "                                                                 \n",
      " tf.reshape (TFOpLambda)     (None, 28, 28, 1)         0         \n",
      "                                                                 \n",
      " conv2d (Conv2D)             (None, 28, 28, 6)         156       \n",
      "                                                                 \n",
      " average_pooling2d (AverageP  (None, 14, 14, 6)        0         \n",
      " ooling2D)                                                       \n",
      "                                                                 \n",
      " conv2d_1 (Conv2D)           (None, 10, 10, 16)        2416      \n",
      "                                                                 \n",
      " average_pooling2d_1 (Averag  (None, 5, 5, 16)         0         \n",
      " ePooling2D)                                                     \n",
      "                                                                 \n",
      " conv2d_2 (Conv2D)           (None, 1, 1, 120)         48120     \n",
      "                                                                 \n",
      " flatten (Flatten)           (None, 120)               0         \n",
      "                                                                 \n",
      " dense (Dense)               (None, 84)                10164     \n",
      "                                                                 \n",
      " dense_1 (Dense)             (None, 10)                850       \n",
      "                                                                 \n",
      "=================================================================\n",
      "Total params: 61,706\n",
      "Trainable params: 61,706\n",
      "Non-trainable params: 0\n",
      "_________________________________________________________________\n"
     ]
    }
   ],
   "source": [
    "# реализация LeNet-5\n",
    "\n",
    "# задание входных данных\n",
    "X = tf.keras.Input(shape=(28, 28))\n",
    "X_extended = tf.reshape(X, [-1, 28, 28, 1]) # я изменил здесь размер, потому что conv2d принимает на вход только 4 мерный тенсор\n",
    "# 1 значение - это количество взодных данных, 2 и 3 - размер картинки, а 4 - количество цветовых каналов\n",
    "\n",
    "c1 = tf.keras.layers.Conv2D(filters=6, kernel_size=5, padding=\"same\", activation=tf.nn.tanh)(X_extended) # свёрточный слой\n",
    "#c1 = tf.compat.v1.layers.conv2d(X_extended, filters=6, kernel_size=5, padding=\"same\", activation=tf.nn.tanh)\n",
    "s2 = tf.keras.layers.AveragePooling2D(pool_size=2, strides=2)(c1) # объединение по среднему\n",
    "c3 = tf.keras.layers.Conv2D(filters=16, kernel_size=5, activation=tf.nn.tanh)(s2)\n",
    "s4 = tf.keras.layers.AveragePooling2D(pool_size=2, strides=2)(c3)\n",
    "c5 = tf.keras.layers.Conv2D(filters=120, kernel_size=5)(s4)\n",
    "flat = tf.keras.layers.Flatten()(c5) # выравнивает слой в одномерный массив\n",
    "f6 = tf.keras.layers.Dense(84, activation=tf.nn.tanh)(flat) # послосвязный слой\n",
    "out = tf.keras.layers.Dense(10, activation=tf.nn.softmax)(f6) # выходной слой\n",
    "model = tf.keras.Model(inputs=X, outputs=out)\n",
    "model.summary()"
   ]
  },
  {
   "cell_type": "code",
   "execution_count": 21,
   "id": "ab49fcf6",
   "metadata": {},
   "outputs": [
    {
     "name": "stdout",
     "output_type": "stream",
     "text": [
      "Epoch 1/3\n",
      "480/480 [==============================] - 8s 15ms/step - loss: 0.4090 - accuracy: 0.8767\n",
      "Epoch 2/3\n",
      "480/480 [==============================] - 7s 15ms/step - loss: 0.2013 - accuracy: 0.9393\n",
      "Epoch 3/3\n",
      "480/480 [==============================] - 7s 15ms/step - loss: 0.1487 - accuracy: 0.9550\n"
     ]
    },
    {
     "data": {
      "text/plain": [
       "<keras.callbacks.History at 0x24f595c3c70>"
      ]
     },
     "execution_count": 21,
     "metadata": {},
     "output_type": "execute_result"
    }
   ],
   "source": [
    "model.compile(optimizer=tf.keras.optimizers.Adam(learning_rate=1e-3),\n",
    "              loss=tf.keras.metrics.sparse_categorical_crossentropy,\n",
    "              metrics=[\"accuracy\"])\n",
    "model.fit(X_train, y_train, batch_size=100, epochs=3) # тренировка модели"
   ]
  },
  {
   "cell_type": "code",
   "execution_count": 22,
   "id": "9064bdb4",
   "metadata": {},
   "outputs": [
    {
     "name": "stdout",
     "output_type": "stream",
     "text": [
      "375/375 [==============================] - 2s 4ms/step - loss: 0.1263 - accuracy: 0.9597\n"
     ]
    },
    {
     "data": {
      "text/plain": [
       "[0.12629930675029755, 0.9597499966621399]"
      ]
     },
     "execution_count": 22,
     "metadata": {},
     "output_type": "execute_result"
    }
   ],
   "source": [
    "model.evaluate(X_test, y_test) # вывод функции потерь и точность алгоритма"
   ]
  },
  {
   "cell_type": "code",
   "execution_count": null,
   "id": "a1206937",
   "metadata": {},
   "outputs": [],
   "source": []
  },
  {
   "cell_type": "code",
   "execution_count": 23,
   "id": "20a22da6",
   "metadata": {},
   "outputs": [],
   "source": [
    "df = data.reshape((60000, 28 * 28))\n",
    "X_train, X_test, y_train, y_test = train_test_split(df, df_labels, test_size=0.2, random_state=42)"
   ]
  },
  {
   "cell_type": "code",
   "execution_count": 24,
   "id": "d8595f08",
   "metadata": {},
   "outputs": [],
   "source": [
    "def min_max_normalization(X):\n",
    "    min_arr, max_arr = np.min(X), np.max(X)\n",
    "    return ((X - min_arr) / (max_arr - min_arr)).astype(\"float32\")\n",
    "X_train = min_max_normalization(X_train)\n",
    "X_test = min_max_normalization(X_test)"
   ]
  },
  {
   "cell_type": "code",
   "execution_count": 25,
   "id": "192f6f5f",
   "metadata": {},
   "outputs": [],
   "source": [
    "def onehot(y, outputs):\n",
    "    y_onehot = []\n",
    "    for i in y:\n",
    "        one_hot = np.zeros((1, outputs))\n",
    "        one_hot[0, i] = 1\n",
    "        y_onehot.append(one_hot)\n",
    "    return y_onehot"
   ]
  },
  {
   "cell_type": "code",
   "execution_count": 26,
   "id": "68102f33",
   "metadata": {},
   "outputs": [],
   "source": [
    "# реализация многослойного перцептрона с обратным распространением ошибки без использования tensorflow\n",
    "\n",
    "n_inputs = 784\n",
    "n_outputs = 10\n",
    "n_hidden1 = 300\n",
    "n_hidden2 = 100\n",
    "\n",
    "#инициализация весов для нейрона\n",
    "def scale_initiation(height, width):\n",
    "    return np.random.normal(size=(height, width))\n",
    "\n",
    "# сигмоида\n",
    "def sigma(x): # функция активации\n",
    "    return 1 / (1 + np.exp(-x))\n",
    "\n",
    "# подсчет выходного значения нейронов\n",
    "def neuron_output(weights, inputs):\n",
    "    return sigma(np.dot(inputs, weights))\n",
    "\n",
    "# определение выроятность принадлежность к каждому классу\n",
    "def softmax(output):\n",
    "    return np.exp(output) / np.sum(np.exp(output))\n",
    "\n",
    "# создание полносвязного слоя\n",
    "def perceptron(neural_network, n_inputs, n_outputs):\n",
    "    weights = scale_initiation(n_inputs, n_outputs)\n",
    "    bias = np.random.normal(size=(1, n_outputs))\n",
    "    neural_network.append({\"weights\" : weights, \"bias\" : bias})\n",
    "\n",
    "def output_values(neural_network, input_values, layer, activation = sigma):    \n",
    "    neural_network[layer][\"output\"] = activation(np.dot(input_values, neural_network[layer][\"weights\"]) + neural_network[layer][\"bias\"])\n",
    "    return neural_network[layer][\"output\"]\n",
    "# вычисление ошибки для каждого выходного нейрона в скрытом слое\n",
    "def error_calculation(x):\n",
    "    return x * (1.0 - x)\n",
    "\n",
    "# перекрёстная энтропия для множественной классификации\n",
    "def entropy(y_pred, y):\n",
    "    return -np.sum(np.log(y_pred) * y)\n",
    "\n",
    "# вычисление ошибки для каждого выходного нейрона в скрытом слое\n",
    "def error_calculation(x):\n",
    "    return x * (1.0 - x)\n",
    "\n",
    "# вычисление ошибки для каждого нейрона\n",
    "def delta_calculation(neural_network, y):\n",
    "    for i in reversed(range(len(neural_network))):\n",
    "        layer = neural_network[i]\n",
    "        if i == len(neural_network) - 1:\n",
    "            errors = np.array(y).reshape((1, 10)) - layer[\"output\"]\n",
    "            layer[\"delta\"] = np.multiply(errors, error_calculation(layer[\"output\"]))\n",
    "        else:\n",
    "            errors = np.dot(neural_network[i + 1][\"delta\"], neural_network[i + 1][\"weights\"].T)\n",
    "            layer[\"delta\"] = errors * error_calculation(layer[\"output\"])\n",
    "            layer[\"delta_bias\"] = np.sum(layer[\"delta\"])\n",
    "\n",
    "# обновление весов\n",
    "def weight_update(neural_network, learning_rate=0.1):\n",
    "    for i in range(len(neural_network)):\n",
    "        layer = neural_network[i]\n",
    "        if i > 0:\n",
    "            layer[\"weights\"] += learning_rate * np.dot(neural_network[i - 1][\"output\"].T, layer[\"delta\"])\n",
    "            if i != len(neural_network) - 1:\n",
    "                layer[\"bias\"] += learning_rate * layer[\"delta_bias\"]\n",
    "                \n",
    "def predict(neural_network, X_test):\n",
    "    y_pred = []\n",
    "    for i in X_test:\n",
    "        output_values(neural_network, i, 0)\n",
    "        output_values(neural_network, neural_network[0][\"output\"], 1)\n",
    "        output_values(neural_network, neural_network[1][\"output\"], 2, softmax)\n",
    "        y_pred.append(np.argmax(neural_network[2][\"output\"]))\n",
    "    return y_pred"
   ]
  },
  {
   "cell_type": "code",
   "execution_count": 27,
   "id": "cf5e1d0e",
   "metadata": {},
   "outputs": [],
   "source": [
    "def fit(X_train, y_train, epochs=2): # тренировка модели\n",
    "    neural_network = []\n",
    "    loss = 10**10\n",
    "    neural_network_best_param = 0\n",
    "    \n",
    "    perceptron(neural_network, n_inputs, n_hidden1) # создание 1 скрытого слоя\n",
    "    perceptron(neural_network, n_hidden1, n_hidden2) # создание 2 скрытого слоя\n",
    "    perceptron(neural_network, n_hidden2, n_outputs) # создание выходного слоя\n",
    "    \n",
    "    for j in range(epochs):\n",
    "        for i in range(len(X_train)):\n",
    "            output_values(neural_network, X_train[i, :], 0)\n",
    "            output_values(neural_network, neural_network[0][\"output\"], 1)\n",
    "            y_pred = output_values(neural_network, neural_network[1][\"output\"], 2, softmax) # предсказание значения\n",
    "            y = onehot(y_train[i:i+1], 10)\n",
    "            ent = entropy(y_pred, y)\n",
    "            if loss > ent:\n",
    "                loss = ent \n",
    "                neural_network_best_param = neural_network.copy() # сохранение лучших весов сети\n",
    "            delta_calculation(neural_network, y) # вычисление ошибки для каждого веса\n",
    "            weight_update(neural_network) # обновление веса\n",
    "    return neural_network_best_param"
   ]
  },
  {
   "cell_type": "code",
   "execution_count": 33,
   "id": "9ce8c6d3",
   "metadata": {},
   "outputs": [],
   "source": [
    "neural_network  = fit(X_train, y_train)"
   ]
  },
  {
   "cell_type": "code",
   "execution_count": 34,
   "id": "c156cc83",
   "metadata": {},
   "outputs": [
    {
     "data": {
      "text/plain": [
       "0.7938541666666666"
      ]
     },
     "execution_count": 34,
     "metadata": {},
     "output_type": "execute_result"
    }
   ],
   "source": [
    "y_pred = predict(neural_network, X_train)\n",
    "accuracy(y_train, y_pred)"
   ]
  },
  {
   "cell_type": "code",
   "execution_count": 35,
   "id": "fb7954ba",
   "metadata": {},
   "outputs": [
    {
     "data": {
      "text/plain": [
       "0.7935"
      ]
     },
     "execution_count": 35,
     "metadata": {},
     "output_type": "execute_result"
    }
   ],
   "source": [
    "y_pred = predict(neural_network, X_test) \n",
    "accuracy(y_test, y_pred) # оценка точность алгоритма"
   ]
  },
  {
   "cell_type": "code",
   "execution_count": 36,
   "id": "c22b3bae",
   "metadata": {},
   "outputs": [
    {
     "data": {
      "image/png": "[encoded data removed]",
      "text/plain": [
       "<Figure size 432x288 with 2 Axes>"
      ]
     },
     "metadata": {
      "needs_background": "light"
     },
     "output_type": "display_data"
    }
   ],
   "source": [
    "conf_mat = confusion_matrix(y_test, y_pred)\n",
    "np.fill_diagonal(conf_mat, 0)\n",
    "fig, axs = plt.subplots()\n",
    "mat_show = axs.matshow(conf_mat)\n",
    "fig.colorbar(mat_show)\n",
    "plt.show()"
   ]
  },
  {
   "cell_type": "code",
   "execution_count": 37,
   "id": "eba1ca84",
   "metadata": {},
   "outputs": [
    {
     "name": "stdout",
     "output_type": "stream",
     "text": [
      "[2] [5] [1] [6] [3] "
     ]
    },
    {
     "data": {
      "image/png": "[encoded data removed]",
      "text/plain": [
       "<Figure size 2016x2016 with 5 Axes>"
      ]
     },
     "metadata": {
      "needs_background": "light"
     },
     "output_type": "display_data"
    }
   ],
   "source": [
    "fig, axs = plt.subplots(1, 5, figsize=(28, 28)) # вывод случайной чифры с предсказанием модели\n",
    "for i in range(5):\n",
    "    ran = np.random.randint(len(y_test))\n",
    "    axs[i].imshow(X_test[ran, :].reshape((28, 28)))\n",
    "    print(predict(neural_network, X_test[ran:ran+1, :]), end=\" \")"
   ]
  },
  {
   "cell_type": "code",
   "execution_count": null,
   "id": "54cbfd03",
   "metadata": {},
   "outputs": [],
   "source": []
  }
 ],
 "metadata": {
  "kernelspec": {
   "display_name": "Python 3 (ipykernel)",
   "language": "python",
   "name": "python3"
  },
  "language_info": {
   "codemirror_mode": {
    "name": "ipython",
    "version": 3
   },
   "file_extension": ".py",
   "mimetype": "text/x-python",
   "name": "python",
   "nbconvert_exporter": "python",
   "pygments_lexer": "ipython3",
   "version": "3.10.5"
  }
 },
 "nbformat": 4,
 "nbformat_minor": 5
}
