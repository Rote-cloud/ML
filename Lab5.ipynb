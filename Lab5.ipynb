{
 "cells": [
  {
   "cell_type": "code",
   "execution_count": 1,
   "id": "a2fc5867",
   "metadata": {},
   "outputs": [],
   "source": [
    "import pandas as pd\n",
    "import matplotlib.pyplot as plt\n",
    "import seaborn as sns\n",
    "import numpy as np\n",
    "%matplotlib inline"
   ]
  },
  {
   "cell_type": "code",
   "execution_count": 2,
   "id": "9f9214be",
   "metadata": {},
   "outputs": [
    {
     "data": {
      "text/html": [
       "<div>\n",
       "<style scoped>\n",
       "    .dataframe tbody tr th:only-of-type {\n",
       "        vertical-align: middle;\n",
       "    }\n",
       "\n",
       "    .dataframe tbody tr th {\n",
       "        vertical-align: top;\n",
       "    }\n",
       "\n",
       "    .dataframe thead th {\n",
       "        text-align: right;\n",
       "    }\n",
       "</style>\n",
       "<table border=\"1\" class=\"dataframe\">\n",
       "  <thead>\n",
       "    <tr style=\"text-align: right;\">\n",
       "      <th></th>\n",
       "      <th>Unnamed: 0</th>\n",
       "      <th>id</th>\n",
       "      <th>Flight</th>\n",
       "      <th>AirportFrom</th>\n",
       "      <th>AirportTo</th>\n",
       "      <th>DayOfWeek</th>\n",
       "      <th>Time</th>\n",
       "      <th>Length</th>\n",
       "      <th>Delay</th>\n",
       "      <th>XE</th>\n",
       "      <th>...</th>\n",
       "      <th>DL</th>\n",
       "      <th>9E</th>\n",
       "      <th>MQ</th>\n",
       "      <th>YV</th>\n",
       "      <th>US</th>\n",
       "      <th>EV</th>\n",
       "      <th>B6</th>\n",
       "      <th>OH</th>\n",
       "      <th>HA</th>\n",
       "      <th>F9</th>\n",
       "    </tr>\n",
       "  </thead>\n",
       "  <tbody>\n",
       "    <tr>\n",
       "      <th>0</th>\n",
       "      <td>0</td>\n",
       "      <td>400740</td>\n",
       "      <td>3036</td>\n",
       "      <td>135.0</td>\n",
       "      <td>54.0</td>\n",
       "      <td>4.0</td>\n",
       "      <td>1195</td>\n",
       "      <td>131.0</td>\n",
       "      <td>0</td>\n",
       "      <td>0.0</td>\n",
       "      <td>...</td>\n",
       "      <td>0.0</td>\n",
       "      <td>0.0</td>\n",
       "      <td>0.0</td>\n",
       "      <td>0.0</td>\n",
       "      <td>0.0</td>\n",
       "      <td>0.0</td>\n",
       "      <td>0.0</td>\n",
       "      <td>0.0</td>\n",
       "      <td>1.0</td>\n",
       "      <td>0.0</td>\n",
       "    </tr>\n",
       "    <tr>\n",
       "      <th>1</th>\n",
       "      <td>1</td>\n",
       "      <td>194808</td>\n",
       "      <td>315</td>\n",
       "      <td>79.0</td>\n",
       "      <td>207.0</td>\n",
       "      <td>7.0</td>\n",
       "      <td>707</td>\n",
       "      <td>145.0</td>\n",
       "      <td>0</td>\n",
       "      <td>0.0</td>\n",
       "      <td>...</td>\n",
       "      <td>0.0</td>\n",
       "      <td>0.0</td>\n",
       "      <td>0.0</td>\n",
       "      <td>0.0</td>\n",
       "      <td>0.0</td>\n",
       "      <td>1.0</td>\n",
       "      <td>0.0</td>\n",
       "      <td>0.0</td>\n",
       "      <td>0.0</td>\n",
       "      <td>0.0</td>\n",
       "    </tr>\n",
       "    <tr>\n",
       "      <th>2</th>\n",
       "      <td>2</td>\n",
       "      <td>526903</td>\n",
       "      <td>6673</td>\n",
       "      <td>253.0</td>\n",
       "      <td>194.0</td>\n",
       "      <td>5.0</td>\n",
       "      <td>499</td>\n",
       "      <td>42.0</td>\n",
       "      <td>1</td>\n",
       "      <td>0.0</td>\n",
       "      <td>...</td>\n",
       "      <td>0.0</td>\n",
       "      <td>0.0</td>\n",
       "      <td>0.0</td>\n",
       "      <td>0.0</td>\n",
       "      <td>1.0</td>\n",
       "      <td>0.0</td>\n",
       "      <td>0.0</td>\n",
       "      <td>0.0</td>\n",
       "      <td>0.0</td>\n",
       "      <td>0.0</td>\n",
       "    </tr>\n",
       "    <tr>\n",
       "      <th>3</th>\n",
       "      <td>3</td>\n",
       "      <td>477937</td>\n",
       "      <td>3668</td>\n",
       "      <td>217.0</td>\n",
       "      <td>207.0</td>\n",
       "      <td>2.0</td>\n",
       "      <td>810</td>\n",
       "      <td>70.0</td>\n",
       "      <td>1</td>\n",
       "      <td>0.0</td>\n",
       "      <td>...</td>\n",
       "      <td>0.0</td>\n",
       "      <td>0.0</td>\n",
       "      <td>0.0</td>\n",
       "      <td>0.0</td>\n",
       "      <td>0.0</td>\n",
       "      <td>0.0</td>\n",
       "      <td>0.0</td>\n",
       "      <td>1.0</td>\n",
       "      <td>0.0</td>\n",
       "      <td>0.0</td>\n",
       "    </tr>\n",
       "    <tr>\n",
       "      <th>4</th>\n",
       "      <td>4</td>\n",
       "      <td>48180</td>\n",
       "      <td>623</td>\n",
       "      <td>153.0</td>\n",
       "      <td>214.0</td>\n",
       "      <td>5.0</td>\n",
       "      <td>985</td>\n",
       "      <td>143.0</td>\n",
       "      <td>0</td>\n",
       "      <td>0.0</td>\n",
       "      <td>...</td>\n",
       "      <td>0.0</td>\n",
       "      <td>0.0</td>\n",
       "      <td>0.0</td>\n",
       "      <td>0.0</td>\n",
       "      <td>0.0</td>\n",
       "      <td>0.0</td>\n",
       "      <td>0.0</td>\n",
       "      <td>0.0</td>\n",
       "      <td>0.0</td>\n",
       "      <td>0.0</td>\n",
       "    </tr>\n",
       "  </tbody>\n",
       "</table>\n",
       "<p>5 rows × 27 columns</p>\n",
       "</div>"
      ],
      "text/plain": [
       "   Unnamed: 0      id  Flight  AirportFrom  AirportTo  DayOfWeek  Time  \\\n",
       "0           0  400740    3036        135.0       54.0        4.0  1195   \n",
       "1           1  194808     315         79.0      207.0        7.0   707   \n",
       "2           2  526903    6673        253.0      194.0        5.0   499   \n",
       "3           3  477937    3668        217.0      207.0        2.0   810   \n",
       "4           4   48180     623        153.0      214.0        5.0   985   \n",
       "\n",
       "   Length  Delay   XE  ...   DL   9E   MQ   YV   US   EV   B6   OH   HA   F9  \n",
       "0   131.0      0  0.0  ...  0.0  0.0  0.0  0.0  0.0  0.0  0.0  0.0  1.0  0.0  \n",
       "1   145.0      0  0.0  ...  0.0  0.0  0.0  0.0  0.0  1.0  0.0  0.0  0.0  0.0  \n",
       "2    42.0      1  0.0  ...  0.0  0.0  0.0  0.0  1.0  0.0  0.0  0.0  0.0  0.0  \n",
       "3    70.0      1  0.0  ...  0.0  0.0  0.0  0.0  0.0  0.0  0.0  1.0  0.0  0.0  \n",
       "4   143.0      0  0.0  ...  0.0  0.0  0.0  0.0  0.0  0.0  0.0  0.0  0.0  0.0  \n",
       "\n",
       "[5 rows x 27 columns]"
      ]
     },
     "execution_count": 2,
     "metadata": {},
     "output_type": "execute_result"
    }
   ],
   "source": [
    "df_clf = pd.read_csv('./data/df_clf.csv')\n",
    "df_clf.head()"
   ]
  },
  {
   "cell_type": "code",
   "execution_count": 3,
   "id": "ceb3409b",
   "metadata": {
    "scrolled": true
   },
   "outputs": [
    {
     "data": {
      "text/html": [
       "<div>\n",
       "<style scoped>\n",
       "    .dataframe tbody tr th:only-of-type {\n",
       "        vertical-align: middle;\n",
       "    }\n",
       "\n",
       "    .dataframe tbody tr th {\n",
       "        vertical-align: top;\n",
       "    }\n",
       "\n",
       "    .dataframe thead th {\n",
       "        text-align: right;\n",
       "    }\n",
       "</style>\n",
       "<table border=\"1\" class=\"dataframe\">\n",
       "  <thead>\n",
       "    <tr style=\"text-align: right;\">\n",
       "      <th></th>\n",
       "      <th>Unnamed: 0</th>\n",
       "      <th>date</th>\n",
       "      <th>Appliances</th>\n",
       "      <th>lights</th>\n",
       "      <th>T1</th>\n",
       "      <th>RH_1</th>\n",
       "      <th>T2</th>\n",
       "      <th>RH_2</th>\n",
       "      <th>T3</th>\n",
       "      <th>RH_3</th>\n",
       "      <th>...</th>\n",
       "      <th>T8</th>\n",
       "      <th>RH_8</th>\n",
       "      <th>T9</th>\n",
       "      <th>RH_9</th>\n",
       "      <th>T_out</th>\n",
       "      <th>Press_mm_hg</th>\n",
       "      <th>RH_out</th>\n",
       "      <th>Windspeed</th>\n",
       "      <th>Visibility</th>\n",
       "      <th>Tdewpoint</th>\n",
       "    </tr>\n",
       "  </thead>\n",
       "  <tbody>\n",
       "    <tr>\n",
       "      <th>0</th>\n",
       "      <td>0</td>\n",
       "      <td>11-01-2016 17:00</td>\n",
       "      <td>60</td>\n",
       "      <td>30</td>\n",
       "      <td>19.89</td>\n",
       "      <td>47.596667</td>\n",
       "      <td>19.2</td>\n",
       "      <td>44.790000</td>\n",
       "      <td>19.79</td>\n",
       "      <td>44.730000</td>\n",
       "      <td>...</td>\n",
       "      <td>18.2</td>\n",
       "      <td>48.900000</td>\n",
       "      <td>17.033333</td>\n",
       "      <td>45.53</td>\n",
       "      <td>6.60</td>\n",
       "      <td>733.5</td>\n",
       "      <td>92.0</td>\n",
       "      <td>7.000000</td>\n",
       "      <td>63.000000</td>\n",
       "      <td>5.3</td>\n",
       "    </tr>\n",
       "    <tr>\n",
       "      <th>1</th>\n",
       "      <td>1</td>\n",
       "      <td>11-01-2016 17:10</td>\n",
       "      <td>60</td>\n",
       "      <td>30</td>\n",
       "      <td>19.89</td>\n",
       "      <td>46.693333</td>\n",
       "      <td>19.2</td>\n",
       "      <td>44.722500</td>\n",
       "      <td>19.79</td>\n",
       "      <td>44.790000</td>\n",
       "      <td>...</td>\n",
       "      <td>18.2</td>\n",
       "      <td>48.863333</td>\n",
       "      <td>17.066667</td>\n",
       "      <td>45.56</td>\n",
       "      <td>6.48</td>\n",
       "      <td>733.6</td>\n",
       "      <td>92.0</td>\n",
       "      <td>6.666667</td>\n",
       "      <td>59.166667</td>\n",
       "      <td>5.2</td>\n",
       "    </tr>\n",
       "    <tr>\n",
       "      <th>2</th>\n",
       "      <td>2</td>\n",
       "      <td>11-01-2016 17:20</td>\n",
       "      <td>50</td>\n",
       "      <td>30</td>\n",
       "      <td>19.89</td>\n",
       "      <td>46.300000</td>\n",
       "      <td>19.2</td>\n",
       "      <td>44.626667</td>\n",
       "      <td>19.79</td>\n",
       "      <td>44.933333</td>\n",
       "      <td>...</td>\n",
       "      <td>18.2</td>\n",
       "      <td>48.730000</td>\n",
       "      <td>17.000000</td>\n",
       "      <td>45.50</td>\n",
       "      <td>6.37</td>\n",
       "      <td>733.7</td>\n",
       "      <td>92.0</td>\n",
       "      <td>6.333333</td>\n",
       "      <td>55.333333</td>\n",
       "      <td>5.1</td>\n",
       "    </tr>\n",
       "    <tr>\n",
       "      <th>3</th>\n",
       "      <td>3</td>\n",
       "      <td>11-01-2016 17:30</td>\n",
       "      <td>50</td>\n",
       "      <td>40</td>\n",
       "      <td>19.89</td>\n",
       "      <td>46.066667</td>\n",
       "      <td>19.2</td>\n",
       "      <td>44.590000</td>\n",
       "      <td>19.79</td>\n",
       "      <td>45.000000</td>\n",
       "      <td>...</td>\n",
       "      <td>18.1</td>\n",
       "      <td>48.590000</td>\n",
       "      <td>17.000000</td>\n",
       "      <td>45.40</td>\n",
       "      <td>6.25</td>\n",
       "      <td>733.8</td>\n",
       "      <td>92.0</td>\n",
       "      <td>6.000000</td>\n",
       "      <td>51.500000</td>\n",
       "      <td>5.0</td>\n",
       "    </tr>\n",
       "    <tr>\n",
       "      <th>4</th>\n",
       "      <td>4</td>\n",
       "      <td>11-01-2016 17:40</td>\n",
       "      <td>60</td>\n",
       "      <td>40</td>\n",
       "      <td>19.89</td>\n",
       "      <td>46.333333</td>\n",
       "      <td>19.2</td>\n",
       "      <td>44.530000</td>\n",
       "      <td>19.79</td>\n",
       "      <td>45.000000</td>\n",
       "      <td>...</td>\n",
       "      <td>18.1</td>\n",
       "      <td>48.590000</td>\n",
       "      <td>17.000000</td>\n",
       "      <td>45.40</td>\n",
       "      <td>6.13</td>\n",
       "      <td>733.9</td>\n",
       "      <td>92.0</td>\n",
       "      <td>5.666667</td>\n",
       "      <td>47.666667</td>\n",
       "      <td>4.9</td>\n",
       "    </tr>\n",
       "  </tbody>\n",
       "</table>\n",
       "<p>5 rows × 28 columns</p>\n",
       "</div>"
      ],
      "text/plain": [
       "   Unnamed: 0              date  Appliances  lights     T1       RH_1    T2  \\\n",
       "0           0  11-01-2016 17:00          60      30  19.89  47.596667  19.2   \n",
       "1           1  11-01-2016 17:10          60      30  19.89  46.693333  19.2   \n",
       "2           2  11-01-2016 17:20          50      30  19.89  46.300000  19.2   \n",
       "3           3  11-01-2016 17:30          50      40  19.89  46.066667  19.2   \n",
       "4           4  11-01-2016 17:40          60      40  19.89  46.333333  19.2   \n",
       "\n",
       "        RH_2     T3       RH_3  ...    T8       RH_8         T9   RH_9  T_out  \\\n",
       "0  44.790000  19.79  44.730000  ...  18.2  48.900000  17.033333  45.53   6.60   \n",
       "1  44.722500  19.79  44.790000  ...  18.2  48.863333  17.066667  45.56   6.48   \n",
       "2  44.626667  19.79  44.933333  ...  18.2  48.730000  17.000000  45.50   6.37   \n",
       "3  44.590000  19.79  45.000000  ...  18.1  48.590000  17.000000  45.40   6.25   \n",
       "4  44.530000  19.79  45.000000  ...  18.1  48.590000  17.000000  45.40   6.13   \n",
       "\n",
       "   Press_mm_hg  RH_out  Windspeed  Visibility  Tdewpoint  \n",
       "0        733.5    92.0   7.000000   63.000000        5.3  \n",
       "1        733.6    92.0   6.666667   59.166667        5.2  \n",
       "2        733.7    92.0   6.333333   55.333333        5.1  \n",
       "3        733.8    92.0   6.000000   51.500000        5.0  \n",
       "4        733.9    92.0   5.666667   47.666667        4.9  \n",
       "\n",
       "[5 rows x 28 columns]"
      ]
     },
     "execution_count": 3,
     "metadata": {},
     "output_type": "execute_result"
    }
   ],
   "source": [
    "df_reg = pd.read_csv(\"./data/df_reg.csv\")\n",
    "df_reg.head()"
   ]
  },
  {
   "cell_type": "code",
   "execution_count": 4,
   "id": "5f55b54c",
   "metadata": {},
   "outputs": [],
   "source": [
    "df_reg.drop(['Unnamed: 0', 'date'], axis=1, inplace=True)"
   ]
  },
  {
   "cell_type": "code",
   "execution_count": 5,
   "id": "7459dd56",
   "metadata": {},
   "outputs": [],
   "source": [
    "df_clf.drop(['Unnamed: 0'], axis=1, inplace=True)"
   ]
  },
  {
   "cell_type": "markdown",
   "id": "a462c211",
   "metadata": {},
   "source": [
    "# Построение моделей"
   ]
  },
  {
   "cell_type": "markdown",
   "id": "67f80a0c",
   "metadata": {},
   "source": [
    "### DecisionTreeClassifier"
   ]
  },
  {
   "cell_type": "code",
   "execution_count": 6,
   "id": "3a9ce101",
   "metadata": {},
   "outputs": [],
   "source": [
    "X_clf = df_clf.drop(['Delay'], axis=1)\n",
    "y_clf = df_clf['Delay']"
   ]
  },
  {
   "cell_type": "code",
   "execution_count": 7,
   "id": "a48ac2bb",
   "metadata": {},
   "outputs": [],
   "source": [
    "from sklearn.model_selection import train_test_split\n",
    "\n",
    "X_train_clf, X_test_clf, y_train_clf, y_test_clf = train_test_split(X_clf, y_clf, test_size=0.2, random_state=42)"
   ]
  },
  {
   "cell_type": "code",
   "execution_count": 11,
   "id": "defe89bd",
   "metadata": {},
   "outputs": [],
   "source": [
    "params = {'max_depth': range(1, 11),\n",
    "               \"min_samples_split\": range(2, 20),\n",
    "         \"criterion\" : [\"gini\", \"entropy\", \"log_loss\"]}"
   ]
  },
  {
   "cell_type": "code",
   "execution_count": 33,
   "id": "a28db51d",
   "metadata": {},
   "outputs": [],
   "source": [
    "from sklearn.model_selection import RandomizedSearchCV\n",
    "from sklearn.tree import DecisionTreeClassifier\n",
    "\n",
    "clf = RandomizedSearchCV(DecisionTreeClassifier(random_state=42), params).fit(X_train_clf, y_train_clf)"
   ]
  },
  {
   "cell_type": "code",
   "execution_count": 34,
   "id": "3d542962",
   "metadata": {},
   "outputs": [
    {
     "data": {
      "text/plain": [
       "{'min_samples_split': 8, 'max_depth': 10, 'criterion': 'gini'}"
      ]
     },
     "execution_count": 34,
     "metadata": {},
     "output_type": "execute_result"
    }
   ],
   "source": [
    "clf.best_params_"
   ]
  },
  {
   "cell_type": "code",
   "execution_count": 35,
   "id": "fde7b6c9",
   "metadata": {},
   "outputs": [
    {
     "data": {
      "text/plain": [
       "0.8106309679246173"
      ]
     },
     "execution_count": 35,
     "metadata": {},
     "output_type": "execute_result"
    }
   ],
   "source": [
    "clf.best_score_"
   ]
  },
  {
   "cell_type": "code",
   "execution_count": 36,
   "id": "476a4af6",
   "metadata": {},
   "outputs": [],
   "source": [
    "y_pred = clf.predict(X_test_clf)\n",
    "y_prob = clf.predict_proba(X_test_clf)[:, 1]"
   ]
  },
  {
   "cell_type": "code",
   "execution_count": 37,
   "id": "e7f670cd",
   "metadata": {},
   "outputs": [
    {
     "name": "stdout",
     "output_type": "stream",
     "text": [
      "              precision    recall  f1-score   support\n",
      "\n",
      "           0       0.86      0.89      0.88     59563\n",
      "           1       0.64      0.57      0.60     19899\n",
      "\n",
      "    accuracy                           0.81     79462\n",
      "   macro avg       0.75      0.73      0.74     79462\n",
      "weighted avg       0.80      0.81      0.81     79462\n",
      "\n"
     ]
    }
   ],
   "source": [
    "from sklearn.metrics import classification_report, roc_auc_score\n",
    "print(classification_report(y_test_clf, y_pred))"
   ]
  },
  {
   "cell_type": "code",
   "execution_count": 39,
   "id": "97b792e7",
   "metadata": {},
   "outputs": [
    {
     "data": {
      "text/plain": [
       "0.8852346421689155"
      ]
     },
     "execution_count": 39,
     "metadata": {},
     "output_type": "execute_result"
    }
   ],
   "source": [
    "roc_auc_score(y_test_clf, y_prob)"
   ]
  },
  {
   "cell_type": "code",
   "execution_count": 59,
   "id": "c0712b4a",
   "metadata": {},
   "outputs": [],
   "source": [
    "clf = DecisionTreeClassifier(max_depth=4, min_samples_split=13,\n",
    "                             criterion=\"gini\", random_state=42).fit(X_train_clf, y_train_clf)"
   ]
  },
  {
   "cell_type": "code",
   "execution_count": 60,
   "id": "9bb32ed9",
   "metadata": {},
   "outputs": [
    {
     "data": {
      "image/png": "[encoded data removed]",
      "text/plain": [
       "<Figure size 2160x1800 with 1 Axes>"
      ]
     },
     "metadata": {
      "needs_background": "light"
     },
     "output_type": "display_data"
    }
   ],
   "source": [
    "from sklearn.tree import plot_tree\n",
    "fig = plt.figure(figsize=(30,25))\n",
    "DT_plot = plot_tree(clf, feature_names=X_train_clf.columns, filled=True)"
   ]
  },
  {
   "cell_type": "code",
   "execution_count": 23,
   "id": "81ccd9d7",
   "metadata": {},
   "outputs": [],
   "source": [
    "from pycaret.classification import *"
   ]
  },
  {
   "cell_type": "code",
   "execution_count": 24,
   "id": "f2b56248",
   "metadata": {},
   "outputs": [
    {
     "data": {
      "text/html": [
       "<style type=\"text/css\">\n",
       "#T_c492e_row8_col1 {\n",
       "  background-color: lightgreen;\n",
       "}\n",
       "</style>\n",
       "<table id=\"T_c492e\">\n",
       "  <thead>\n",
       "    <tr>\n",
       "      <th class=\"blank level0\" >&nbsp;</th>\n",
       "      <th id=\"T_c492e_level0_col0\" class=\"col_heading level0 col0\" >Description</th>\n",
       "      <th id=\"T_c492e_level0_col1\" class=\"col_heading level0 col1\" >Value</th>\n",
       "    </tr>\n",
       "  </thead>\n",
       "  <tbody>\n",
       "    <tr>\n",
       "      <th id=\"T_c492e_level0_row0\" class=\"row_heading level0 row0\" >0</th>\n",
       "      <td id=\"T_c492e_row0_col0\" class=\"data row0 col0\" >Session id</td>\n",
       "      <td id=\"T_c492e_row0_col1\" class=\"data row0 col1\" >555</td>\n",
       "    </tr>\n",
       "    <tr>\n",
       "      <th id=\"T_c492e_level0_row1\" class=\"row_heading level0 row1\" >1</th>\n",
       "      <td id=\"T_c492e_row1_col0\" class=\"data row1 col0\" >Target</td>\n",
       "      <td id=\"T_c492e_row1_col1\" class=\"data row1 col1\" >Delay</td>\n",
       "    </tr>\n",
       "    <tr>\n",
       "      <th id=\"T_c492e_level0_row2\" class=\"row_heading level0 row2\" >2</th>\n",
       "      <td id=\"T_c492e_row2_col0\" class=\"data row2 col0\" >Target type</td>\n",
       "      <td id=\"T_c492e_row2_col1\" class=\"data row2 col1\" >Binary</td>\n",
       "    </tr>\n",
       "    <tr>\n",
       "      <th id=\"T_c492e_level0_row3\" class=\"row_heading level0 row3\" >3</th>\n",
       "      <td id=\"T_c492e_row3_col0\" class=\"data row3 col0\" >Original data shape</td>\n",
       "      <td id=\"T_c492e_row3_col1\" class=\"data row3 col1\" >(397307, 26)</td>\n",
       "    </tr>\n",
       "    <tr>\n",
       "      <th id=\"T_c492e_level0_row4\" class=\"row_heading level0 row4\" >4</th>\n",
       "      <td id=\"T_c492e_row4_col0\" class=\"data row4 col0\" >Transformed data shape</td>\n",
       "      <td id=\"T_c492e_row4_col1\" class=\"data row4 col1\" >(397307, 26)</td>\n",
       "    </tr>\n",
       "    <tr>\n",
       "      <th id=\"T_c492e_level0_row5\" class=\"row_heading level0 row5\" >5</th>\n",
       "      <td id=\"T_c492e_row5_col0\" class=\"data row5 col0\" >Transformed train set shape</td>\n",
       "      <td id=\"T_c492e_row5_col1\" class=\"data row5 col1\" >(278114, 26)</td>\n",
       "    </tr>\n",
       "    <tr>\n",
       "      <th id=\"T_c492e_level0_row6\" class=\"row_heading level0 row6\" >6</th>\n",
       "      <td id=\"T_c492e_row6_col0\" class=\"data row6 col0\" >Transformed test set shape</td>\n",
       "      <td id=\"T_c492e_row6_col1\" class=\"data row6 col1\" >(119193, 26)</td>\n",
       "    </tr>\n",
       "    <tr>\n",
       "      <th id=\"T_c492e_level0_row7\" class=\"row_heading level0 row7\" >7</th>\n",
       "      <td id=\"T_c492e_row7_col0\" class=\"data row7 col0\" >Numeric features</td>\n",
       "      <td id=\"T_c492e_row7_col1\" class=\"data row7 col1\" >25</td>\n",
       "    </tr>\n",
       "    <tr>\n",
       "      <th id=\"T_c492e_level0_row8\" class=\"row_heading level0 row8\" >8</th>\n",
       "      <td id=\"T_c492e_row8_col0\" class=\"data row8 col0\" >Preprocess</td>\n",
       "      <td id=\"T_c492e_row8_col1\" class=\"data row8 col1\" >True</td>\n",
       "    </tr>\n",
       "    <tr>\n",
       "      <th id=\"T_c492e_level0_row9\" class=\"row_heading level0 row9\" >9</th>\n",
       "      <td id=\"T_c492e_row9_col0\" class=\"data row9 col0\" >Imputation type</td>\n",
       "      <td id=\"T_c492e_row9_col1\" class=\"data row9 col1\" >simple</td>\n",
       "    </tr>\n",
       "    <tr>\n",
       "      <th id=\"T_c492e_level0_row10\" class=\"row_heading level0 row10\" >10</th>\n",
       "      <td id=\"T_c492e_row10_col0\" class=\"data row10 col0\" >Numeric imputation</td>\n",
       "      <td id=\"T_c492e_row10_col1\" class=\"data row10 col1\" >mean</td>\n",
       "    </tr>\n",
       "    <tr>\n",
       "      <th id=\"T_c492e_level0_row11\" class=\"row_heading level0 row11\" >11</th>\n",
       "      <td id=\"T_c492e_row11_col0\" class=\"data row11 col0\" >Categorical imputation</td>\n",
       "      <td id=\"T_c492e_row11_col1\" class=\"data row11 col1\" >mode</td>\n",
       "    </tr>\n",
       "    <tr>\n",
       "      <th id=\"T_c492e_level0_row12\" class=\"row_heading level0 row12\" >12</th>\n",
       "      <td id=\"T_c492e_row12_col0\" class=\"data row12 col0\" >Fold Generator</td>\n",
       "      <td id=\"T_c492e_row12_col1\" class=\"data row12 col1\" >StratifiedKFold</td>\n",
       "    </tr>\n",
       "    <tr>\n",
       "      <th id=\"T_c492e_level0_row13\" class=\"row_heading level0 row13\" >13</th>\n",
       "      <td id=\"T_c492e_row13_col0\" class=\"data row13 col0\" >Fold Number</td>\n",
       "      <td id=\"T_c492e_row13_col1\" class=\"data row13 col1\" >10</td>\n",
       "    </tr>\n",
       "    <tr>\n",
       "      <th id=\"T_c492e_level0_row14\" class=\"row_heading level0 row14\" >14</th>\n",
       "      <td id=\"T_c492e_row14_col0\" class=\"data row14 col0\" >CPU Jobs</td>\n",
       "      <td id=\"T_c492e_row14_col1\" class=\"data row14 col1\" >-1</td>\n",
       "    </tr>\n",
       "    <tr>\n",
       "      <th id=\"T_c492e_level0_row15\" class=\"row_heading level0 row15\" >15</th>\n",
       "      <td id=\"T_c492e_row15_col0\" class=\"data row15 col0\" >Use GPU</td>\n",
       "      <td id=\"T_c492e_row15_col1\" class=\"data row15 col1\" >False</td>\n",
       "    </tr>\n",
       "    <tr>\n",
       "      <th id=\"T_c492e_level0_row16\" class=\"row_heading level0 row16\" >16</th>\n",
       "      <td id=\"T_c492e_row16_col0\" class=\"data row16 col0\" >Log Experiment</td>\n",
       "      <td id=\"T_c492e_row16_col1\" class=\"data row16 col1\" >False</td>\n",
       "    </tr>\n",
       "    <tr>\n",
       "      <th id=\"T_c492e_level0_row17\" class=\"row_heading level0 row17\" >17</th>\n",
       "      <td id=\"T_c492e_row17_col0\" class=\"data row17 col0\" >Experiment Name</td>\n",
       "      <td id=\"T_c492e_row17_col1\" class=\"data row17 col1\" >clf-default-name</td>\n",
       "    </tr>\n",
       "    <tr>\n",
       "      <th id=\"T_c492e_level0_row18\" class=\"row_heading level0 row18\" >18</th>\n",
       "      <td id=\"T_c492e_row18_col0\" class=\"data row18 col0\" >USI</td>\n",
       "      <td id=\"T_c492e_row18_col1\" class=\"data row18 col1\" >9b02</td>\n",
       "    </tr>\n",
       "  </tbody>\n",
       "</table>\n"
      ],
      "text/plain": [
       "<pandas.io.formats.style.Styler at 0x1f051d47be0>"
      ]
     },
     "metadata": {},
     "output_type": "display_data"
    },
    {
     "data": {
      "text/plain": [
       "<pycaret.classification.oop.ClassificationExperiment at 0x1f0521d0d00>"
      ]
     },
     "execution_count": 24,
     "metadata": {},
     "output_type": "execute_result"
    }
   ],
   "source": [
    "setup(data=df_clf,  target='Delay', session_id=555, train_size=0.7, preprocess=True)"
   ]
  },
  {
   "cell_type": "code",
   "execution_count": 25,
   "id": "08b4a293",
   "metadata": {},
   "outputs": [
    {
     "data": {
      "text/html": [
       "<div>\n",
       "<style scoped>\n",
       "    .dataframe tbody tr th:only-of-type {\n",
       "        vertical-align: middle;\n",
       "    }\n",
       "\n",
       "    .dataframe tbody tr th {\n",
       "        vertical-align: top;\n",
       "    }\n",
       "\n",
       "    .dataframe thead th {\n",
       "        text-align: right;\n",
       "    }\n",
       "</style>\n",
       "<table border=\"1\" class=\"dataframe\">\n",
       "  <thead>\n",
       "    <tr style=\"text-align: right;\">\n",
       "      <th></th>\n",
       "      <th>Name</th>\n",
       "      <th>Reference</th>\n",
       "      <th>Turbo</th>\n",
       "    </tr>\n",
       "    <tr>\n",
       "      <th>ID</th>\n",
       "      <th></th>\n",
       "      <th></th>\n",
       "      <th></th>\n",
       "    </tr>\n",
       "  </thead>\n",
       "  <tbody>\n",
       "    <tr>\n",
       "      <th>lr</th>\n",
       "      <td>Logistic Regression</td>\n",
       "      <td>sklearn.linear_model._logistic.LogisticRegression</td>\n",
       "      <td>True</td>\n",
       "    </tr>\n",
       "    <tr>\n",
       "      <th>knn</th>\n",
       "      <td>K Neighbors Classifier</td>\n",
       "      <td>sklearn.neighbors._classification.KNeighborsCl...</td>\n",
       "      <td>True</td>\n",
       "    </tr>\n",
       "    <tr>\n",
       "      <th>nb</th>\n",
       "      <td>Naive Bayes</td>\n",
       "      <td>sklearn.naive_bayes.GaussianNB</td>\n",
       "      <td>True</td>\n",
       "    </tr>\n",
       "    <tr>\n",
       "      <th>dt</th>\n",
       "      <td>Decision Tree Classifier</td>\n",
       "      <td>sklearn.tree._classes.DecisionTreeClassifier</td>\n",
       "      <td>True</td>\n",
       "    </tr>\n",
       "    <tr>\n",
       "      <th>svm</th>\n",
       "      <td>SVM - Linear Kernel</td>\n",
       "      <td>sklearn.linear_model._stochastic_gradient.SGDC...</td>\n",
       "      <td>True</td>\n",
       "    </tr>\n",
       "    <tr>\n",
       "      <th>rbfsvm</th>\n",
       "      <td>SVM - Radial Kernel</td>\n",
       "      <td>sklearn.svm._classes.SVC</td>\n",
       "      <td>False</td>\n",
       "    </tr>\n",
       "    <tr>\n",
       "      <th>gpc</th>\n",
       "      <td>Gaussian Process Classifier</td>\n",
       "      <td>sklearn.gaussian_process._gpc.GaussianProcessC...</td>\n",
       "      <td>False</td>\n",
       "    </tr>\n",
       "    <tr>\n",
       "      <th>mlp</th>\n",
       "      <td>MLP Classifier</td>\n",
       "      <td>sklearn.neural_network._multilayer_perceptron....</td>\n",
       "      <td>False</td>\n",
       "    </tr>\n",
       "    <tr>\n",
       "      <th>ridge</th>\n",
       "      <td>Ridge Classifier</td>\n",
       "      <td>sklearn.linear_model._ridge.RidgeClassifier</td>\n",
       "      <td>True</td>\n",
       "    </tr>\n",
       "    <tr>\n",
       "      <th>rf</th>\n",
       "      <td>Random Forest Classifier</td>\n",
       "      <td>sklearn.ensemble._forest.RandomForestClassifier</td>\n",
       "      <td>True</td>\n",
       "    </tr>\n",
       "    <tr>\n",
       "      <th>qda</th>\n",
       "      <td>Quadratic Discriminant Analysis</td>\n",
       "      <td>sklearn.discriminant_analysis.QuadraticDiscrim...</td>\n",
       "      <td>True</td>\n",
       "    </tr>\n",
       "    <tr>\n",
       "      <th>ada</th>\n",
       "      <td>Ada Boost Classifier</td>\n",
       "      <td>sklearn.ensemble._weight_boosting.AdaBoostClas...</td>\n",
       "      <td>True</td>\n",
       "    </tr>\n",
       "    <tr>\n",
       "      <th>gbc</th>\n",
       "      <td>Gradient Boosting Classifier</td>\n",
       "      <td>sklearn.ensemble._gb.GradientBoostingClassifier</td>\n",
       "      <td>True</td>\n",
       "    </tr>\n",
       "    <tr>\n",
       "      <th>lda</th>\n",
       "      <td>Linear Discriminant Analysis</td>\n",
       "      <td>sklearn.discriminant_analysis.LinearDiscrimina...</td>\n",
       "      <td>True</td>\n",
       "    </tr>\n",
       "    <tr>\n",
       "      <th>et</th>\n",
       "      <td>Extra Trees Classifier</td>\n",
       "      <td>sklearn.ensemble._forest.ExtraTreesClassifier</td>\n",
       "      <td>True</td>\n",
       "    </tr>\n",
       "    <tr>\n",
       "      <th>lightgbm</th>\n",
       "      <td>Light Gradient Boosting Machine</td>\n",
       "      <td>lightgbm.sklearn.LGBMClassifier</td>\n",
       "      <td>True</td>\n",
       "    </tr>\n",
       "    <tr>\n",
       "      <th>dummy</th>\n",
       "      <td>Dummy Classifier</td>\n",
       "      <td>sklearn.dummy.DummyClassifier</td>\n",
       "      <td>True</td>\n",
       "    </tr>\n",
       "  </tbody>\n",
       "</table>\n",
       "</div>"
      ],
      "text/plain": [
       "                                     Name  \\\n",
       "ID                                          \n",
       "lr                    Logistic Regression   \n",
       "knn                K Neighbors Classifier   \n",
       "nb                            Naive Bayes   \n",
       "dt               Decision Tree Classifier   \n",
       "svm                   SVM - Linear Kernel   \n",
       "rbfsvm                SVM - Radial Kernel   \n",
       "gpc           Gaussian Process Classifier   \n",
       "mlp                        MLP Classifier   \n",
       "ridge                    Ridge Classifier   \n",
       "rf               Random Forest Classifier   \n",
       "qda       Quadratic Discriminant Analysis   \n",
       "ada                  Ada Boost Classifier   \n",
       "gbc          Gradient Boosting Classifier   \n",
       "lda          Linear Discriminant Analysis   \n",
       "et                 Extra Trees Classifier   \n",
       "lightgbm  Light Gradient Boosting Machine   \n",
       "dummy                    Dummy Classifier   \n",
       "\n",
       "                                                  Reference  Turbo  \n",
       "ID                                                                  \n",
       "lr        sklearn.linear_model._logistic.LogisticRegression   True  \n",
       "knn       sklearn.neighbors._classification.KNeighborsCl...   True  \n",
       "nb                           sklearn.naive_bayes.GaussianNB   True  \n",
       "dt             sklearn.tree._classes.DecisionTreeClassifier   True  \n",
       "svm       sklearn.linear_model._stochastic_gradient.SGDC...   True  \n",
       "rbfsvm                             sklearn.svm._classes.SVC  False  \n",
       "gpc       sklearn.gaussian_process._gpc.GaussianProcessC...  False  \n",
       "mlp       sklearn.neural_network._multilayer_perceptron....  False  \n",
       "ridge           sklearn.linear_model._ridge.RidgeClassifier   True  \n",
       "rf          sklearn.ensemble._forest.RandomForestClassifier   True  \n",
       "qda       sklearn.discriminant_analysis.QuadraticDiscrim...   True  \n",
       "ada       sklearn.ensemble._weight_boosting.AdaBoostClas...   True  \n",
       "gbc         sklearn.ensemble._gb.GradientBoostingClassifier   True  \n",
       "lda       sklearn.discriminant_analysis.LinearDiscrimina...   True  \n",
       "et            sklearn.ensemble._forest.ExtraTreesClassifier   True  \n",
       "lightgbm                    lightgbm.sklearn.LGBMClassifier   True  \n",
       "dummy                         sklearn.dummy.DummyClassifier   True  "
      ]
     },
     "execution_count": 25,
     "metadata": {},
     "output_type": "execute_result"
    }
   ],
   "source": [
    "models()"
   ]
  },
  {
   "cell_type": "code",
   "execution_count": 26,
   "id": "7be02c1f",
   "metadata": {},
   "outputs": [
    {
     "data": {
      "text/html": [],
      "text/plain": [
       "<IPython.core.display.HTML object>"
      ]
     },
     "metadata": {},
     "output_type": "display_data"
    },
    {
     "data": {
      "text/html": [
       "<style type=\"text/css\">\n",
       "#T_f948b_row10_col0, #T_f948b_row10_col1, #T_f948b_row10_col2, #T_f948b_row10_col3, #T_f948b_row10_col4, #T_f948b_row10_col5, #T_f948b_row10_col6 {\n",
       "  background: yellow;\n",
       "}\n",
       "</style>\n",
       "<table id=\"T_f948b\">\n",
       "  <thead>\n",
       "    <tr>\n",
       "      <th class=\"blank level0\" >&nbsp;</th>\n",
       "      <th id=\"T_f948b_level0_col0\" class=\"col_heading level0 col0\" >Accuracy</th>\n",
       "      <th id=\"T_f948b_level0_col1\" class=\"col_heading level0 col1\" >AUC</th>\n",
       "      <th id=\"T_f948b_level0_col2\" class=\"col_heading level0 col2\" >Recall</th>\n",
       "      <th id=\"T_f948b_level0_col3\" class=\"col_heading level0 col3\" >Prec.</th>\n",
       "      <th id=\"T_f948b_level0_col4\" class=\"col_heading level0 col4\" >F1</th>\n",
       "      <th id=\"T_f948b_level0_col5\" class=\"col_heading level0 col5\" >Kappa</th>\n",
       "      <th id=\"T_f948b_level0_col6\" class=\"col_heading level0 col6\" >MCC</th>\n",
       "    </tr>\n",
       "    <tr>\n",
       "      <th class=\"index_name level0\" >Fold</th>\n",
       "      <th class=\"blank col0\" >&nbsp;</th>\n",
       "      <th class=\"blank col1\" >&nbsp;</th>\n",
       "      <th class=\"blank col2\" >&nbsp;</th>\n",
       "      <th class=\"blank col3\" >&nbsp;</th>\n",
       "      <th class=\"blank col4\" >&nbsp;</th>\n",
       "      <th class=\"blank col5\" >&nbsp;</th>\n",
       "      <th class=\"blank col6\" >&nbsp;</th>\n",
       "    </tr>\n",
       "  </thead>\n",
       "  <tbody>\n",
       "    <tr>\n",
       "      <th id=\"T_f948b_level0_row0\" class=\"row_heading level0 row0\" >0</th>\n",
       "      <td id=\"T_f948b_row0_col0\" class=\"data row0 col0\" >0.7888</td>\n",
       "      <td id=\"T_f948b_row0_col1\" class=\"data row0 col1\" >0.7198</td>\n",
       "      <td id=\"T_f948b_row0_col2\" class=\"data row0 col2\" >0.5805</td>\n",
       "      <td id=\"T_f948b_row0_col3\" class=\"data row0 col3\" >0.5815</td>\n",
       "      <td id=\"T_f948b_row0_col4\" class=\"data row0 col4\" >0.5810</td>\n",
       "      <td id=\"T_f948b_row0_col5\" class=\"data row0 col5\" >0.4399</td>\n",
       "      <td id=\"T_f948b_row0_col6\" class=\"data row0 col6\" >0.4399</td>\n",
       "    </tr>\n",
       "    <tr>\n",
       "      <th id=\"T_f948b_level0_row1\" class=\"row_heading level0 row1\" >1</th>\n",
       "      <td id=\"T_f948b_row1_col0\" class=\"data row1 col0\" >0.7883</td>\n",
       "      <td id=\"T_f948b_row1_col1\" class=\"data row1 col1\" >0.7195</td>\n",
       "      <td id=\"T_f948b_row1_col2\" class=\"data row1 col2\" >0.5808</td>\n",
       "      <td id=\"T_f948b_row1_col3\" class=\"data row1 col3\" >0.5803</td>\n",
       "      <td id=\"T_f948b_row1_col4\" class=\"data row1 col4\" >0.5805</td>\n",
       "      <td id=\"T_f948b_row1_col5\" class=\"data row1 col5\" >0.4389</td>\n",
       "      <td id=\"T_f948b_row1_col6\" class=\"data row1 col6\" >0.4389</td>\n",
       "    </tr>\n",
       "    <tr>\n",
       "      <th id=\"T_f948b_level0_row2\" class=\"row_heading level0 row2\" >2</th>\n",
       "      <td id=\"T_f948b_row2_col0\" class=\"data row2 col0\" >0.7879</td>\n",
       "      <td id=\"T_f948b_row2_col1\" class=\"data row2 col1\" >0.7237</td>\n",
       "      <td id=\"T_f948b_row2_col2\" class=\"data row2 col2\" >0.5942</td>\n",
       "      <td id=\"T_f948b_row2_col3\" class=\"data row2 col3\" >0.5772</td>\n",
       "      <td id=\"T_f948b_row2_col4\" class=\"data row2 col4\" >0.5856</td>\n",
       "      <td id=\"T_f948b_row2_col5\" class=\"data row2 col5\" >0.4430</td>\n",
       "      <td id=\"T_f948b_row2_col6\" class=\"data row2 col6\" >0.4431</td>\n",
       "    </tr>\n",
       "    <tr>\n",
       "      <th id=\"T_f948b_level0_row3\" class=\"row_heading level0 row3\" >3</th>\n",
       "      <td id=\"T_f948b_row3_col0\" class=\"data row3 col0\" >0.7866</td>\n",
       "      <td id=\"T_f948b_row3_col1\" class=\"data row3 col1\" >0.7173</td>\n",
       "      <td id=\"T_f948b_row3_col2\" class=\"data row3 col2\" >0.5775</td>\n",
       "      <td id=\"T_f948b_row3_col3\" class=\"data row3 col3\" >0.5770</td>\n",
       "      <td id=\"T_f948b_row3_col4\" class=\"data row3 col4\" >0.5772</td>\n",
       "      <td id=\"T_f948b_row3_col5\" class=\"data row3 col5\" >0.4345</td>\n",
       "      <td id=\"T_f948b_row3_col6\" class=\"data row3 col6\" >0.4345</td>\n",
       "    </tr>\n",
       "    <tr>\n",
       "      <th id=\"T_f948b_level0_row4\" class=\"row_heading level0 row4\" >4</th>\n",
       "      <td id=\"T_f948b_row4_col0\" class=\"data row4 col0\" >0.7886</td>\n",
       "      <td id=\"T_f948b_row4_col1\" class=\"data row4 col1\" >0.7201</td>\n",
       "      <td id=\"T_f948b_row4_col2\" class=\"data row4 col2\" >0.5819</td>\n",
       "      <td id=\"T_f948b_row4_col3\" class=\"data row4 col3\" >0.5809</td>\n",
       "      <td id=\"T_f948b_row4_col4\" class=\"data row4 col4\" >0.5814</td>\n",
       "      <td id=\"T_f948b_row4_col5\" class=\"data row4 col5\" >0.4400</td>\n",
       "      <td id=\"T_f948b_row4_col6\" class=\"data row4 col6\" >0.4400</td>\n",
       "    </tr>\n",
       "    <tr>\n",
       "      <th id=\"T_f948b_level0_row5\" class=\"row_heading level0 row5\" >5</th>\n",
       "      <td id=\"T_f948b_row5_col0\" class=\"data row5 col0\" >0.7842</td>\n",
       "      <td id=\"T_f948b_row5_col1\" class=\"data row5 col1\" >0.7160</td>\n",
       "      <td id=\"T_f948b_row5_col2\" class=\"data row5 col2\" >0.5785</td>\n",
       "      <td id=\"T_f948b_row5_col3\" class=\"data row5 col3\" >0.5713</td>\n",
       "      <td id=\"T_f948b_row5_col4\" class=\"data row5 col4\" >0.5749</td>\n",
       "      <td id=\"T_f948b_row5_col5\" class=\"data row5 col5\" >0.4303</td>\n",
       "      <td id=\"T_f948b_row5_col6\" class=\"data row5 col6\" >0.4303</td>\n",
       "    </tr>\n",
       "    <tr>\n",
       "      <th id=\"T_f948b_level0_row6\" class=\"row_heading level0 row6\" >6</th>\n",
       "      <td id=\"T_f948b_row6_col0\" class=\"data row6 col0\" >0.7847</td>\n",
       "      <td id=\"T_f948b_row6_col1\" class=\"data row6 col1\" >0.7170</td>\n",
       "      <td id=\"T_f948b_row6_col2\" class=\"data row6 col2\" >0.5803</td>\n",
       "      <td id=\"T_f948b_row6_col3\" class=\"data row6 col3\" >0.5722</td>\n",
       "      <td id=\"T_f948b_row6_col4\" class=\"data row6 col4\" >0.5762</td>\n",
       "      <td id=\"T_f948b_row6_col5\" class=\"data row6 col5\" >0.4319</td>\n",
       "      <td id=\"T_f948b_row6_col6\" class=\"data row6 col6\" >0.4319</td>\n",
       "    </tr>\n",
       "    <tr>\n",
       "      <th id=\"T_f948b_level0_row7\" class=\"row_heading level0 row7\" >7</th>\n",
       "      <td id=\"T_f948b_row7_col0\" class=\"data row7 col0\" >0.7850</td>\n",
       "      <td id=\"T_f948b_row7_col1\" class=\"data row7 col1\" >0.7161</td>\n",
       "      <td id=\"T_f948b_row7_col2\" class=\"data row7 col2\" >0.5770</td>\n",
       "      <td id=\"T_f948b_row7_col3\" class=\"data row7 col3\" >0.5733</td>\n",
       "      <td id=\"T_f948b_row7_col4\" class=\"data row7 col4\" >0.5751</td>\n",
       "      <td id=\"T_f948b_row7_col5\" class=\"data row7 col5\" >0.4312</td>\n",
       "      <td id=\"T_f948b_row7_col6\" class=\"data row7 col6\" >0.4312</td>\n",
       "    </tr>\n",
       "    <tr>\n",
       "      <th id=\"T_f948b_level0_row8\" class=\"row_heading level0 row8\" >8</th>\n",
       "      <td id=\"T_f948b_row8_col0\" class=\"data row8 col0\" >0.7881</td>\n",
       "      <td id=\"T_f948b_row8_col1\" class=\"data row8 col1\" >0.7222</td>\n",
       "      <td id=\"T_f948b_row8_col2\" class=\"data row8 col2\" >0.5891</td>\n",
       "      <td id=\"T_f948b_row8_col3\" class=\"data row8 col3\" >0.5785</td>\n",
       "      <td id=\"T_f948b_row8_col4\" class=\"data row8 col4\" >0.5838</td>\n",
       "      <td id=\"T_f948b_row8_col5\" class=\"data row8 col5\" >0.4417</td>\n",
       "      <td id=\"T_f948b_row8_col6\" class=\"data row8 col6\" >0.4417</td>\n",
       "    </tr>\n",
       "    <tr>\n",
       "      <th id=\"T_f948b_level0_row9\" class=\"row_heading level0 row9\" >9</th>\n",
       "      <td id=\"T_f948b_row9_col0\" class=\"data row9 col0\" >0.7908</td>\n",
       "      <td id=\"T_f948b_row9_col1\" class=\"data row9 col1\" >0.7214</td>\n",
       "      <td id=\"T_f948b_row9_col2\" class=\"data row9 col2\" >0.5816</td>\n",
       "      <td id=\"T_f948b_row9_col3\" class=\"data row9 col3\" >0.5858</td>\n",
       "      <td id=\"T_f948b_row9_col4\" class=\"data row9 col4\" >0.5837</td>\n",
       "      <td id=\"T_f948b_row9_col5\" class=\"data row9 col5\" >0.4439</td>\n",
       "      <td id=\"T_f948b_row9_col6\" class=\"data row9 col6\" >0.4440</td>\n",
       "    </tr>\n",
       "    <tr>\n",
       "      <th id=\"T_f948b_level0_row10\" class=\"row_heading level0 row10\" >Mean</th>\n",
       "      <td id=\"T_f948b_row10_col0\" class=\"data row10 col0\" >0.7873</td>\n",
       "      <td id=\"T_f948b_row10_col1\" class=\"data row10 col1\" >0.7193</td>\n",
       "      <td id=\"T_f948b_row10_col2\" class=\"data row10 col2\" >0.5821</td>\n",
       "      <td id=\"T_f948b_row10_col3\" class=\"data row10 col3\" >0.5778</td>\n",
       "      <td id=\"T_f948b_row10_col4\" class=\"data row10 col4\" >0.5799</td>\n",
       "      <td id=\"T_f948b_row10_col5\" class=\"data row10 col5\" >0.4375</td>\n",
       "      <td id=\"T_f948b_row10_col6\" class=\"data row10 col6\" >0.4376</td>\n",
       "    </tr>\n",
       "    <tr>\n",
       "      <th id=\"T_f948b_level0_row11\" class=\"row_heading level0 row11\" >Std</th>\n",
       "      <td id=\"T_f948b_row11_col0\" class=\"data row11 col0\" >0.0020</td>\n",
       "      <td id=\"T_f948b_row11_col1\" class=\"data row11 col1\" >0.0025</td>\n",
       "      <td id=\"T_f948b_row11_col2\" class=\"data row11 col2\" >0.0051</td>\n",
       "      <td id=\"T_f948b_row11_col3\" class=\"data row11 col3\" >0.0044</td>\n",
       "      <td id=\"T_f948b_row11_col4\" class=\"data row11 col4\" >0.0037</td>\n",
       "      <td id=\"T_f948b_row11_col5\" class=\"data row11 col5\" >0.0049</td>\n",
       "      <td id=\"T_f948b_row11_col6\" class=\"data row11 col6\" >0.0049</td>\n",
       "    </tr>\n",
       "  </tbody>\n",
       "</table>\n"
      ],
      "text/plain": [
       "<pandas.io.formats.style.Styler at 0x1f052438100>"
      ]
     },
     "metadata": {},
     "output_type": "display_data"
    },
    {
     "data": {
      "application/vnd.jupyter.widget-view+json": {
       "model_id": "",
       "version_major": 2,
       "version_minor": 0
      },
      "text/plain": [
       "Processing:   0%|          | 0/4 [00:00<?, ?it/s]"
      ]
     },
     "metadata": {},
     "output_type": "display_data"
    }
   ],
   "source": [
    "dt = create_model(estimator='dt')"
   ]
  },
  {
   "cell_type": "code",
   "execution_count": 27,
   "id": "03632f6a",
   "metadata": {},
   "outputs": [
    {
     "data": {
      "text/html": [],
      "text/plain": [
       "<IPython.core.display.HTML object>"
      ]
     },
     "metadata": {},
     "output_type": "display_data"
    },
    {
     "data": {
      "text/html": [
       "<style type=\"text/css\">\n",
       "#T_41bef_row10_col0, #T_41bef_row10_col1, #T_41bef_row10_col2, #T_41bef_row10_col3, #T_41bef_row10_col4, #T_41bef_row10_col5, #T_41bef_row10_col6 {\n",
       "  background: yellow;\n",
       "}\n",
       "</style>\n",
       "<table id=\"T_41bef\">\n",
       "  <thead>\n",
       "    <tr>\n",
       "      <th class=\"blank level0\" >&nbsp;</th>\n",
       "      <th id=\"T_41bef_level0_col0\" class=\"col_heading level0 col0\" >Accuracy</th>\n",
       "      <th id=\"T_41bef_level0_col1\" class=\"col_heading level0 col1\" >AUC</th>\n",
       "      <th id=\"T_41bef_level0_col2\" class=\"col_heading level0 col2\" >Recall</th>\n",
       "      <th id=\"T_41bef_level0_col3\" class=\"col_heading level0 col3\" >Prec.</th>\n",
       "      <th id=\"T_41bef_level0_col4\" class=\"col_heading level0 col4\" >F1</th>\n",
       "      <th id=\"T_41bef_level0_col5\" class=\"col_heading level0 col5\" >Kappa</th>\n",
       "      <th id=\"T_41bef_level0_col6\" class=\"col_heading level0 col6\" >MCC</th>\n",
       "    </tr>\n",
       "    <tr>\n",
       "      <th class=\"index_name level0\" >Fold</th>\n",
       "      <th class=\"blank col0\" >&nbsp;</th>\n",
       "      <th class=\"blank col1\" >&nbsp;</th>\n",
       "      <th class=\"blank col2\" >&nbsp;</th>\n",
       "      <th class=\"blank col3\" >&nbsp;</th>\n",
       "      <th class=\"blank col4\" >&nbsp;</th>\n",
       "      <th class=\"blank col5\" >&nbsp;</th>\n",
       "      <th class=\"blank col6\" >&nbsp;</th>\n",
       "    </tr>\n",
       "  </thead>\n",
       "  <tbody>\n",
       "    <tr>\n",
       "      <th id=\"T_41bef_level0_row0\" class=\"row_heading level0 row0\" >0</th>\n",
       "      <td id=\"T_41bef_row0_col0\" class=\"data row0 col0\" >0.8077</td>\n",
       "      <td id=\"T_41bef_row0_col1\" class=\"data row0 col1\" >0.8794</td>\n",
       "      <td id=\"T_41bef_row0_col2\" class=\"data row0 col2\" >0.4907</td>\n",
       "      <td id=\"T_41bef_row0_col3\" class=\"data row0 col3\" >0.6596</td>\n",
       "      <td id=\"T_41bef_row0_col4\" class=\"data row0 col4\" >0.5627</td>\n",
       "      <td id=\"T_41bef_row0_col5\" class=\"data row0 col5\" >0.4429</td>\n",
       "      <td id=\"T_41bef_row0_col6\" class=\"data row0 col6\" >0.4508</td>\n",
       "    </tr>\n",
       "    <tr>\n",
       "      <th id=\"T_41bef_level0_row1\" class=\"row_heading level0 row1\" >1</th>\n",
       "      <td id=\"T_41bef_row1_col0\" class=\"data row1 col0\" >0.8084</td>\n",
       "      <td id=\"T_41bef_row1_col1\" class=\"data row1 col1\" >0.8800</td>\n",
       "      <td id=\"T_41bef_row1_col2\" class=\"data row1 col2\" >0.4868</td>\n",
       "      <td id=\"T_41bef_row1_col3\" class=\"data row1 col3\" >0.6639</td>\n",
       "      <td id=\"T_41bef_row1_col4\" class=\"data row1 col4\" >0.5617</td>\n",
       "      <td id=\"T_41bef_row1_col5\" class=\"data row1 col5\" >0.4428</td>\n",
       "      <td id=\"T_41bef_row1_col6\" class=\"data row1 col6\" >0.4515</td>\n",
       "    </tr>\n",
       "    <tr>\n",
       "      <th id=\"T_41bef_level0_row2\" class=\"row_heading level0 row2\" >2</th>\n",
       "      <td id=\"T_41bef_row2_col0\" class=\"data row2 col0\" >0.8093</td>\n",
       "      <td id=\"T_41bef_row2_col1\" class=\"data row2 col1\" >0.8805</td>\n",
       "      <td id=\"T_41bef_row2_col2\" class=\"data row2 col2\" >0.4835</td>\n",
       "      <td id=\"T_41bef_row2_col3\" class=\"data row2 col3\" >0.6688</td>\n",
       "      <td id=\"T_41bef_row2_col4\" class=\"data row2 col4\" >0.5613</td>\n",
       "      <td id=\"T_41bef_row2_col5\" class=\"data row2 col5\" >0.4435</td>\n",
       "      <td id=\"T_41bef_row2_col6\" class=\"data row2 col6\" >0.4530</td>\n",
       "    </tr>\n",
       "    <tr>\n",
       "      <th id=\"T_41bef_level0_row3\" class=\"row_heading level0 row3\" >3</th>\n",
       "      <td id=\"T_41bef_row3_col0\" class=\"data row3 col0\" >0.8061</td>\n",
       "      <td id=\"T_41bef_row3_col1\" class=\"data row3 col1\" >0.8780</td>\n",
       "      <td id=\"T_41bef_row3_col2\" class=\"data row3 col2\" >0.4830</td>\n",
       "      <td id=\"T_41bef_row3_col3\" class=\"data row3 col3\" >0.6572</td>\n",
       "      <td id=\"T_41bef_row3_col4\" class=\"data row3 col4\" >0.5568</td>\n",
       "      <td id=\"T_41bef_row3_col5\" class=\"data row3 col5\" >0.4363</td>\n",
       "      <td id=\"T_41bef_row3_col6\" class=\"data row3 col6\" >0.4448</td>\n",
       "    </tr>\n",
       "    <tr>\n",
       "      <th id=\"T_41bef_level0_row4\" class=\"row_heading level0 row4\" >4</th>\n",
       "      <td id=\"T_41bef_row4_col0\" class=\"data row4 col0\" >0.8073</td>\n",
       "      <td id=\"T_41bef_row4_col1\" class=\"data row4 col1\" >0.8812</td>\n",
       "      <td id=\"T_41bef_row4_col2\" class=\"data row4 col2\" >0.4888</td>\n",
       "      <td id=\"T_41bef_row4_col3\" class=\"data row4 col3\" >0.6590</td>\n",
       "      <td id=\"T_41bef_row4_col4\" class=\"data row4 col4\" >0.5613</td>\n",
       "      <td id=\"T_41bef_row4_col5\" class=\"data row4 col5\" >0.4413</td>\n",
       "      <td id=\"T_41bef_row4_col6\" class=\"data row4 col6\" >0.4494</td>\n",
       "    </tr>\n",
       "    <tr>\n",
       "      <th id=\"T_41bef_level0_row5\" class=\"row_heading level0 row5\" >5</th>\n",
       "      <td id=\"T_41bef_row5_col0\" class=\"data row5 col0\" >0.8063</td>\n",
       "      <td id=\"T_41bef_row5_col1\" class=\"data row5 col1\" >0.8796</td>\n",
       "      <td id=\"T_41bef_row5_col2\" class=\"data row5 col2\" >0.4948</td>\n",
       "      <td id=\"T_41bef_row5_col3\" class=\"data row5 col3\" >0.6532</td>\n",
       "      <td id=\"T_41bef_row5_col4\" class=\"data row5 col4\" >0.5631</td>\n",
       "      <td id=\"T_41bef_row5_col5\" class=\"data row5 col5\" >0.4417</td>\n",
       "      <td id=\"T_41bef_row5_col6\" class=\"data row5 col6\" >0.4487</td>\n",
       "    </tr>\n",
       "    <tr>\n",
       "      <th id=\"T_41bef_level0_row6\" class=\"row_heading level0 row6\" >6</th>\n",
       "      <td id=\"T_41bef_row6_col0\" class=\"data row6 col0\" >0.8105</td>\n",
       "      <td id=\"T_41bef_row6_col1\" class=\"data row6 col1\" >0.8822</td>\n",
       "      <td id=\"T_41bef_row6_col2\" class=\"data row6 col2\" >0.4978</td>\n",
       "      <td id=\"T_41bef_row6_col3\" class=\"data row6 col3\" >0.6664</td>\n",
       "      <td id=\"T_41bef_row6_col4\" class=\"data row6 col4\" >0.5699</td>\n",
       "      <td id=\"T_41bef_row6_col5\" class=\"data row6 col5\" >0.4516</td>\n",
       "      <td id=\"T_41bef_row6_col6\" class=\"data row6 col6\" >0.4595</td>\n",
       "    </tr>\n",
       "    <tr>\n",
       "      <th id=\"T_41bef_level0_row7\" class=\"row_heading level0 row7\" >7</th>\n",
       "      <td id=\"T_41bef_row7_col0\" class=\"data row7 col0\" >0.8063</td>\n",
       "      <td id=\"T_41bef_row7_col1\" class=\"data row7 col1\" >0.8786</td>\n",
       "      <td id=\"T_41bef_row7_col2\" class=\"data row7 col2\" >0.4885</td>\n",
       "      <td id=\"T_41bef_row7_col3\" class=\"data row7 col3\" >0.6556</td>\n",
       "      <td id=\"T_41bef_row7_col4\" class=\"data row7 col4\" >0.5598</td>\n",
       "      <td id=\"T_41bef_row7_col5\" class=\"data row7 col5\" >0.4390</td>\n",
       "      <td id=\"T_41bef_row7_col6\" class=\"data row7 col6\" >0.4468</td>\n",
       "    </tr>\n",
       "    <tr>\n",
       "      <th id=\"T_41bef_level0_row8\" class=\"row_heading level0 row8\" >8</th>\n",
       "      <td id=\"T_41bef_row8_col0\" class=\"data row8 col0\" >0.8062</td>\n",
       "      <td id=\"T_41bef_row8_col1\" class=\"data row8 col1\" >0.8795</td>\n",
       "      <td id=\"T_41bef_row8_col2\" class=\"data row8 col2\" >0.4472</td>\n",
       "      <td id=\"T_41bef_row8_col3\" class=\"data row8 col3\" >0.6746</td>\n",
       "      <td id=\"T_41bef_row8_col4\" class=\"data row8 col4\" >0.5379</td>\n",
       "      <td id=\"T_41bef_row8_col5\" class=\"data row8 col5\" >0.4216</td>\n",
       "      <td id=\"T_41bef_row8_col6\" class=\"data row8 col6\" >0.4358</td>\n",
       "    </tr>\n",
       "    <tr>\n",
       "      <th id=\"T_41bef_level0_row9\" class=\"row_heading level0 row9\" >9</th>\n",
       "      <td id=\"T_41bef_row9_col0\" class=\"data row9 col0\" >0.8117</td>\n",
       "      <td id=\"T_41bef_row9_col1\" class=\"data row9 col1\" >0.8841</td>\n",
       "      <td id=\"T_41bef_row9_col2\" class=\"data row9 col2\" >0.4989</td>\n",
       "      <td id=\"T_41bef_row9_col3\" class=\"data row9 col3\" >0.6700</td>\n",
       "      <td id=\"T_41bef_row9_col4\" class=\"data row9 col4\" >0.5719</td>\n",
       "      <td id=\"T_41bef_row9_col5\" class=\"data row9 col5\" >0.4545</td>\n",
       "      <td id=\"T_41bef_row9_col6\" class=\"data row9 col6\" >0.4626</td>\n",
       "    </tr>\n",
       "    <tr>\n",
       "      <th id=\"T_41bef_level0_row10\" class=\"row_heading level0 row10\" >Mean</th>\n",
       "      <td id=\"T_41bef_row10_col0\" class=\"data row10 col0\" >0.8080</td>\n",
       "      <td id=\"T_41bef_row10_col1\" class=\"data row10 col1\" >0.8803</td>\n",
       "      <td id=\"T_41bef_row10_col2\" class=\"data row10 col2\" >0.4860</td>\n",
       "      <td id=\"T_41bef_row10_col3\" class=\"data row10 col3\" >0.6628</td>\n",
       "      <td id=\"T_41bef_row10_col4\" class=\"data row10 col4\" >0.5606</td>\n",
       "      <td id=\"T_41bef_row10_col5\" class=\"data row10 col5\" >0.4415</td>\n",
       "      <td id=\"T_41bef_row10_col6\" class=\"data row10 col6\" >0.4503</td>\n",
       "    </tr>\n",
       "    <tr>\n",
       "      <th id=\"T_41bef_level0_row11\" class=\"row_heading level0 row11\" >Std</th>\n",
       "      <td id=\"T_41bef_row11_col0\" class=\"data row11 col0\" >0.0019</td>\n",
       "      <td id=\"T_41bef_row11_col1\" class=\"data row11 col1\" >0.0017</td>\n",
       "      <td id=\"T_41bef_row11_col2\" class=\"data row11 col2\" >0.0139</td>\n",
       "      <td id=\"T_41bef_row11_col3\" class=\"data row11 col3\" >0.0066</td>\n",
       "      <td id=\"T_41bef_row11_col4\" class=\"data row11 col4\" >0.0087</td>\n",
       "      <td id=\"T_41bef_row11_col5\" class=\"data row11 col5\" >0.0084</td>\n",
       "      <td id=\"T_41bef_row11_col6\" class=\"data row11 col6\" >0.0071</td>\n",
       "    </tr>\n",
       "  </tbody>\n",
       "</table>\n"
      ],
      "text/plain": [
       "<pandas.io.formats.style.Styler at 0x1f0509a6a40>"
      ]
     },
     "metadata": {},
     "output_type": "display_data"
    },
    {
     "data": {
      "application/vnd.jupyter.widget-view+json": {
       "model_id": "",
       "version_major": 2,
       "version_minor": 0
      },
      "text/plain": [
       "Processing:   0%|          | 0/7 [00:00<?, ?it/s]"
      ]
     },
     "metadata": {},
     "output_type": "display_data"
    },
    {
     "name": "stdout",
     "output_type": "stream",
     "text": [
      "Fitting 10 folds for each of 10 candidates, totalling 100 fits\n"
     ]
    }
   ],
   "source": [
    "tuned_dt = tune_model(dt)"
   ]
  },
  {
   "cell_type": "markdown",
   "id": "6e95af5d",
   "metadata": {},
   "source": [
    "### DecisionTreeRegressor"
   ]
  },
  {
   "cell_type": "code",
   "execution_count": 41,
   "id": "b653f742",
   "metadata": {},
   "outputs": [],
   "source": [
    "params = {'max_depth': range(1, 11),\n",
    "               \"min_samples_split\": range(2, 20),\n",
    "         \"criterion\" : [\"squared_error\", \"friedman_mse\", \"absolute_error\", \"poisson\"],}"
   ]
  },
  {
   "cell_type": "code",
   "execution_count": 13,
   "id": "168fe5ff",
   "metadata": {},
   "outputs": [],
   "source": [
    "X_reg = df_reg.drop(['Appliances'], axis=1)\n",
    "y_reg = df_reg['Appliances']"
   ]
  },
  {
   "cell_type": "code",
   "execution_count": 14,
   "id": "6058106e",
   "metadata": {},
   "outputs": [],
   "source": [
    "X_train_reg, X_test_reg, y_train_reg, y_test_reg = train_test_split(X_reg, y_reg, test_size=0.2)"
   ]
  },
  {
   "cell_type": "code",
   "execution_count": 42,
   "id": "10b06361",
   "metadata": {},
   "outputs": [],
   "source": [
    "from sklearn.model_selection import RandomizedSearchCV\n",
    "from sklearn.tree import DecisionTreeRegressor\n",
    "\n",
    "reg = RandomizedSearchCV(DecisionTreeRegressor(random_state=42), params).fit(X_train_reg, y_train_reg)"
   ]
  },
  {
   "cell_type": "code",
   "execution_count": 43,
   "id": "3d0dd417",
   "metadata": {},
   "outputs": [
    {
     "data": {
      "text/plain": [
       "{'min_samples_split': 17, 'max_depth': 8, 'criterion': 'friedman_mse'}"
      ]
     },
     "execution_count": 43,
     "metadata": {},
     "output_type": "execute_result"
    }
   ],
   "source": [
    "reg.best_params_"
   ]
  },
  {
   "cell_type": "code",
   "execution_count": 44,
   "id": "c5a02bde",
   "metadata": {},
   "outputs": [
    {
     "data": {
      "text/plain": [
       "0.1649220886328826"
      ]
     },
     "execution_count": 44,
     "metadata": {},
     "output_type": "execute_result"
    }
   ],
   "source": [
    "reg.best_score_"
   ]
  },
  {
   "cell_type": "code",
   "execution_count": 45,
   "id": "6123582f",
   "metadata": {},
   "outputs": [],
   "source": [
    "y_pred = reg.predict(X_test_reg)"
   ]
  },
  {
   "cell_type": "code",
   "execution_count": 46,
   "id": "9ca547a9",
   "metadata": {},
   "outputs": [
    {
     "data": {
      "text/plain": [
       "9225.29"
      ]
     },
     "execution_count": 46,
     "metadata": {},
     "output_type": "execute_result"
    }
   ],
   "source": [
    "MSE_test = round(np.mean(np.square(y_test_reg - y_pred)),2)\n",
    "MSE_test"
   ]
  },
  {
   "cell_type": "code",
   "execution_count": 94,
   "id": "8131ead3",
   "metadata": {},
   "outputs": [],
   "source": [
    "reg = DecisionTreeRegressor(max_depth=4, min_samples_split=4,\n",
    "                             criterion=\"poisson\", random_state=42).fit(X_train_reg, y_train_reg)"
   ]
  },
  {
   "cell_type": "code",
   "execution_count": 96,
   "id": "a0c66c99",
   "metadata": {},
   "outputs": [
    {
     "data": {
      "image/png": "[encoded data removed]",
      "text/plain": [
       "<Figure size 2160x1800 with 1 Axes>"
      ]
     },
     "metadata": {
      "needs_background": "light"
     },
     "output_type": "display_data"
    }
   ],
   "source": [
    "from sklearn.tree import plot_tree\n",
    "fig = plt.figure(figsize=(30,25))\n",
    "DT_plot = plot_tree(reg, feature_names=X_train_reg.columns, filled=True)"
   ]
  },
  {
   "cell_type": "code",
   "execution_count": 28,
   "id": "96fa3b62",
   "metadata": {},
   "outputs": [],
   "source": [
    "from pycaret.regression import *"
   ]
  },
  {
   "cell_type": "code",
   "execution_count": 29,
   "id": "e968ac22",
   "metadata": {},
   "outputs": [
    {
     "data": {
      "text/html": [
       "<style type=\"text/css\">\n",
       "#T_f1f36_row9_col1 {\n",
       "  background-color: lightgreen;\n",
       "}\n",
       "</style>\n",
       "<table id=\"T_f1f36\">\n",
       "  <thead>\n",
       "    <tr>\n",
       "      <th class=\"blank level0\" >&nbsp;</th>\n",
       "      <th id=\"T_f1f36_level0_col0\" class=\"col_heading level0 col0\" >Description</th>\n",
       "      <th id=\"T_f1f36_level0_col1\" class=\"col_heading level0 col1\" >Value</th>\n",
       "    </tr>\n",
       "  </thead>\n",
       "  <tbody>\n",
       "    <tr>\n",
       "      <th id=\"T_f1f36_level0_row0\" class=\"row_heading level0 row0\" >0</th>\n",
       "      <td id=\"T_f1f36_row0_col0\" class=\"data row0 col0\" >Session id</td>\n",
       "      <td id=\"T_f1f36_row0_col1\" class=\"data row0 col1\" >555</td>\n",
       "    </tr>\n",
       "    <tr>\n",
       "      <th id=\"T_f1f36_level0_row1\" class=\"row_heading level0 row1\" >1</th>\n",
       "      <td id=\"T_f1f36_row1_col0\" class=\"data row1 col0\" >Target</td>\n",
       "      <td id=\"T_f1f36_row1_col1\" class=\"data row1 col1\" >Appliances</td>\n",
       "    </tr>\n",
       "    <tr>\n",
       "      <th id=\"T_f1f36_level0_row2\" class=\"row_heading level0 row2\" >2</th>\n",
       "      <td id=\"T_f1f36_row2_col0\" class=\"data row2 col0\" >Target type</td>\n",
       "      <td id=\"T_f1f36_row2_col1\" class=\"data row2 col1\" >Regression</td>\n",
       "    </tr>\n",
       "    <tr>\n",
       "      <th id=\"T_f1f36_level0_row3\" class=\"row_heading level0 row3\" >3</th>\n",
       "      <td id=\"T_f1f36_row3_col0\" class=\"data row3 col0\" >Original data shape</td>\n",
       "      <td id=\"T_f1f36_row3_col1\" class=\"data row3 col1\" >(18538, 27)</td>\n",
       "    </tr>\n",
       "    <tr>\n",
       "      <th id=\"T_f1f36_level0_row4\" class=\"row_heading level0 row4\" >4</th>\n",
       "      <td id=\"T_f1f36_row4_col0\" class=\"data row4 col0\" >Transformed data shape</td>\n",
       "      <td id=\"T_f1f36_row4_col1\" class=\"data row4 col1\" >(18538, 26)</td>\n",
       "    </tr>\n",
       "    <tr>\n",
       "      <th id=\"T_f1f36_level0_row5\" class=\"row_heading level0 row5\" >5</th>\n",
       "      <td id=\"T_f1f36_row5_col0\" class=\"data row5 col0\" >Transformed train set shape</td>\n",
       "      <td id=\"T_f1f36_row5_col1\" class=\"data row5 col1\" >(12976, 26)</td>\n",
       "    </tr>\n",
       "    <tr>\n",
       "      <th id=\"T_f1f36_level0_row6\" class=\"row_heading level0 row6\" >6</th>\n",
       "      <td id=\"T_f1f36_row6_col0\" class=\"data row6 col0\" >Transformed test set shape</td>\n",
       "      <td id=\"T_f1f36_row6_col1\" class=\"data row6 col1\" >(5562, 26)</td>\n",
       "    </tr>\n",
       "    <tr>\n",
       "      <th id=\"T_f1f36_level0_row7\" class=\"row_heading level0 row7\" >7</th>\n",
       "      <td id=\"T_f1f36_row7_col0\" class=\"data row7 col0\" >Ignore features</td>\n",
       "      <td id=\"T_f1f36_row7_col1\" class=\"data row7 col1\" >1</td>\n",
       "    </tr>\n",
       "    <tr>\n",
       "      <th id=\"T_f1f36_level0_row8\" class=\"row_heading level0 row8\" >8</th>\n",
       "      <td id=\"T_f1f36_row8_col0\" class=\"data row8 col0\" >Numeric features</td>\n",
       "      <td id=\"T_f1f36_row8_col1\" class=\"data row8 col1\" >25</td>\n",
       "    </tr>\n",
       "    <tr>\n",
       "      <th id=\"T_f1f36_level0_row9\" class=\"row_heading level0 row9\" >9</th>\n",
       "      <td id=\"T_f1f36_row9_col0\" class=\"data row9 col0\" >Preprocess</td>\n",
       "      <td id=\"T_f1f36_row9_col1\" class=\"data row9 col1\" >True</td>\n",
       "    </tr>\n",
       "    <tr>\n",
       "      <th id=\"T_f1f36_level0_row10\" class=\"row_heading level0 row10\" >10</th>\n",
       "      <td id=\"T_f1f36_row10_col0\" class=\"data row10 col0\" >Imputation type</td>\n",
       "      <td id=\"T_f1f36_row10_col1\" class=\"data row10 col1\" >simple</td>\n",
       "    </tr>\n",
       "    <tr>\n",
       "      <th id=\"T_f1f36_level0_row11\" class=\"row_heading level0 row11\" >11</th>\n",
       "      <td id=\"T_f1f36_row11_col0\" class=\"data row11 col0\" >Numeric imputation</td>\n",
       "      <td id=\"T_f1f36_row11_col1\" class=\"data row11 col1\" >mean</td>\n",
       "    </tr>\n",
       "    <tr>\n",
       "      <th id=\"T_f1f36_level0_row12\" class=\"row_heading level0 row12\" >12</th>\n",
       "      <td id=\"T_f1f36_row12_col0\" class=\"data row12 col0\" >Categorical imputation</td>\n",
       "      <td id=\"T_f1f36_row12_col1\" class=\"data row12 col1\" >mode</td>\n",
       "    </tr>\n",
       "    <tr>\n",
       "      <th id=\"T_f1f36_level0_row13\" class=\"row_heading level0 row13\" >13</th>\n",
       "      <td id=\"T_f1f36_row13_col0\" class=\"data row13 col0\" >Fold Generator</td>\n",
       "      <td id=\"T_f1f36_row13_col1\" class=\"data row13 col1\" >KFold</td>\n",
       "    </tr>\n",
       "    <tr>\n",
       "      <th id=\"T_f1f36_level0_row14\" class=\"row_heading level0 row14\" >14</th>\n",
       "      <td id=\"T_f1f36_row14_col0\" class=\"data row14 col0\" >Fold Number</td>\n",
       "      <td id=\"T_f1f36_row14_col1\" class=\"data row14 col1\" >10</td>\n",
       "    </tr>\n",
       "    <tr>\n",
       "      <th id=\"T_f1f36_level0_row15\" class=\"row_heading level0 row15\" >15</th>\n",
       "      <td id=\"T_f1f36_row15_col0\" class=\"data row15 col0\" >CPU Jobs</td>\n",
       "      <td id=\"T_f1f36_row15_col1\" class=\"data row15 col1\" >-1</td>\n",
       "    </tr>\n",
       "    <tr>\n",
       "      <th id=\"T_f1f36_level0_row16\" class=\"row_heading level0 row16\" >16</th>\n",
       "      <td id=\"T_f1f36_row16_col0\" class=\"data row16 col0\" >Use GPU</td>\n",
       "      <td id=\"T_f1f36_row16_col1\" class=\"data row16 col1\" >False</td>\n",
       "    </tr>\n",
       "    <tr>\n",
       "      <th id=\"T_f1f36_level0_row17\" class=\"row_heading level0 row17\" >17</th>\n",
       "      <td id=\"T_f1f36_row17_col0\" class=\"data row17 col0\" >Log Experiment</td>\n",
       "      <td id=\"T_f1f36_row17_col1\" class=\"data row17 col1\" >False</td>\n",
       "    </tr>\n",
       "    <tr>\n",
       "      <th id=\"T_f1f36_level0_row18\" class=\"row_heading level0 row18\" >18</th>\n",
       "      <td id=\"T_f1f36_row18_col0\" class=\"data row18 col0\" >Experiment Name</td>\n",
       "      <td id=\"T_f1f36_row18_col1\" class=\"data row18 col1\" >reg-default-name</td>\n",
       "    </tr>\n",
       "    <tr>\n",
       "      <th id=\"T_f1f36_level0_row19\" class=\"row_heading level0 row19\" >19</th>\n",
       "      <td id=\"T_f1f36_row19_col0\" class=\"data row19 col0\" >USI</td>\n",
       "      <td id=\"T_f1f36_row19_col1\" class=\"data row19 col1\" >8435</td>\n",
       "    </tr>\n",
       "  </tbody>\n",
       "</table>\n"
      ],
      "text/plain": [
       "<pandas.io.formats.style.Styler at 0x1f05380ba60>"
      ]
     },
     "metadata": {},
     "output_type": "display_data"
    },
    {
     "data": {
      "text/plain": [
       "<pycaret.regression.oop.RegressionExperiment at 0x1f052148d60>"
      ]
     },
     "execution_count": 29,
     "metadata": {},
     "output_type": "execute_result"
    }
   ],
   "source": [
    "setup(data=df_reg,  target='Appliances', ignore_features=['date'], session_id=555, train_size=0.7, preprocess=True)"
   ]
  },
  {
   "cell_type": "code",
   "execution_count": 30,
   "id": "46580c7c",
   "metadata": {},
   "outputs": [
    {
     "data": {
      "text/html": [
       "<div>\n",
       "<style scoped>\n",
       "    .dataframe tbody tr th:only-of-type {\n",
       "        vertical-align: middle;\n",
       "    }\n",
       "\n",
       "    .dataframe tbody tr th {\n",
       "        vertical-align: top;\n",
       "    }\n",
       "\n",
       "    .dataframe thead th {\n",
       "        text-align: right;\n",
       "    }\n",
       "</style>\n",
       "<table border=\"1\" class=\"dataframe\">\n",
       "  <thead>\n",
       "    <tr style=\"text-align: right;\">\n",
       "      <th></th>\n",
       "      <th>Name</th>\n",
       "      <th>Reference</th>\n",
       "      <th>Turbo</th>\n",
       "    </tr>\n",
       "    <tr>\n",
       "      <th>ID</th>\n",
       "      <th></th>\n",
       "      <th></th>\n",
       "      <th></th>\n",
       "    </tr>\n",
       "  </thead>\n",
       "  <tbody>\n",
       "    <tr>\n",
       "      <th>lr</th>\n",
       "      <td>Linear Regression</td>\n",
       "      <td>sklearn.linear_model._base.LinearRegression</td>\n",
       "      <td>True</td>\n",
       "    </tr>\n",
       "    <tr>\n",
       "      <th>lasso</th>\n",
       "      <td>Lasso Regression</td>\n",
       "      <td>sklearn.linear_model._coordinate_descent.Lasso</td>\n",
       "      <td>True</td>\n",
       "    </tr>\n",
       "    <tr>\n",
       "      <th>ridge</th>\n",
       "      <td>Ridge Regression</td>\n",
       "      <td>sklearn.linear_model._ridge.Ridge</td>\n",
       "      <td>True</td>\n",
       "    </tr>\n",
       "    <tr>\n",
       "      <th>en</th>\n",
       "      <td>Elastic Net</td>\n",
       "      <td>sklearn.linear_model._coordinate_descent.Elast...</td>\n",
       "      <td>True</td>\n",
       "    </tr>\n",
       "    <tr>\n",
       "      <th>lar</th>\n",
       "      <td>Least Angle Regression</td>\n",
       "      <td>sklearn.linear_model._least_angle.Lars</td>\n",
       "      <td>True</td>\n",
       "    </tr>\n",
       "    <tr>\n",
       "      <th>llar</th>\n",
       "      <td>Lasso Least Angle Regression</td>\n",
       "      <td>sklearn.linear_model._least_angle.LassoLars</td>\n",
       "      <td>True</td>\n",
       "    </tr>\n",
       "    <tr>\n",
       "      <th>omp</th>\n",
       "      <td>Orthogonal Matching Pursuit</td>\n",
       "      <td>sklearn.linear_model._omp.OrthogonalMatchingPu...</td>\n",
       "      <td>True</td>\n",
       "    </tr>\n",
       "    <tr>\n",
       "      <th>br</th>\n",
       "      <td>Bayesian Ridge</td>\n",
       "      <td>sklearn.linear_model._bayes.BayesianRidge</td>\n",
       "      <td>True</td>\n",
       "    </tr>\n",
       "    <tr>\n",
       "      <th>ard</th>\n",
       "      <td>Automatic Relevance Determination</td>\n",
       "      <td>sklearn.linear_model._bayes.ARDRegression</td>\n",
       "      <td>False</td>\n",
       "    </tr>\n",
       "    <tr>\n",
       "      <th>par</th>\n",
       "      <td>Passive Aggressive Regressor</td>\n",
       "      <td>sklearn.linear_model._passive_aggressive.Passi...</td>\n",
       "      <td>True</td>\n",
       "    </tr>\n",
       "    <tr>\n",
       "      <th>ransac</th>\n",
       "      <td>Random Sample Consensus</td>\n",
       "      <td>sklearn.linear_model._ransac.RANSACRegressor</td>\n",
       "      <td>False</td>\n",
       "    </tr>\n",
       "    <tr>\n",
       "      <th>tr</th>\n",
       "      <td>TheilSen Regressor</td>\n",
       "      <td>sklearn.linear_model._theil_sen.TheilSenRegressor</td>\n",
       "      <td>False</td>\n",
       "    </tr>\n",
       "    <tr>\n",
       "      <th>huber</th>\n",
       "      <td>Huber Regressor</td>\n",
       "      <td>sklearn.linear_model._huber.HuberRegressor</td>\n",
       "      <td>True</td>\n",
       "    </tr>\n",
       "    <tr>\n",
       "      <th>kr</th>\n",
       "      <td>Kernel Ridge</td>\n",
       "      <td>sklearn.kernel_ridge.KernelRidge</td>\n",
       "      <td>False</td>\n",
       "    </tr>\n",
       "    <tr>\n",
       "      <th>svm</th>\n",
       "      <td>Support Vector Regression</td>\n",
       "      <td>sklearn.svm._classes.SVR</td>\n",
       "      <td>False</td>\n",
       "    </tr>\n",
       "    <tr>\n",
       "      <th>knn</th>\n",
       "      <td>K Neighbors Regressor</td>\n",
       "      <td>sklearn.neighbors._regression.KNeighborsRegressor</td>\n",
       "      <td>True</td>\n",
       "    </tr>\n",
       "    <tr>\n",
       "      <th>dt</th>\n",
       "      <td>Decision Tree Regressor</td>\n",
       "      <td>sklearn.tree._classes.DecisionTreeRegressor</td>\n",
       "      <td>True</td>\n",
       "    </tr>\n",
       "    <tr>\n",
       "      <th>rf</th>\n",
       "      <td>Random Forest Regressor</td>\n",
       "      <td>sklearn.ensemble._forest.RandomForestRegressor</td>\n",
       "      <td>True</td>\n",
       "    </tr>\n",
       "    <tr>\n",
       "      <th>et</th>\n",
       "      <td>Extra Trees Regressor</td>\n",
       "      <td>sklearn.ensemble._forest.ExtraTreesRegressor</td>\n",
       "      <td>True</td>\n",
       "    </tr>\n",
       "    <tr>\n",
       "      <th>ada</th>\n",
       "      <td>AdaBoost Regressor</td>\n",
       "      <td>sklearn.ensemble._weight_boosting.AdaBoostRegr...</td>\n",
       "      <td>True</td>\n",
       "    </tr>\n",
       "    <tr>\n",
       "      <th>gbr</th>\n",
       "      <td>Gradient Boosting Regressor</td>\n",
       "      <td>sklearn.ensemble._gb.GradientBoostingRegressor</td>\n",
       "      <td>True</td>\n",
       "    </tr>\n",
       "    <tr>\n",
       "      <th>mlp</th>\n",
       "      <td>MLP Regressor</td>\n",
       "      <td>sklearn.neural_network._multilayer_perceptron....</td>\n",
       "      <td>False</td>\n",
       "    </tr>\n",
       "    <tr>\n",
       "      <th>lightgbm</th>\n",
       "      <td>Light Gradient Boosting Machine</td>\n",
       "      <td>lightgbm.sklearn.LGBMRegressor</td>\n",
       "      <td>True</td>\n",
       "    </tr>\n",
       "    <tr>\n",
       "      <th>dummy</th>\n",
       "      <td>Dummy Regressor</td>\n",
       "      <td>sklearn.dummy.DummyRegressor</td>\n",
       "      <td>True</td>\n",
       "    </tr>\n",
       "  </tbody>\n",
       "</table>\n",
       "</div>"
      ],
      "text/plain": [
       "                                       Name  \\\n",
       "ID                                            \n",
       "lr                        Linear Regression   \n",
       "lasso                      Lasso Regression   \n",
       "ridge                      Ridge Regression   \n",
       "en                              Elastic Net   \n",
       "lar                  Least Angle Regression   \n",
       "llar           Lasso Least Angle Regression   \n",
       "omp             Orthogonal Matching Pursuit   \n",
       "br                           Bayesian Ridge   \n",
       "ard       Automatic Relevance Determination   \n",
       "par            Passive Aggressive Regressor   \n",
       "ransac              Random Sample Consensus   \n",
       "tr                       TheilSen Regressor   \n",
       "huber                       Huber Regressor   \n",
       "kr                             Kernel Ridge   \n",
       "svm               Support Vector Regression   \n",
       "knn                   K Neighbors Regressor   \n",
       "dt                  Decision Tree Regressor   \n",
       "rf                  Random Forest Regressor   \n",
       "et                    Extra Trees Regressor   \n",
       "ada                      AdaBoost Regressor   \n",
       "gbr             Gradient Boosting Regressor   \n",
       "mlp                           MLP Regressor   \n",
       "lightgbm    Light Gradient Boosting Machine   \n",
       "dummy                       Dummy Regressor   \n",
       "\n",
       "                                                  Reference  Turbo  \n",
       "ID                                                                  \n",
       "lr              sklearn.linear_model._base.LinearRegression   True  \n",
       "lasso        sklearn.linear_model._coordinate_descent.Lasso   True  \n",
       "ridge                     sklearn.linear_model._ridge.Ridge   True  \n",
       "en        sklearn.linear_model._coordinate_descent.Elast...   True  \n",
       "lar                  sklearn.linear_model._least_angle.Lars   True  \n",
       "llar            sklearn.linear_model._least_angle.LassoLars   True  \n",
       "omp       sklearn.linear_model._omp.OrthogonalMatchingPu...   True  \n",
       "br                sklearn.linear_model._bayes.BayesianRidge   True  \n",
       "ard               sklearn.linear_model._bayes.ARDRegression  False  \n",
       "par       sklearn.linear_model._passive_aggressive.Passi...   True  \n",
       "ransac         sklearn.linear_model._ransac.RANSACRegressor  False  \n",
       "tr        sklearn.linear_model._theil_sen.TheilSenRegressor  False  \n",
       "huber            sklearn.linear_model._huber.HuberRegressor   True  \n",
       "kr                         sklearn.kernel_ridge.KernelRidge  False  \n",
       "svm                                sklearn.svm._classes.SVR  False  \n",
       "knn       sklearn.neighbors._regression.KNeighborsRegressor   True  \n",
       "dt              sklearn.tree._classes.DecisionTreeRegressor   True  \n",
       "rf           sklearn.ensemble._forest.RandomForestRegressor   True  \n",
       "et             sklearn.ensemble._forest.ExtraTreesRegressor   True  \n",
       "ada       sklearn.ensemble._weight_boosting.AdaBoostRegr...   True  \n",
       "gbr          sklearn.ensemble._gb.GradientBoostingRegressor   True  \n",
       "mlp       sklearn.neural_network._multilayer_perceptron....  False  \n",
       "lightgbm                     lightgbm.sklearn.LGBMRegressor   True  \n",
       "dummy                          sklearn.dummy.DummyRegressor   True  "
      ]
     },
     "execution_count": 30,
     "metadata": {},
     "output_type": "execute_result"
    }
   ],
   "source": [
    "models()"
   ]
  },
  {
   "cell_type": "code",
   "execution_count": 31,
   "id": "f5519621",
   "metadata": {},
   "outputs": [
    {
     "data": {
      "text/html": [],
      "text/plain": [
       "<IPython.core.display.HTML object>"
      ]
     },
     "metadata": {},
     "output_type": "display_data"
    },
    {
     "data": {
      "text/html": [
       "<style type=\"text/css\">\n",
       "#T_597ec_row10_col0, #T_597ec_row10_col1, #T_597ec_row10_col2, #T_597ec_row10_col3, #T_597ec_row10_col4, #T_597ec_row10_col5 {\n",
       "  background: yellow;\n",
       "}\n",
       "</style>\n",
       "<table id=\"T_597ec\">\n",
       "  <thead>\n",
       "    <tr>\n",
       "      <th class=\"blank level0\" >&nbsp;</th>\n",
       "      <th id=\"T_597ec_level0_col0\" class=\"col_heading level0 col0\" >MAE</th>\n",
       "      <th id=\"T_597ec_level0_col1\" class=\"col_heading level0 col1\" >MSE</th>\n",
       "      <th id=\"T_597ec_level0_col2\" class=\"col_heading level0 col2\" >RMSE</th>\n",
       "      <th id=\"T_597ec_level0_col3\" class=\"col_heading level0 col3\" >R2</th>\n",
       "      <th id=\"T_597ec_level0_col4\" class=\"col_heading level0 col4\" >RMSLE</th>\n",
       "      <th id=\"T_597ec_level0_col5\" class=\"col_heading level0 col5\" >MAPE</th>\n",
       "    </tr>\n",
       "    <tr>\n",
       "      <th class=\"index_name level0\" >Fold</th>\n",
       "      <th class=\"blank col0\" >&nbsp;</th>\n",
       "      <th class=\"blank col1\" >&nbsp;</th>\n",
       "      <th class=\"blank col2\" >&nbsp;</th>\n",
       "      <th class=\"blank col3\" >&nbsp;</th>\n",
       "      <th class=\"blank col4\" >&nbsp;</th>\n",
       "      <th class=\"blank col5\" >&nbsp;</th>\n",
       "    </tr>\n",
       "  </thead>\n",
       "  <tbody>\n",
       "    <tr>\n",
       "      <th id=\"T_597ec_level0_row0\" class=\"row_heading level0 row0\" >0</th>\n",
       "      <td id=\"T_597ec_row0_col0\" class=\"data row0 col0\" >37.7735</td>\n",
       "      <td id=\"T_597ec_row0_col1\" class=\"data row0 col1\" >8745.0693</td>\n",
       "      <td id=\"T_597ec_row0_col2\" class=\"data row0 col2\" >93.5151</td>\n",
       "      <td id=\"T_597ec_row0_col3\" class=\"data row0 col3\" >0.0490</td>\n",
       "      <td id=\"T_597ec_row0_col4\" class=\"data row0 col4\" >0.5167</td>\n",
       "      <td id=\"T_597ec_row0_col5\" class=\"data row0 col5\" >0.3560</td>\n",
       "    </tr>\n",
       "    <tr>\n",
       "      <th id=\"T_597ec_level0_row1\" class=\"row_heading level0 row1\" >1</th>\n",
       "      <td id=\"T_597ec_row1_col0\" class=\"data row1 col0\" >42.9738</td>\n",
       "      <td id=\"T_597ec_row1_col1\" class=\"data row1 col1\" >10129.4299</td>\n",
       "      <td id=\"T_597ec_row1_col2\" class=\"data row1 col2\" >100.6451</td>\n",
       "      <td id=\"T_597ec_row1_col3\" class=\"data row1 col3\" >0.0671</td>\n",
       "      <td id=\"T_597ec_row1_col4\" class=\"data row1 col4\" >0.5164</td>\n",
       "      <td id=\"T_597ec_row1_col5\" class=\"data row1 col5\" >0.4005</td>\n",
       "    </tr>\n",
       "    <tr>\n",
       "      <th id=\"T_597ec_level0_row2\" class=\"row_heading level0 row2\" >2</th>\n",
       "      <td id=\"T_597ec_row2_col0\" class=\"data row2 col0\" >44.0524</td>\n",
       "      <td id=\"T_597ec_row2_col1\" class=\"data row2 col1\" >10332.8197</td>\n",
       "      <td id=\"T_597ec_row2_col2\" class=\"data row2 col2\" >101.6505</td>\n",
       "      <td id=\"T_597ec_row2_col3\" class=\"data row2 col3\" >0.0396</td>\n",
       "      <td id=\"T_597ec_row2_col4\" class=\"data row2 col4\" >0.5343</td>\n",
       "      <td id=\"T_597ec_row2_col5\" class=\"data row2 col5\" >0.4104</td>\n",
       "    </tr>\n",
       "    <tr>\n",
       "      <th id=\"T_597ec_level0_row3\" class=\"row_heading level0 row3\" >3</th>\n",
       "      <td id=\"T_597ec_row3_col0\" class=\"data row3 col0\" >41.2481</td>\n",
       "      <td id=\"T_597ec_row3_col1\" class=\"data row3 col1\" >9444.3760</td>\n",
       "      <td id=\"T_597ec_row3_col2\" class=\"data row3 col2\" >97.1822</td>\n",
       "      <td id=\"T_597ec_row3_col3\" class=\"data row3 col3\" >0.1004</td>\n",
       "      <td id=\"T_597ec_row3_col4\" class=\"data row3 col4\" >0.5300</td>\n",
       "      <td id=\"T_597ec_row3_col5\" class=\"data row3 col5\" >0.4111</td>\n",
       "    </tr>\n",
       "    <tr>\n",
       "      <th id=\"T_597ec_level0_row4\" class=\"row_heading level0 row4\" >4</th>\n",
       "      <td id=\"T_597ec_row4_col0\" class=\"data row4 col0\" >39.6456</td>\n",
       "      <td id=\"T_597ec_row4_col1\" class=\"data row4 col1\" >8634.0524</td>\n",
       "      <td id=\"T_597ec_row4_col2\" class=\"data row4 col2\" >92.9196</td>\n",
       "      <td id=\"T_597ec_row4_col3\" class=\"data row4 col3\" >0.1259</td>\n",
       "      <td id=\"T_597ec_row4_col4\" class=\"data row4 col4\" >0.5223</td>\n",
       "      <td id=\"T_597ec_row4_col5\" class=\"data row4 col5\" >0.3916</td>\n",
       "    </tr>\n",
       "    <tr>\n",
       "      <th id=\"T_597ec_level0_row5\" class=\"row_heading level0 row5\" >5</th>\n",
       "      <td id=\"T_597ec_row5_col0\" class=\"data row5 col0\" >39.8074</td>\n",
       "      <td id=\"T_597ec_row5_col1\" class=\"data row5 col1\" >9800.6934</td>\n",
       "      <td id=\"T_597ec_row5_col2\" class=\"data row5 col2\" >98.9985</td>\n",
       "      <td id=\"T_597ec_row5_col3\" class=\"data row5 col3\" >-0.0273</td>\n",
       "      <td id=\"T_597ec_row5_col4\" class=\"data row5 col4\" >0.4975</td>\n",
       "      <td id=\"T_597ec_row5_col5\" class=\"data row5 col5\" >0.3585</td>\n",
       "    </tr>\n",
       "    <tr>\n",
       "      <th id=\"T_597ec_level0_row6\" class=\"row_heading level0 row6\" >6</th>\n",
       "      <td id=\"T_597ec_row6_col0\" class=\"data row6 col0\" >48.2652</td>\n",
       "      <td id=\"T_597ec_row6_col1\" class=\"data row6 col1\" >12784.2714</td>\n",
       "      <td id=\"T_597ec_row6_col2\" class=\"data row6 col2\" >113.0676</td>\n",
       "      <td id=\"T_597ec_row6_col3\" class=\"data row6 col3\" >-0.0020</td>\n",
       "      <td id=\"T_597ec_row6_col4\" class=\"data row6 col4\" >0.5642</td>\n",
       "      <td id=\"T_597ec_row6_col5\" class=\"data row6 col5\" >0.4094</td>\n",
       "    </tr>\n",
       "    <tr>\n",
       "      <th id=\"T_597ec_level0_row7\" class=\"row_heading level0 row7\" >7</th>\n",
       "      <td id=\"T_597ec_row7_col0\" class=\"data row7 col0\" >45.7672</td>\n",
       "      <td id=\"T_597ec_row7_col1\" class=\"data row7 col1\" >11412.9530</td>\n",
       "      <td id=\"T_597ec_row7_col2\" class=\"data row7 col2\" >106.8314</td>\n",
       "      <td id=\"T_597ec_row7_col3\" class=\"data row7 col3\" >-0.1104</td>\n",
       "      <td id=\"T_597ec_row7_col4\" class=\"data row7 col4\" >0.5531</td>\n",
       "      <td id=\"T_597ec_row7_col5\" class=\"data row7 col5\" >0.4499</td>\n",
       "    </tr>\n",
       "    <tr>\n",
       "      <th id=\"T_597ec_level0_row8\" class=\"row_heading level0 row8\" >8</th>\n",
       "      <td id=\"T_597ec_row8_col0\" class=\"data row8 col0\" >47.5867</td>\n",
       "      <td id=\"T_597ec_row8_col1\" class=\"data row8 col1\" >11425.7517</td>\n",
       "      <td id=\"T_597ec_row8_col2\" class=\"data row8 col2\" >106.8913</td>\n",
       "      <td id=\"T_597ec_row8_col3\" class=\"data row8 col3\" >-0.0049</td>\n",
       "      <td id=\"T_597ec_row8_col4\" class=\"data row8 col4\" >0.5803</td>\n",
       "      <td id=\"T_597ec_row8_col5\" class=\"data row8 col5\" >0.4717</td>\n",
       "    </tr>\n",
       "    <tr>\n",
       "      <th id=\"T_597ec_level0_row9\" class=\"row_heading level0 row9\" >9</th>\n",
       "      <td id=\"T_597ec_row9_col0\" class=\"data row9 col0\" >44.2406</td>\n",
       "      <td id=\"T_597ec_row9_col1\" class=\"data row9 col1\" >10336.6230</td>\n",
       "      <td id=\"T_597ec_row9_col2\" class=\"data row9 col2\" >101.6692</td>\n",
       "      <td id=\"T_597ec_row9_col3\" class=\"data row9 col3\" >0.0517</td>\n",
       "      <td id=\"T_597ec_row9_col4\" class=\"data row9 col4\" >0.5251</td>\n",
       "      <td id=\"T_597ec_row9_col5\" class=\"data row9 col5\" >0.4075</td>\n",
       "    </tr>\n",
       "    <tr>\n",
       "      <th id=\"T_597ec_level0_row10\" class=\"row_heading level0 row10\" >Mean</th>\n",
       "      <td id=\"T_597ec_row10_col0\" class=\"data row10 col0\" >43.1360</td>\n",
       "      <td id=\"T_597ec_row10_col1\" class=\"data row10 col1\" >10304.6040</td>\n",
       "      <td id=\"T_597ec_row10_col2\" class=\"data row10 col2\" >101.3370</td>\n",
       "      <td id=\"T_597ec_row10_col3\" class=\"data row10 col3\" >0.0289</td>\n",
       "      <td id=\"T_597ec_row10_col4\" class=\"data row10 col4\" >0.5340</td>\n",
       "      <td id=\"T_597ec_row10_col5\" class=\"data row10 col5\" >0.4067</td>\n",
       "    </tr>\n",
       "    <tr>\n",
       "      <th id=\"T_597ec_level0_row11\" class=\"row_heading level0 row11\" >Std</th>\n",
       "      <td id=\"T_597ec_row11_col0\" class=\"data row11 col0\" >3.3273</td>\n",
       "      <td id=\"T_597ec_row11_col1\" class=\"data row11 col1\" >1219.9786</td>\n",
       "      <td id=\"T_597ec_row11_col2\" class=\"data row11 col2\" >5.9506</td>\n",
       "      <td id=\"T_597ec_row11_col3\" class=\"data row11 col3\" >0.0646</td>\n",
       "      <td id=\"T_597ec_row11_col4\" class=\"data row11 col4\" >0.0237</td>\n",
       "      <td id=\"T_597ec_row11_col5\" class=\"data row11 col5\" >0.0336</td>\n",
       "    </tr>\n",
       "  </tbody>\n",
       "</table>\n"
      ],
      "text/plain": [
       "<pandas.io.formats.style.Styler at 0x1f052899a20>"
      ]
     },
     "metadata": {},
     "output_type": "display_data"
    },
    {
     "data": {
      "application/vnd.jupyter.widget-view+json": {
       "model_id": "",
       "version_major": 2,
       "version_minor": 0
      },
      "text/plain": [
       "Processing:   0%|          | 0/4 [00:00<?, ?it/s]"
      ]
     },
     "metadata": {},
     "output_type": "display_data"
    }
   ],
   "source": [
    "dt_reg = create_model(estimator='dt')"
   ]
  },
  {
   "cell_type": "code",
   "execution_count": 32,
   "id": "1217f9b1",
   "metadata": {},
   "outputs": [
    {
     "data": {
      "text/html": [],
      "text/plain": [
       "<IPython.core.display.HTML object>"
      ]
     },
     "metadata": {},
     "output_type": "display_data"
    },
    {
     "data": {
      "text/html": [
       "<style type=\"text/css\">\n",
       "#T_a9c76_row10_col0, #T_a9c76_row10_col1, #T_a9c76_row10_col2, #T_a9c76_row10_col3, #T_a9c76_row10_col4, #T_a9c76_row10_col5 {\n",
       "  background: yellow;\n",
       "}\n",
       "</style>\n",
       "<table id=\"T_a9c76\">\n",
       "  <thead>\n",
       "    <tr>\n",
       "      <th class=\"blank level0\" >&nbsp;</th>\n",
       "      <th id=\"T_a9c76_level0_col0\" class=\"col_heading level0 col0\" >MAE</th>\n",
       "      <th id=\"T_a9c76_level0_col1\" class=\"col_heading level0 col1\" >MSE</th>\n",
       "      <th id=\"T_a9c76_level0_col2\" class=\"col_heading level0 col2\" >RMSE</th>\n",
       "      <th id=\"T_a9c76_level0_col3\" class=\"col_heading level0 col3\" >R2</th>\n",
       "      <th id=\"T_a9c76_level0_col4\" class=\"col_heading level0 col4\" >RMSLE</th>\n",
       "      <th id=\"T_a9c76_level0_col5\" class=\"col_heading level0 col5\" >MAPE</th>\n",
       "    </tr>\n",
       "    <tr>\n",
       "      <th class=\"index_name level0\" >Fold</th>\n",
       "      <th class=\"blank col0\" >&nbsp;</th>\n",
       "      <th class=\"blank col1\" >&nbsp;</th>\n",
       "      <th class=\"blank col2\" >&nbsp;</th>\n",
       "      <th class=\"blank col3\" >&nbsp;</th>\n",
       "      <th class=\"blank col4\" >&nbsp;</th>\n",
       "      <th class=\"blank col5\" >&nbsp;</th>\n",
       "    </tr>\n",
       "  </thead>\n",
       "  <tbody>\n",
       "    <tr>\n",
       "      <th id=\"T_a9c76_level0_row0\" class=\"row_heading level0 row0\" >0</th>\n",
       "      <td id=\"T_a9c76_row0_col0\" class=\"data row0 col0\" >43.0496</td>\n",
       "      <td id=\"T_a9c76_row0_col1\" class=\"data row0 col1\" >8135.5870</td>\n",
       "      <td id=\"T_a9c76_row0_col2\" class=\"data row0 col2\" >90.1975</td>\n",
       "      <td id=\"T_a9c76_row0_col3\" class=\"data row0 col3\" >0.1153</td>\n",
       "      <td id=\"T_a9c76_row0_col4\" class=\"data row0 col4\" >0.5477</td>\n",
       "      <td id=\"T_a9c76_row0_col5\" class=\"data row0 col5\" >0.4344</td>\n",
       "    </tr>\n",
       "    <tr>\n",
       "      <th id=\"T_a9c76_level0_row1\" class=\"row_heading level0 row1\" >1</th>\n",
       "      <td id=\"T_a9c76_row1_col0\" class=\"data row1 col0\" >44.7038</td>\n",
       "      <td id=\"T_a9c76_row1_col1\" class=\"data row1 col1\" >8522.3059</td>\n",
       "      <td id=\"T_a9c76_row1_col2\" class=\"data row1 col2\" >92.3163</td>\n",
       "      <td id=\"T_a9c76_row1_col3\" class=\"data row1 col3\" >0.2151</td>\n",
       "      <td id=\"T_a9c76_row1_col4\" class=\"data row1 col4\" >0.5338</td>\n",
       "      <td id=\"T_a9c76_row1_col5\" class=\"data row1 col5\" >0.4528</td>\n",
       "    </tr>\n",
       "    <tr>\n",
       "      <th id=\"T_a9c76_level0_row2\" class=\"row_heading level0 row2\" >2</th>\n",
       "      <td id=\"T_a9c76_row2_col0\" class=\"data row2 col0\" >43.8969</td>\n",
       "      <td id=\"T_a9c76_row2_col1\" class=\"data row2 col1\" >7904.0769</td>\n",
       "      <td id=\"T_a9c76_row2_col2\" class=\"data row2 col2\" >88.9049</td>\n",
       "      <td id=\"T_a9c76_row2_col3\" class=\"data row2 col3\" >0.2654</td>\n",
       "      <td id=\"T_a9c76_row2_col4\" class=\"data row2 col4\" >0.5375</td>\n",
       "      <td id=\"T_a9c76_row2_col5\" class=\"data row2 col5\" >0.4510</td>\n",
       "    </tr>\n",
       "    <tr>\n",
       "      <th id=\"T_a9c76_level0_row3\" class=\"row_heading level0 row3\" >3</th>\n",
       "      <td id=\"T_a9c76_row3_col0\" class=\"data row3 col0\" >42.8691</td>\n",
       "      <td id=\"T_a9c76_row3_col1\" class=\"data row3 col1\" >7706.1796</td>\n",
       "      <td id=\"T_a9c76_row3_col2\" class=\"data row3 col2\" >87.7848</td>\n",
       "      <td id=\"T_a9c76_row3_col3\" class=\"data row3 col3\" >0.2660</td>\n",
       "      <td id=\"T_a9c76_row3_col4\" class=\"data row3 col4\" >0.5344</td>\n",
       "      <td id=\"T_a9c76_row3_col5\" class=\"data row3 col5\" >0.4673</td>\n",
       "    </tr>\n",
       "    <tr>\n",
       "      <th id=\"T_a9c76_level0_row4\" class=\"row_heading level0 row4\" >4</th>\n",
       "      <td id=\"T_a9c76_row4_col0\" class=\"data row4 col0\" >44.5321</td>\n",
       "      <td id=\"T_a9c76_row4_col1\" class=\"data row4 col1\" >8628.7383</td>\n",
       "      <td id=\"T_a9c76_row4_col2\" class=\"data row4 col2\" >92.8910</td>\n",
       "      <td id=\"T_a9c76_row4_col3\" class=\"data row4 col3\" >0.1264</td>\n",
       "      <td id=\"T_a9c76_row4_col4\" class=\"data row4 col4\" >0.5323</td>\n",
       "      <td id=\"T_a9c76_row4_col5\" class=\"data row4 col5\" >0.4567</td>\n",
       "    </tr>\n",
       "    <tr>\n",
       "      <th id=\"T_a9c76_level0_row5\" class=\"row_heading level0 row5\" >5</th>\n",
       "      <td id=\"T_a9c76_row5_col0\" class=\"data row5 col0\" >43.4879</td>\n",
       "      <td id=\"T_a9c76_row5_col1\" class=\"data row5 col1\" >7951.5413</td>\n",
       "      <td id=\"T_a9c76_row5_col2\" class=\"data row5 col2\" >89.1714</td>\n",
       "      <td id=\"T_a9c76_row5_col3\" class=\"data row5 col3\" >0.1665</td>\n",
       "      <td id=\"T_a9c76_row5_col4\" class=\"data row5 col4\" >0.5227</td>\n",
       "      <td id=\"T_a9c76_row5_col5\" class=\"data row5 col5\" >0.4378</td>\n",
       "    </tr>\n",
       "    <tr>\n",
       "      <th id=\"T_a9c76_level0_row6\" class=\"row_heading level0 row6\" >6</th>\n",
       "      <td id=\"T_a9c76_row6_col0\" class=\"data row6 col0\" >47.1460</td>\n",
       "      <td id=\"T_a9c76_row6_col1\" class=\"data row6 col1\" >10554.0520</td>\n",
       "      <td id=\"T_a9c76_row6_col2\" class=\"data row6 col2\" >102.7329</td>\n",
       "      <td id=\"T_a9c76_row6_col3\" class=\"data row6 col3\" >0.1728</td>\n",
       "      <td id=\"T_a9c76_row6_col4\" class=\"data row6 col4\" >0.5581</td>\n",
       "      <td id=\"T_a9c76_row6_col5\" class=\"data row6 col5\" >0.4250</td>\n",
       "    </tr>\n",
       "    <tr>\n",
       "      <th id=\"T_a9c76_level0_row7\" class=\"row_heading level0 row7\" >7</th>\n",
       "      <td id=\"T_a9c76_row7_col0\" class=\"data row7 col0\" >46.6958</td>\n",
       "      <td id=\"T_a9c76_row7_col1\" class=\"data row7 col1\" >8556.8092</td>\n",
       "      <td id=\"T_a9c76_row7_col2\" class=\"data row7 col2\" >92.5030</td>\n",
       "      <td id=\"T_a9c76_row7_col3\" class=\"data row7 col3\" >0.1675</td>\n",
       "      <td id=\"T_a9c76_row7_col4\" class=\"data row7 col4\" >0.5662</td>\n",
       "      <td id=\"T_a9c76_row7_col5\" class=\"data row7 col5\" >0.4925</td>\n",
       "    </tr>\n",
       "    <tr>\n",
       "      <th id=\"T_a9c76_level0_row8\" class=\"row_heading level0 row8\" >8</th>\n",
       "      <td id=\"T_a9c76_row8_col0\" class=\"data row8 col0\" >47.8748</td>\n",
       "      <td id=\"T_a9c76_row8_col1\" class=\"data row8 col1\" >9018.6554</td>\n",
       "      <td id=\"T_a9c76_row8_col2\" class=\"data row8 col2\" >94.9666</td>\n",
       "      <td id=\"T_a9c76_row8_col3\" class=\"data row8 col3\" >0.2068</td>\n",
       "      <td id=\"T_a9c76_row8_col4\" class=\"data row8 col4\" >0.5529</td>\n",
       "      <td id=\"T_a9c76_row8_col5\" class=\"data row8 col5\" >0.4749</td>\n",
       "    </tr>\n",
       "    <tr>\n",
       "      <th id=\"T_a9c76_level0_row9\" class=\"row_heading level0 row9\" >9</th>\n",
       "      <td id=\"T_a9c76_row9_col0\" class=\"data row9 col0\" >45.0270</td>\n",
       "      <td id=\"T_a9c76_row9_col1\" class=\"data row9 col1\" >8327.9370</td>\n",
       "      <td id=\"T_a9c76_row9_col2\" class=\"data row9 col2\" >91.2575</td>\n",
       "      <td id=\"T_a9c76_row9_col3\" class=\"data row9 col3\" >0.2360</td>\n",
       "      <td id=\"T_a9c76_row9_col4\" class=\"data row9 col4\" >0.5309</td>\n",
       "      <td id=\"T_a9c76_row9_col5\" class=\"data row9 col5\" >0.4508</td>\n",
       "    </tr>\n",
       "    <tr>\n",
       "      <th id=\"T_a9c76_level0_row10\" class=\"row_heading level0 row10\" >Mean</th>\n",
       "      <td id=\"T_a9c76_row10_col0\" class=\"data row10 col0\" >44.9283</td>\n",
       "      <td id=\"T_a9c76_row10_col1\" class=\"data row10 col1\" >8530.5883</td>\n",
       "      <td id=\"T_a9c76_row10_col2\" class=\"data row10 col2\" >92.2726</td>\n",
       "      <td id=\"T_a9c76_row10_col3\" class=\"data row10 col3\" >0.1938</td>\n",
       "      <td id=\"T_a9c76_row10_col4\" class=\"data row10 col4\" >0.5417</td>\n",
       "      <td id=\"T_a9c76_row10_col5\" class=\"data row10 col5\" >0.4543</td>\n",
       "    </tr>\n",
       "    <tr>\n",
       "      <th id=\"T_a9c76_level0_row11\" class=\"row_heading level0 row11\" >Std</th>\n",
       "      <td id=\"T_a9c76_row11_col0\" class=\"data row11 col0\" >1.6688</td>\n",
       "      <td id=\"T_a9c76_row11_col1\" class=\"data row11 col1\" >771.2042</td>\n",
       "      <td id=\"T_a9c76_row11_col2\" class=\"data row11 col2\" >4.0441</td>\n",
       "      <td id=\"T_a9c76_row11_col3\" class=\"data row11 col3\" >0.0503</td>\n",
       "      <td id=\"T_a9c76_row11_col4\" class=\"data row11 col4\" >0.0132</td>\n",
       "      <td id=\"T_a9c76_row11_col5\" class=\"data row11 col5\" >0.0190</td>\n",
       "    </tr>\n",
       "  </tbody>\n",
       "</table>\n"
      ],
      "text/plain": [
       "<pandas.io.formats.style.Styler at 0x1f05380bbb0>"
      ]
     },
     "metadata": {},
     "output_type": "display_data"
    },
    {
     "data": {
      "application/vnd.jupyter.widget-view+json": {
       "model_id": "",
       "version_major": 2,
       "version_minor": 0
      },
      "text/plain": [
       "Processing:   0%|          | 0/7 [00:00<?, ?it/s]"
      ]
     },
     "metadata": {},
     "output_type": "display_data"
    },
    {
     "name": "stdout",
     "output_type": "stream",
     "text": [
      "Fitting 10 folds for each of 10 candidates, totalling 100 fits\n"
     ]
    }
   ],
   "source": [
    "tuned_dt_reg = tune_model(dt_reg)"
   ]
  },
  {
   "cell_type": "markdown",
   "id": "f6aa14e5",
   "metadata": {},
   "source": [
    "## Реализация дерева ручками "
   ]
  },
  {
   "cell_type": "code",
   "execution_count": 36,
   "id": "b958d6bc",
   "metadata": {},
   "outputs": [],
   "source": [
    "from collections import Counter\n",
    "\n",
    "class Node:\n",
    "        def __init__(self, feature=None, split=None, value=None, left=None, right=None):\n",
    "            self.feature = feature\n",
    "            self.split = split\n",
    "            self.value = value\n",
    "            self.left = left\n",
    "            self.right = right\n",
    "\n",
    "class Tree:\n",
    "    def __init__(self, max_depth=3, min_samples_split=2, task=\"clf\"):\n",
    "        self.max_depth = max_depth\n",
    "        self.min_samples_split = min_samples_split\n",
    "        self.task = task\n",
    "        self.node = Node()\n",
    "        \n",
    "    def fit(self, X, y):\n",
    "        self.tree = self.tree_build(X, y)\n",
    "    \n",
    "    def predict(self, X):\n",
    "        return np.array([self.choose_value(x, self.node) for x in X])\n",
    "    \n",
    "    def tree_build(self, X, y, depth=0):       \n",
    "        count_samples, count_features = X.shape\n",
    "        count_classes = len(np.unique(y))\n",
    "        \n",
    "        if count_samples < self.min_samples_split or depth >= self.max_depth or count_classes == 1:\n",
    "            if self.task == \"clf\":\n",
    "                self.node.value = np.argmax(np.bincount(y))\n",
    "            else:\n",
    "                self.node.value = np.mean(y)\n",
    "        \n",
    "        best_feature, best_split = self.split_tree(X, y, count_samples, count_features, count_classes)\n",
    "        \n",
    "        if best_feature is None or best_split is None:\n",
    "            return node\n",
    "        \n",
    "        left_split = np.where(X[:, best_feature] <= best_split)[0]\n",
    "        right_split = np.where(X[:, best_feature] > best_split)[0]\n",
    "        \n",
    "        self.node.feature = best_feature\n",
    "        self.node.split = best_split\n",
    "        \n",
    "        self.node.left = self.tree_build(X[left_split], y[left_split], depth + 1)\n",
    "        self.node.right = self.tree_build(X[right_split], y[right_split], depth + 1)\n",
    "        \n",
    "        return node\n",
    "    \n",
    "    def split_tree(self, X, y, count_samples, count_features, count_classes):\n",
    "        best_gini = 0\n",
    "        best_feature = None\n",
    "        best_split = None\n",
    "        \n",
    "        for feature in range(count_features):\n",
    "            #print(X[:, feature])\n",
    "            unique_feature = np.unique(X[:, feature])\n",
    "            if len(unique_feature) > count_samples * 0.5:\n",
    "                unique_feature = np.unique(np.round(unique_feature, 2))\n",
    "                \n",
    "            for split in unique_feature:\n",
    "                if self.task == \"clf\":\n",
    "                    gini = self.count_gini_clf(X, y, feature, split)\n",
    "                if self.task == \"reg\":\n",
    "                    gini = self.count_gini_reg(X, y, feature, split)\n",
    "                    \n",
    "                if gini > best_gini:\n",
    "                    best_feature = feature\n",
    "                    best_split = split\n",
    "                    \n",
    "        return best_feature, best_split\n",
    "    \n",
    "    def count_gini_clf(self, X, y, feature, split):\n",
    "        left_split = np.where(X[:, feature] <= split)[0]\n",
    "        right_split = np.where(X[:, feature] > split)[0]\n",
    "        \n",
    "        y_right = y[right_split]\n",
    "        y_left = y[left_split]\n",
    "        \n",
    "        class_counts = Counter(y_right)\n",
    "        probabilities = np.array(list(class_counts.values())) / len(y_right)\n",
    "        y_right_gini = -np.sum(probabilities * np.log2(probabilities))\n",
    "        \n",
    "        class_counts = Counter(y_left)\n",
    "        probabilities = np.array(list(class_counts.values())) / len(y_left)\n",
    "        y_left_gini = -np.sum(probabilities * np.log2(probabilities))\n",
    "        \n",
    "        return len(y_left) / len(y) * y_left_gini + len(y_right) / len(y) * y_right_gini\n",
    "    \n",
    "    def count_gini_reg(self, X, y, feature, split):\n",
    "        left_split = np.where(X[:, feature] <= split)[0]\n",
    "        right_split = np.where(X[:, feature] > split)[0]\n",
    "        \n",
    "        y_right = y[right_split]\n",
    "        y_left = y[left_split]\n",
    "        \n",
    "        mean = np.mean(y_left)\n",
    "        mse_left = np.mean((y_left - mean) ** 2)\n",
    "        \n",
    "        mean = np.mean(y_right)\n",
    "        mse_right = np.mean((y_right - mean) ** 2)\n",
    "        \n",
    "        return len(y_left) / len(y) * mse_left + len(y_right) / len(y) * mse_right\n",
    "    \n",
    "    def choose_value(self, x, node):\n",
    "        if node.value is not None:\n",
    "            return node.value\n",
    "\n",
    "        if x[node.feature_idx] <= node.threshold:\n",
    "            return self.choose_value(x, node.left)\n",
    "        else:\n",
    "            return self.choose_value(x, node.right)"
   ]
  },
  {
   "cell_type": "code",
   "execution_count": null,
   "id": "516fb6fb",
   "metadata": {
    "scrolled": false
   },
   "outputs": [],
   "source": [
    "tree = Tree()\n",
    "tree.fit(np.array(X_test_clf), np.array(y_test_clf))"
   ]
  },
  {
   "cell_type": "code",
   "execution_count": null,
   "id": "626617f5",
   "metadata": {},
   "outputs": [],
   "source": [
    "y_pred = tree.predict(X_test_clf)"
   ]
  },
  {
   "cell_type": "code",
   "execution_count": 8,
   "id": "4d50169d",
   "metadata": {},
   "outputs": [],
   "source": [
    "class CART:\n",
    "    def __init__(self, max_depth=None, min_samples_split=2, classification=False):\n",
    "        self.max_depth = max_depth\n",
    "        self.min_samples_split = min_samples_split\n",
    "        self.classification = classification\n",
    "\n",
    "    class Node:\n",
    "        def __init__(self, feature=None, threshold=None, value=None, left=None, right=None):\n",
    "            self.feature = feature\n",
    "            self.threshold = threshold\n",
    "            self.value = value\n",
    "            self.left = left\n",
    "            self.right = right\n",
    "\n",
    "    def split_dataset(self, X, y, feature, threshold):\n",
    "        left_indices = np.where(X[:, feature] <= threshold)[0]\n",
    "        right_indices = np.where(X[:, feature] > threshold)[0]\n",
    "        return X[left_indices], y[left_indices], X[right_indices], y[right_indices]\n",
    "\n",
    "    def entropy(self, y):\n",
    "        class_counts = Counter(y)\n",
    "        probabilities = np.array(list(class_counts.values())) / len(y)\n",
    "        return -np.sum(probabilities * np.log2(probabilities))\n",
    "\n",
    "    def mean_squared_error(self, y):\n",
    "        return np.mean((y - np.mean(y))**2)\n",
    "\n",
    "    def find_best_split(self, X, y):\n",
    "        best_feature, best_threshold, best_score = None, None, float('inf')\n",
    "        n_features = X.shape[1]\n",
    "        for feature in range(n_features):\n",
    "            thresholds = np.unique(X[:, feature])\n",
    "            for threshold in thresholds:\n",
    "                if self.classification:\n",
    "                    X_left, y_left, X_right, y_right = self.split_dataset(X, y, feature, threshold)\n",
    "                    score = len(y_left) * self.entropy(y_left) + len(y_right) * self.entropy(y_right)\n",
    "                else:\n",
    "                    X_left, y_left, X_right, y_right = self.split_dataset(X, y, feature, threshold)\n",
    "                    score = len(y_left) * self.mean_squared_error(y_left) + len(y_right) * self.mean_squared_error(y_right)\n",
    "                if score < best_score:\n",
    "                    best_feature, best_threshold, best_score = feature, threshold, score\n",
    "        return best_feature, best_threshold\n",
    "\n",
    "    def majority_vote(self, y):\n",
    "        class_counts = Counter(y)\n",
    "        return class_counts.most_common(1)[0][0]\n",
    "\n",
    "    def build_tree(self, X, y, depth=0):\n",
    "        if depth == self.max_depth or len(X) < self.min_samples_split:\n",
    "            if self.classification:\n",
    "                return self.Node(value=self.majority_vote(y))\n",
    "            else:\n",
    "                return self.Node(value=np.mean(y))\n",
    "\n",
    "        feature, threshold = self.find_best_split(X, y)\n",
    "        X_left, y_left, X_right, y_right = self.split_dataset(X, y, feature, threshold)\n",
    "        left_child = self.build_tree(X_left, y_left, depth + 1)\n",
    "        right_child = self.build_tree(X_right, y_right, depth + 1)\n",
    "\n",
    "        return self.Node(feature=feature, threshold=threshold, left=left_child, right=right_child)\n",
    "\n",
    "    def fit(self, X, y):\n",
    "        if self.classification:\n",
    "            self.classes_ = np.unique(y)\n",
    "            self.n_classes_ = len(self.classes_)\n",
    "\n",
    "        self.tree_ = self.build_tree(X, y)\n",
    "\n",
    "    def predict_single(self, x, node):\n",
    "        if node.feature is None:\n",
    "            return node.value\n",
    "        if x[node.feature] <= node.threshold:\n",
    "            return self.predict_single(x, node.left)\n",
    "        else:\n",
    "            return self.predict_single(x, node.right)\n",
    "\n",
    "    def predict(self, X):\n",
    "        y_pred = np.zeros(len(X), dtype=int if self.classification else float)\n",
    "\n",
    "        for i in range(len(X)):\n",
    "            y_pred[i] = self.predict_single(X[i], self.tree_)\n",
    "\n",
    "        return y_pred"
   ]
  },
  {
   "cell_type": "code",
   "execution_count": null,
   "id": "eb39431d",
   "metadata": {},
   "outputs": [
    {
     "name": "stderr",
     "output_type": "stream",
     "text": [
      "C:\\Users\\Кирилл\\AppData\\Local\\Programs\\Python\\Python310\\lib\\site-packages\\numpy\\core\\fromnumeric.py:3432: RuntimeWarning: Mean of empty slice.\n",
      "  return _methods._mean(a, axis=axis, dtype=dtype,\n",
      "C:\\Users\\Кирилл\\AppData\\Local\\Programs\\Python\\Python310\\lib\\site-packages\\numpy\\core\\_methods.py:190: RuntimeWarning: invalid value encountered in double_scalars\n",
      "  ret = ret.dtype.type(ret / rcount)\n"
     ]
    }
   ],
   "source": [
    "cart = CART().fit(np.array(X_test_clf), np.array(y_test_clf))"
   ]
  },
  {
   "cell_type": "code",
   "execution_count": null,
   "id": "bc369193",
   "metadata": {},
   "outputs": [],
   "source": [
    "y_pred = cart.predict(X_test_clf)"
   ]
  },
  {
   "cell_type": "markdown",
   "id": "c2f25f4d",
   "metadata": {},
   "source": [
    "### BaggingClassifier"
   ]
  },
  {
   "cell_type": "code",
   "execution_count": 50,
   "id": "643d2c80",
   "metadata": {},
   "outputs": [],
   "source": [
    "from sklearn.ensemble import BaggingClassifier\n",
    "\n",
    "bag_clf = BaggingClassifier(DecisionTreeClassifier(max_depth=10, min_samples_split=13,\n",
    "                             criterion=\"gini\", random_state=42), random_state=42).fit(X_train_clf, y_train_clf)"
   ]
  },
  {
   "cell_type": "code",
   "execution_count": 52,
   "id": "bab75049",
   "metadata": {},
   "outputs": [
    {
     "name": "stdout",
     "output_type": "stream",
     "text": [
      "              precision    recall  f1-score   support\n",
      "\n",
      "           0       0.85      0.92      0.88     59563\n",
      "           1       0.69      0.50      0.58     19899\n",
      "\n",
      "    accuracy                           0.82     79462\n",
      "   macro avg       0.77      0.71      0.73     79462\n",
      "weighted avg       0.81      0.82      0.81     79462\n",
      "\n"
     ]
    }
   ],
   "source": [
    "y_pred = bag_clf.predict(X_test_clf)\n",
    "y_prob = bag_clf.predict_proba(X_test_clf)[:, 1]\n",
    "print(classification_report(y_test_clf, y_pred))"
   ]
  },
  {
   "cell_type": "code",
   "execution_count": 53,
   "id": "bed09246",
   "metadata": {},
   "outputs": [
    {
     "data": {
      "text/plain": [
       "0.891891486741014"
      ]
     },
     "execution_count": 53,
     "metadata": {},
     "output_type": "execute_result"
    }
   ],
   "source": [
    "roc_auc_score(y_test_clf, y_prob)"
   ]
  },
  {
   "cell_type": "markdown",
   "id": "8efb91c4",
   "metadata": {},
   "source": [
    "### BaggingRegressor"
   ]
  },
  {
   "cell_type": "code",
   "execution_count": 57,
   "id": "9922ecd6",
   "metadata": {},
   "outputs": [],
   "source": [
    "from sklearn.ensemble import BaggingRegressor\n",
    "bag_reg = BaggingRegressor(DecisionTreeRegressor(max_depth=8, min_samples_split=17,\n",
    "                             criterion=\"poisson\", random_state=42), random_state=42).fit(X_train_reg, y_train_reg)"
   ]
  },
  {
   "cell_type": "code",
   "execution_count": 58,
   "id": "fa69ed53",
   "metadata": {},
   "outputs": [
    {
     "data": {
      "text/plain": [
       "7957.6"
      ]
     },
     "execution_count": 58,
     "metadata": {},
     "output_type": "execute_result"
    }
   ],
   "source": [
    "y_pred = bag_reg.predict(X_test_reg)\n",
    "MSE_test = round(np.mean(np.square(y_test_reg - y_pred)),2)\n",
    "MSE_test"
   ]
  },
  {
   "cell_type": "markdown",
   "id": "fb5dc06b",
   "metadata": {},
   "source": [
    "### GradientBoostingClassifier"
   ]
  },
  {
   "cell_type": "code",
   "execution_count": 60,
   "id": "5838c439",
   "metadata": {},
   "outputs": [],
   "source": [
    "from sklearn.ensemble import GradientBoostingClassifier\n",
    "\n",
    "boos_clf = GradientBoostingClassifier(random_state=42).fit(X_train_clf, y_train_clf)"
   ]
  },
  {
   "cell_type": "code",
   "execution_count": 79,
   "id": "c121a528",
   "metadata": {},
   "outputs": [
    {
     "name": "stdout",
     "output_type": "stream",
     "text": [
      "              precision    recall  f1-score   support\n",
      "\n",
      "           0       0.85      0.92      0.88     59563\n",
      "           1       0.68      0.50      0.58     19899\n",
      "\n",
      "    accuracy                           0.82     79462\n",
      "   macro avg       0.76      0.71      0.73     79462\n",
      "weighted avg       0.81      0.82      0.81     79462\n",
      "\n"
     ]
    }
   ],
   "source": [
    "y_pred = boos_clf.predict(X_test_clf)\n",
    "y_prob = boos_clf.predict_proba(X_test_clf)[:, 1]\n",
    "print(classification_report(y_test_clf, y_pred))"
   ]
  },
  {
   "cell_type": "code",
   "execution_count": 80,
   "id": "84e27986",
   "metadata": {},
   "outputs": [
    {
     "data": {
      "text/plain": [
       "0.8885429162852716"
      ]
     },
     "execution_count": 80,
     "metadata": {},
     "output_type": "execute_result"
    }
   ],
   "source": [
    "roc_auc_score(y_test_clf, y_prob)"
   ]
  },
  {
   "cell_type": "markdown",
   "id": "9447e386",
   "metadata": {},
   "source": [
    "### GradientBoostingRegressor"
   ]
  },
  {
   "cell_type": "code",
   "execution_count": 64,
   "id": "b0b29917",
   "metadata": {},
   "outputs": [],
   "source": [
    "from sklearn.ensemble import GradientBoostingRegressor\n",
    "\n",
    "boos_reg = GradientBoostingRegressor(random_state=42).fit(X_train_reg, y_train_reg)"
   ]
  },
  {
   "cell_type": "code",
   "execution_count": 65,
   "id": "88fc962e",
   "metadata": {},
   "outputs": [
    {
     "data": {
      "text/plain": [
       "8097.73"
      ]
     },
     "execution_count": 65,
     "metadata": {},
     "output_type": "execute_result"
    }
   ],
   "source": [
    "y_pred = boos_reg.predict(X_test_reg)\n",
    "MSE_test = round(np.mean(np.square(y_test_reg - y_pred)),2)\n",
    "MSE_test"
   ]
  },
  {
   "cell_type": "markdown",
   "id": "af1f8139",
   "metadata": {},
   "source": [
    "### StackingClassifier"
   ]
  },
  {
   "cell_type": "code",
   "execution_count": 71,
   "id": "396638a9",
   "metadata": {},
   "outputs": [],
   "source": [
    "from sklearn.ensemble import RandomForestClassifier\n",
    "from sklearn.ensemble import StackingClassifier\n",
    "from sklearn.linear_model import LogisticRegression\n",
    "estimators = [\n",
    "     ('dt', RandomForestClassifier(n_estimators=10, random_state=42)),\n",
    "     ('dt_clf', DecisionTreeClassifier(max_depth=10, min_samples_split=13,\n",
    "                             criterion=\"gini\", random_state=42))\n",
    "]\n",
    "stack_clf = StackingClassifier(estimators=estimators, \n",
    "                               final_estimator=LogisticRegression()).fit(X_train_clf, y_train_clf)"
   ]
  },
  {
   "cell_type": "code",
   "execution_count": 81,
   "id": "c8e64db2",
   "metadata": {},
   "outputs": [
    {
     "name": "stdout",
     "output_type": "stream",
     "text": [
      "              precision    recall  f1-score   support\n",
      "\n",
      "           0       0.86      0.91      0.89     59563\n",
      "           1       0.69      0.56      0.62     19899\n",
      "\n",
      "    accuracy                           0.83     79462\n",
      "   macro avg       0.77      0.74      0.75     79462\n",
      "weighted avg       0.82      0.83      0.82     79462\n",
      "\n"
     ]
    }
   ],
   "source": [
    "y_pred = stack_clf.predict(X_test_clf)\n",
    "y_prob = stack_clf.predict_proba(X_test_clf)[:, 1]\n",
    "print(classification_report(y_test_clf, y_pred))"
   ]
  },
  {
   "cell_type": "code",
   "execution_count": 82,
   "id": "1d679021",
   "metadata": {},
   "outputs": [
    {
     "data": {
      "text/plain": [
       "0.8968558036410689"
      ]
     },
     "execution_count": 82,
     "metadata": {},
     "output_type": "execute_result"
    }
   ],
   "source": [
    "roc_auc_score(y_test_clf, y_prob)"
   ]
  },
  {
   "cell_type": "markdown",
   "id": "a96dad4f",
   "metadata": {},
   "source": [
    "### StackingRegressor"
   ]
  },
  {
   "cell_type": "code",
   "execution_count": 77,
   "id": "ead96e11",
   "metadata": {},
   "outputs": [],
   "source": [
    "from sklearn.ensemble import RandomForestRegressor\n",
    "from sklearn.ensemble import StackingRegressor\n",
    "estimators = [\n",
    "     ('dt', RandomForestRegressor(n_estimators=10, random_state=42)),\n",
    "     ('dt_reg', DecisionTreeRegressor(max_depth=8, min_samples_split=17,\n",
    "                             criterion=\"poisson\", random_state=42))\n",
    "]\n",
    "stack_reg = StackingRegressor(estimators=estimators, \n",
    "                               final_estimator=RandomForestRegressor(n_estimators=10,\n",
    "                                           random_state=42)).fit(X_train_reg, y_train_reg)"
   ]
  },
  {
   "cell_type": "code",
   "execution_count": 78,
   "id": "d70baa4a",
   "metadata": {},
   "outputs": [
    {
     "data": {
      "text/plain": [
       "8097.73"
      ]
     },
     "execution_count": 78,
     "metadata": {},
     "output_type": "execute_result"
    }
   ],
   "source": [
    "y_pred = boos_reg.predict(X_test_reg)\n",
    "MSE_test = round(np.mean(np.square(y_test_reg - y_pred)),2)\n",
    "MSE_test"
   ]
  },
  {
   "cell_type": "markdown",
   "id": "63cb3011",
   "metadata": {},
   "source": [
    "После проведения бустинга, бэгинка и стэкинга результаты для классификации были чуть лучше у стэкинга. В свою очень для регрессии, результаты оказалить лучше у бэгинга."
   ]
  },
  {
   "cell_type": "markdown",
   "id": "c3a15993",
   "metadata": {},
   "source": [
    "### CatBoostClassifier"
   ]
  },
  {
   "cell_type": "code",
   "execution_count": 85,
   "id": "67bd297e",
   "metadata": {},
   "outputs": [
    {
     "name": "stdout",
     "output_type": "stream",
     "text": [
      "0:\tlearn: 0.4355909\ttotal: 217ms\tremaining: 217ms\n",
      "1:\tlearn: 0.4115187\ttotal: 258ms\tremaining: 0us\n"
     ]
    }
   ],
   "source": [
    "from catboost import CatBoostClassifier\n",
    "\n",
    "cat_clf = CatBoostClassifier(iterations=2,\n",
    "                           depth=2,\n",
    "                           learning_rate=1,\n",
    "                           loss_function='Logloss',\n",
    "                           verbose=True).fit(X_train_clf, y_train_clf)"
   ]
  },
  {
   "cell_type": "code",
   "execution_count": 95,
   "id": "9f2af29e",
   "metadata": {},
   "outputs": [
    {
     "name": "stdout",
     "output_type": "stream",
     "text": [
      "              precision    recall  f1-score   support\n",
      "\n",
      "           0       0.88      0.81      0.84     59563\n",
      "           1       0.54      0.67      0.60     19899\n",
      "\n",
      "    accuracy                           0.77     79462\n",
      "   macro avg       0.71      0.74      0.72     79462\n",
      "weighted avg       0.79      0.77      0.78     79462\n",
      "\n"
     ]
    }
   ],
   "source": [
    "y_pred = cat_clf.predict(X_test_clf)\n",
    "y_prob = cat_clf.predict_proba(X_test_clf)[:, 1]\n",
    "print(classification_report(y_test_clf, y_pred))"
   ]
  },
  {
   "cell_type": "code",
   "execution_count": 96,
   "id": "e7815024",
   "metadata": {},
   "outputs": [
    {
     "data": {
      "text/plain": [
       "0.8313116198945601"
      ]
     },
     "execution_count": 96,
     "metadata": {},
     "output_type": "execute_result"
    }
   ],
   "source": [
    "roc_auc_score(y_test_clf, y_prob)"
   ]
  },
  {
   "cell_type": "markdown",
   "id": "955a239b",
   "metadata": {},
   "source": [
    "### CatBoostRegressor"
   ]
  },
  {
   "cell_type": "code",
   "execution_count": 89,
   "id": "5dc06d1a",
   "metadata": {},
   "outputs": [
    {
     "name": "stdout",
     "output_type": "stream",
     "text": [
      "0:\tlearn: 98.1376452\ttotal: 4.61ms\tremaining: 4.61ms\n",
      "1:\tlearn: 96.9965187\ttotal: 8.84ms\tremaining: 0us\n"
     ]
    }
   ],
   "source": [
    "from catboost import CatBoostRegressor\n",
    "\n",
    "cat_reg = CatBoostRegressor(iterations=2, \n",
    "                          depth=2, \n",
    "                          learning_rate=1, \n",
    "                          loss_function='RMSE').fit(X_train_reg, y_train_reg)"
   ]
  },
  {
   "cell_type": "code",
   "execution_count": 97,
   "id": "ec87933d",
   "metadata": {},
   "outputs": [
    {
     "data": {
      "text/plain": [
       "10351.41"
      ]
     },
     "execution_count": 97,
     "metadata": {},
     "output_type": "execute_result"
    }
   ],
   "source": [
    "y_pred = cat_reg.predict(X_test_reg)\n",
    "MSE_test = round(np.mean(np.square(y_test_reg - y_pred)),2)\n",
    "MSE_test"
   ]
  },
  {
   "cell_type": "markdown",
   "id": "a93b2658",
   "metadata": {},
   "source": [
    "### XGBClassifier"
   ]
  },
  {
   "cell_type": "code",
   "execution_count": 93,
   "id": "8c6b47a0",
   "metadata": {},
   "outputs": [],
   "source": [
    "import xgboost as xgb"
   ]
  },
  {
   "cell_type": "code",
   "execution_count": 94,
   "id": "b3c7e465",
   "metadata": {},
   "outputs": [],
   "source": [
    "xgbc_clf = xgb.XGBClassifier().fit(X_train_clf, y_train_clf)"
   ]
  },
  {
   "cell_type": "code",
   "execution_count": 98,
   "id": "3b0bb202",
   "metadata": {},
   "outputs": [
    {
     "name": "stdout",
     "output_type": "stream",
     "text": [
      "              precision    recall  f1-score   support\n",
      "\n",
      "           0       0.87      0.91      0.89     59563\n",
      "           1       0.70      0.59      0.64     19899\n",
      "\n",
      "    accuracy                           0.83     79462\n",
      "   macro avg       0.78      0.75      0.76     79462\n",
      "weighted avg       0.83      0.83      0.83     79462\n",
      "\n"
     ]
    }
   ],
   "source": [
    "y_pred = xgbc_clf.predict(X_test_clf)\n",
    "y_prob = xgbc_clf.predict_proba(X_test_clf)[:, 1]\n",
    "print(classification_report(y_test_clf, y_pred))"
   ]
  },
  {
   "cell_type": "code",
   "execution_count": 99,
   "id": "cb5c3ed4",
   "metadata": {},
   "outputs": [
    {
     "data": {
      "text/plain": [
       "0.9050930947570678"
      ]
     },
     "execution_count": 99,
     "metadata": {},
     "output_type": "execute_result"
    }
   ],
   "source": [
    "roc_auc_score(y_test_clf, y_prob)"
   ]
  },
  {
   "cell_type": "markdown",
   "id": "d34a536c",
   "metadata": {},
   "source": [
    "### XGBRegressor"
   ]
  },
  {
   "cell_type": "code",
   "execution_count": 100,
   "id": "702a3d23",
   "metadata": {},
   "outputs": [],
   "source": [
    "xgbc_reg = xgb.XGBRegressor().fit(X_train_reg, y_train_reg)"
   ]
  },
  {
   "cell_type": "code",
   "execution_count": 101,
   "id": "9c0634ea",
   "metadata": {},
   "outputs": [
    {
     "data": {
      "text/plain": [
       "5231.04"
      ]
     },
     "execution_count": 101,
     "metadata": {},
     "output_type": "execute_result"
    }
   ],
   "source": [
    "y_pred = xgbc_reg.predict(X_test_reg)\n",
    "MSE_test = round(np.mean(np.square(y_test_reg - y_pred)),2)\n",
    "MSE_test"
   ]
  },
  {
   "cell_type": "markdown",
   "id": "6dfe6a60",
   "metadata": {},
   "source": [
    "### LGBMClassifier"
   ]
  },
  {
   "cell_type": "code",
   "execution_count": 103,
   "id": "4d49e090",
   "metadata": {},
   "outputs": [],
   "source": [
    "import lightgbm as lgb"
   ]
  },
  {
   "cell_type": "code",
   "execution_count": 104,
   "id": "4e107674",
   "metadata": {},
   "outputs": [
    {
     "name": "stdout",
     "output_type": "stream",
     "text": [
      "[LightGBM] [Info] Number of positive: 80312, number of negative: 237533\n",
      "[LightGBM] [Info] Auto-choosing row-wise multi-threading, the overhead of testing was 0.003903 seconds.\n",
      "You can set `force_row_wise=true` to remove the overhead.\n",
      "And if memory is not enough, you can set `force_col_wise=true`.\n",
      "[LightGBM] [Info] Total Bins 1437\n",
      "[LightGBM] [Info] Number of data points in the train set: 317845, number of used features: 25\n",
      "[LightGBM] [Info] [binary:BoostFromScore]: pavg=0.252677 -> initscore=-1.084388\n",
      "[LightGBM] [Info] Start training from score -1.084388\n"
     ]
    }
   ],
   "source": [
    "lgb_clf = lgb.LGBMClassifier().fit(X_train_clf, y_train_clf)"
   ]
  },
  {
   "cell_type": "code",
   "execution_count": 107,
   "id": "80673347",
   "metadata": {},
   "outputs": [
    {
     "name": "stdout",
     "output_type": "stream",
     "text": [
      "              precision    recall  f1-score   support\n",
      "\n",
      "           0       0.86      0.92      0.89     59563\n",
      "           1       0.69      0.56      0.62     19899\n",
      "\n",
      "    accuracy                           0.83     79462\n",
      "   macro avg       0.78      0.74      0.76     79462\n",
      "weighted avg       0.82      0.83      0.82     79462\n",
      "\n"
     ]
    }
   ],
   "source": [
    "y_pred = lgb_clf.predict(X_test_clf)\n",
    "y_prob = lgb_clf.predict_proba(X_test_clf)[:, 1]\n",
    "print(classification_report(y_test_clf, y_pred))"
   ]
  },
  {
   "cell_type": "code",
   "execution_count": 108,
   "id": "b55f90b6",
   "metadata": {},
   "outputs": [
    {
     "data": {
      "text/plain": [
       "0.9007383134602251"
      ]
     },
     "execution_count": 108,
     "metadata": {},
     "output_type": "execute_result"
    }
   ],
   "source": [
    "roc_auc_score(y_test_clf, y_prob)"
   ]
  },
  {
   "cell_type": "markdown",
   "id": "9f70eb3c",
   "metadata": {},
   "source": [
    "### LGBMRegressor"
   ]
  },
  {
   "cell_type": "code",
   "execution_count": 109,
   "id": "73ba92ab",
   "metadata": {},
   "outputs": [
    {
     "name": "stdout",
     "output_type": "stream",
     "text": [
      "[LightGBM] [Info] Auto-choosing col-wise multi-threading, the overhead of testing was 0.002019 seconds.\n",
      "You can set `force_col_wise=true` to remove the overhead.\n",
      "[LightGBM] [Info] Total Bins 5838\n",
      "[LightGBM] [Info] Number of data points in the train set: 14830, number of used features: 25\n",
      "[LightGBM] [Info] Start training from score 97.405934\n"
     ]
    }
   ],
   "source": [
    "lgb_reg = lgb.LGBMRegressor().fit(X_train_reg, y_train_reg)"
   ]
  },
  {
   "cell_type": "code",
   "execution_count": 110,
   "id": "f2237c68",
   "metadata": {},
   "outputs": [
    {
     "data": {
      "text/plain": [
       "6337.24"
      ]
     },
     "execution_count": 110,
     "metadata": {},
     "output_type": "execute_result"
    }
   ],
   "source": [
    "y_pred = lgb_reg.predict(X_test_reg)\n",
    "MSE_test = round(np.mean(np.square(y_test_reg - y_pred)),2)\n",
    "MSE_test"
   ]
  },
  {
   "cell_type": "markdown",
   "id": "f6a8334d",
   "metadata": {},
   "source": [
    "После использования библиотек `catboost`, `xgboost` и `lightgbm` получили одни из самых лучших результатов по сравнению с другими моделями. Для ксассификации лучшие результаты показала `xgboost`, а для регрессии - `lightgbm`."
   ]
  },
  {
   "cell_type": "code",
   "execution_count": null,
   "id": "519ac6f6",
   "metadata": {},
   "outputs": [],
   "source": []
  }
 ],
 "metadata": {
  "kernelspec": {
   "display_name": "Python 3 (ipykernel)",
   "language": "python",
   "name": "python3"
  },
  "language_info": {
   "codemirror_mode": {
    "name": "ipython",
    "version": 3
   },
   "file_extension": ".py",
   "mimetype": "text/x-python",
   "name": "python",
   "nbconvert_exporter": "python",
   "pygments_lexer": "ipython3",
   "version": "3.10.5"
  }
 },
 "nbformat": 4,
 "nbformat_minor": 5
}
