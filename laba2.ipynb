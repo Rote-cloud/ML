{
 "cells": [
  {
   "cell_type": "code",
   "execution_count": 1,
   "id": "9bb08695",
   "metadata": {},
   "outputs": [],
   "source": [
    "import pandas as pd\n",
    "import matplotlib.pyplot as plt\n",
    "import numpy as np\n",
    "import seaborn as sns"
   ]
  },
  {
   "cell_type": "code",
   "execution_count": 2,
   "id": "099167da",
   "metadata": {},
   "outputs": [],
   "source": [
    "df = pd.read_csv(\"./data/Dataset2.csv\") "
   ]
  },
  {
   "cell_type": "markdown",
   "id": "4b8d9746",
   "metadata": {},
   "source": [
    "# Исследование исходных данных"
   ]
  },
  {
   "cell_type": "code",
   "execution_count": 3,
   "id": "3298dc16",
   "metadata": {},
   "outputs": [
    {
     "name": "stdout",
     "output_type": "stream",
     "text": [
      "<class 'pandas.core.frame.DataFrame'>\n",
      "RangeIndex: 571 entries, 0 to 570\n",
      "Data columns (total 30 columns):\n",
      " #   Column                            Non-Null Count  Dtype  \n",
      "---  ------                            --------------  -----  \n",
      " 0   Unnamed: 0                        571 non-null    int64  \n",
      " 1   Film                              571 non-null    object \n",
      " 2   Oscar Year                        571 non-null    object \n",
      " 3   Film Studio/Producer(s)           571 non-null    object \n",
      " 4   Award                             571 non-null    object \n",
      " 5   Year of Release                   571 non-null    int64  \n",
      " 6   Movie Time                        571 non-null    int64  \n",
      " 7   Movie Genre                       571 non-null    object \n",
      " 8   IMDB Rating                       571 non-null    float64\n",
      " 9   IMDB Votes                        571 non-null    object \n",
      " 10  Movie Info                        438 non-null    object \n",
      " 11  Genres                            439 non-null    object \n",
      " 12  Critic Consensus                  339 non-null    object \n",
      " 13  Content Rating                    439 non-null    object \n",
      " 14  Directors                         437 non-null    object \n",
      " 15  Authors                           437 non-null    object \n",
      " 16  Actors                            439 non-null    object \n",
      " 17  Original Release Date             439 non-null    object \n",
      " 18  Streaming Release Date            438 non-null    object \n",
      " 19  Production Company                439 non-null    object \n",
      " 20  Tomatometer Status                439 non-null    object \n",
      " 21  Tomatometer Rating                439 non-null    float64\n",
      " 22  Tomatometer Count                 439 non-null    float64\n",
      " 23  Audience Status                   436 non-null    object \n",
      " 24  Audience Rating                   439 non-null    float64\n",
      " 25  Audience Count                    439 non-null    float64\n",
      " 26  Tomatometer Top Critics Count     439 non-null    float64\n",
      " 27  Tomatometer Fresh Critics Count   439 non-null    float64\n",
      " 28  Tomatometer Rotten Critics Count  439 non-null    float64\n",
      " 29  Film ID                           571 non-null    object \n",
      "dtypes: float64(8), int64(3), object(19)\n",
      "memory usage: 134.0+ KB\n"
     ]
    }
   ],
   "source": [
    "df.info()"
   ]
  },
  {
   "cell_type": "code",
   "execution_count": 4,
   "id": "3db943d4",
   "metadata": {},
   "outputs": [
    {
     "data": {
      "text/html": [
       "<div>\n",
       "<style scoped>\n",
       "    .dataframe tbody tr th:only-of-type {\n",
       "        vertical-align: middle;\n",
       "    }\n",
       "\n",
       "    .dataframe tbody tr th {\n",
       "        vertical-align: top;\n",
       "    }\n",
       "\n",
       "    .dataframe thead th {\n",
       "        text-align: right;\n",
       "    }\n",
       "</style>\n",
       "<table border=\"1\" class=\"dataframe\">\n",
       "  <thead>\n",
       "    <tr style=\"text-align: right;\">\n",
       "      <th></th>\n",
       "      <th>Unnamed: 0</th>\n",
       "      <th>Film</th>\n",
       "      <th>Oscar Year</th>\n",
       "      <th>Film Studio/Producer(s)</th>\n",
       "      <th>Award</th>\n",
       "      <th>Year of Release</th>\n",
       "      <th>Movie Time</th>\n",
       "      <th>Movie Genre</th>\n",
       "      <th>IMDB Rating</th>\n",
       "      <th>IMDB Votes</th>\n",
       "      <th>...</th>\n",
       "      <th>Tomatometer Status</th>\n",
       "      <th>Tomatometer Rating</th>\n",
       "      <th>Tomatometer Count</th>\n",
       "      <th>Audience Status</th>\n",
       "      <th>Audience Rating</th>\n",
       "      <th>Audience Count</th>\n",
       "      <th>Tomatometer Top Critics Count</th>\n",
       "      <th>Tomatometer Fresh Critics Count</th>\n",
       "      <th>Tomatometer Rotten Critics Count</th>\n",
       "      <th>Film ID</th>\n",
       "    </tr>\n",
       "  </thead>\n",
       "  <tbody>\n",
       "    <tr>\n",
       "      <th>0</th>\n",
       "      <td>0</td>\n",
       "      <td>Wings</td>\n",
       "      <td>1927/28</td>\n",
       "      <td>Famous Players-Lasky</td>\n",
       "      <td>Winner</td>\n",
       "      <td>1927</td>\n",
       "      <td>144</td>\n",
       "      <td>Drama,Romance,War</td>\n",
       "      <td>7.5</td>\n",
       "      <td>12,221</td>\n",
       "      <td>...</td>\n",
       "      <td>Certified-Fresh</td>\n",
       "      <td>93.0</td>\n",
       "      <td>46.0</td>\n",
       "      <td>Upright</td>\n",
       "      <td>78.0</td>\n",
       "      <td>3530.0</td>\n",
       "      <td>9.0</td>\n",
       "      <td>43.0</td>\n",
       "      <td>3.0</td>\n",
       "      <td>2becf7d5-a3de-46ab-ae45-abdd6b588067</td>\n",
       "    </tr>\n",
       "    <tr>\n",
       "      <th>1</th>\n",
       "      <td>1</td>\n",
       "      <td>7th Heaven</td>\n",
       "      <td>1927/28</td>\n",
       "      <td>Fox</td>\n",
       "      <td>Nominee</td>\n",
       "      <td>1927</td>\n",
       "      <td>110</td>\n",
       "      <td>Drama,Romance</td>\n",
       "      <td>7.7</td>\n",
       "      <td>3,439</td>\n",
       "      <td>...</td>\n",
       "      <td>NaN</td>\n",
       "      <td>NaN</td>\n",
       "      <td>NaN</td>\n",
       "      <td>NaN</td>\n",
       "      <td>NaN</td>\n",
       "      <td>NaN</td>\n",
       "      <td>NaN</td>\n",
       "      <td>NaN</td>\n",
       "      <td>NaN</td>\n",
       "      <td>19ed3295-a878-4fd2-8e60-5cd7b5f93dad</td>\n",
       "    </tr>\n",
       "    <tr>\n",
       "      <th>2</th>\n",
       "      <td>2</td>\n",
       "      <td>The Racket</td>\n",
       "      <td>1927/28</td>\n",
       "      <td>The Caddo Company</td>\n",
       "      <td>Nominee</td>\n",
       "      <td>1928</td>\n",
       "      <td>84</td>\n",
       "      <td>Crime,Drama,Film-Noir</td>\n",
       "      <td>6.7</td>\n",
       "      <td>1,257</td>\n",
       "      <td>...</td>\n",
       "      <td>NaN</td>\n",
       "      <td>NaN</td>\n",
       "      <td>NaN</td>\n",
       "      <td>NaN</td>\n",
       "      <td>NaN</td>\n",
       "      <td>NaN</td>\n",
       "      <td>NaN</td>\n",
       "      <td>NaN</td>\n",
       "      <td>NaN</td>\n",
       "      <td>3111c2d8-0908-4093-8ff3-99c89f2f2f08</td>\n",
       "    </tr>\n",
       "    <tr>\n",
       "      <th>3</th>\n",
       "      <td>3</td>\n",
       "      <td>The Broadway Melody</td>\n",
       "      <td>1928/29</td>\n",
       "      <td>Metro-Goldwyn-Mayer</td>\n",
       "      <td>Winner</td>\n",
       "      <td>1929</td>\n",
       "      <td>100</td>\n",
       "      <td>Drama,Musical,Romance</td>\n",
       "      <td>5.7</td>\n",
       "      <td>6,890</td>\n",
       "      <td>...</td>\n",
       "      <td>Rotten</td>\n",
       "      <td>33.0</td>\n",
       "      <td>24.0</td>\n",
       "      <td>Spilled</td>\n",
       "      <td>21.0</td>\n",
       "      <td>1813.0</td>\n",
       "      <td>7.0</td>\n",
       "      <td>8.0</td>\n",
       "      <td>16.0</td>\n",
       "      <td>de063f3f-2d35-4e1c-8636-6eb4c16bd236</td>\n",
       "    </tr>\n",
       "    <tr>\n",
       "      <th>4</th>\n",
       "      <td>4</td>\n",
       "      <td>Alibi</td>\n",
       "      <td>1928/29</td>\n",
       "      <td>Feature Productions</td>\n",
       "      <td>Nominee</td>\n",
       "      <td>1929</td>\n",
       "      <td>91</td>\n",
       "      <td>Action,Crime,Romance</td>\n",
       "      <td>5.8</td>\n",
       "      <td>765</td>\n",
       "      <td>...</td>\n",
       "      <td>NaN</td>\n",
       "      <td>NaN</td>\n",
       "      <td>NaN</td>\n",
       "      <td>NaN</td>\n",
       "      <td>NaN</td>\n",
       "      <td>NaN</td>\n",
       "      <td>NaN</td>\n",
       "      <td>NaN</td>\n",
       "      <td>NaN</td>\n",
       "      <td>609887c2-877c-43a4-b88c-e40e31096a98</td>\n",
       "    </tr>\n",
       "  </tbody>\n",
       "</table>\n",
       "<p>5 rows × 30 columns</p>\n",
       "</div>"
      ],
      "text/plain": [
       "   Unnamed: 0                 Film Oscar Year Film Studio/Producer(s)  \\\n",
       "0           0                Wings    1927/28    Famous Players-Lasky   \n",
       "1           1           7th Heaven    1927/28                     Fox   \n",
       "2           2           The Racket    1927/28       The Caddo Company   \n",
       "3           3  The Broadway Melody    1928/29     Metro-Goldwyn-Mayer   \n",
       "4           4                Alibi    1928/29     Feature Productions   \n",
       "\n",
       "     Award  Year of Release  Movie Time            Movie Genre  IMDB Rating  \\\n",
       "0   Winner             1927         144      Drama,Romance,War          7.5   \n",
       "1  Nominee             1927         110          Drama,Romance          7.7   \n",
       "2  Nominee             1928          84  Crime,Drama,Film-Noir          6.7   \n",
       "3   Winner             1929         100  Drama,Musical,Romance          5.7   \n",
       "4  Nominee             1929          91   Action,Crime,Romance          5.8   \n",
       "\n",
       "  IMDB Votes  ... Tomatometer Status Tomatometer Rating Tomatometer Count  \\\n",
       "0     12,221  ...    Certified-Fresh               93.0              46.0   \n",
       "1      3,439  ...                NaN                NaN               NaN   \n",
       "2      1,257  ...                NaN                NaN               NaN   \n",
       "3      6,890  ...             Rotten               33.0              24.0   \n",
       "4        765  ...                NaN                NaN               NaN   \n",
       "\n",
       "  Audience Status Audience Rating Audience Count  \\\n",
       "0         Upright            78.0         3530.0   \n",
       "1             NaN             NaN            NaN   \n",
       "2             NaN             NaN            NaN   \n",
       "3         Spilled            21.0         1813.0   \n",
       "4             NaN             NaN            NaN   \n",
       "\n",
       "  Tomatometer Top Critics Count Tomatometer Fresh Critics Count  \\\n",
       "0                           9.0                            43.0   \n",
       "1                           NaN                             NaN   \n",
       "2                           NaN                             NaN   \n",
       "3                           7.0                             8.0   \n",
       "4                           NaN                             NaN   \n",
       "\n",
       "  Tomatometer Rotten Critics Count                               Film ID  \n",
       "0                              3.0  2becf7d5-a3de-46ab-ae45-abdd6b588067  \n",
       "1                              NaN  19ed3295-a878-4fd2-8e60-5cd7b5f93dad  \n",
       "2                              NaN  3111c2d8-0908-4093-8ff3-99c89f2f2f08  \n",
       "3                             16.0  de063f3f-2d35-4e1c-8636-6eb4c16bd236  \n",
       "4                              NaN  609887c2-877c-43a4-b88c-e40e31096a98  \n",
       "\n",
       "[5 rows x 30 columns]"
      ]
     },
     "execution_count": 4,
     "metadata": {},
     "output_type": "execute_result"
    }
   ],
   "source": [
    "df.head()"
   ]
  },
  {
   "cell_type": "code",
   "execution_count": 5,
   "id": "a2ff4df4",
   "metadata": {},
   "outputs": [
    {
     "data": {
      "text/html": [
       "<div>\n",
       "<style scoped>\n",
       "    .dataframe tbody tr th:only-of-type {\n",
       "        vertical-align: middle;\n",
       "    }\n",
       "\n",
       "    .dataframe tbody tr th {\n",
       "        vertical-align: top;\n",
       "    }\n",
       "\n",
       "    .dataframe thead th {\n",
       "        text-align: right;\n",
       "    }\n",
       "</style>\n",
       "<table border=\"1\" class=\"dataframe\">\n",
       "  <thead>\n",
       "    <tr style=\"text-align: right;\">\n",
       "      <th></th>\n",
       "      <th>Unnamed: 0</th>\n",
       "      <th>Year of Release</th>\n",
       "      <th>Movie Time</th>\n",
       "      <th>IMDB Rating</th>\n",
       "      <th>Tomatometer Rating</th>\n",
       "      <th>Tomatometer Count</th>\n",
       "      <th>Audience Rating</th>\n",
       "      <th>Audience Count</th>\n",
       "      <th>Tomatometer Top Critics Count</th>\n",
       "      <th>Tomatometer Fresh Critics Count</th>\n",
       "      <th>Tomatometer Rotten Critics Count</th>\n",
       "    </tr>\n",
       "  </thead>\n",
       "  <tbody>\n",
       "    <tr>\n",
       "      <th>count</th>\n",
       "      <td>571.000000</td>\n",
       "      <td>571.000000</td>\n",
       "      <td>571.000000</td>\n",
       "      <td>571.000000</td>\n",
       "      <td>439.000000</td>\n",
       "      <td>439.000000</td>\n",
       "      <td>439.000000</td>\n",
       "      <td>4.390000e+02</td>\n",
       "      <td>439.000000</td>\n",
       "      <td>439.000000</td>\n",
       "      <td>439.000000</td>\n",
       "    </tr>\n",
       "    <tr>\n",
       "      <th>mean</th>\n",
       "      <td>285.000000</td>\n",
       "      <td>1973.357268</td>\n",
       "      <td>124.894921</td>\n",
       "      <td>7.570403</td>\n",
       "      <td>87.503417</td>\n",
       "      <td>110.697039</td>\n",
       "      <td>82.428246</td>\n",
       "      <td>5.154145e+05</td>\n",
       "      <td>21.861048</td>\n",
       "      <td>98.471526</td>\n",
       "      <td>12.275626</td>\n",
       "    </tr>\n",
       "    <tr>\n",
       "      <th>std</th>\n",
       "      <td>164.977776</td>\n",
       "      <td>29.315738</td>\n",
       "      <td>26.322817</td>\n",
       "      <td>0.559652</td>\n",
       "      <td>11.690622</td>\n",
       "      <td>119.541406</td>\n",
       "      <td>10.927897</td>\n",
       "      <td>3.623107e+06</td>\n",
       "      <td>21.615492</td>\n",
       "      <td>107.798554</td>\n",
       "      <td>19.310232</td>\n",
       "    </tr>\n",
       "    <tr>\n",
       "      <th>min</th>\n",
       "      <td>0.000000</td>\n",
       "      <td>1927.000000</td>\n",
       "      <td>66.000000</td>\n",
       "      <td>5.600000</td>\n",
       "      <td>29.000000</td>\n",
       "      <td>5.000000</td>\n",
       "      <td>21.000000</td>\n",
       "      <td>6.000000e+00</td>\n",
       "      <td>0.000000</td>\n",
       "      <td>3.000000</td>\n",
       "      <td>0.000000</td>\n",
       "    </tr>\n",
       "    <tr>\n",
       "      <th>25%</th>\n",
       "      <td>142.500000</td>\n",
       "      <td>1944.000000</td>\n",
       "      <td>107.000000</td>\n",
       "      <td>7.300000</td>\n",
       "      <td>84.000000</td>\n",
       "      <td>25.000000</td>\n",
       "      <td>78.000000</td>\n",
       "      <td>6.637500e+03</td>\n",
       "      <td>5.000000</td>\n",
       "      <td>21.500000</td>\n",
       "      <td>2.000000</td>\n",
       "    </tr>\n",
       "    <tr>\n",
       "      <th>50%</th>\n",
       "      <td>285.000000</td>\n",
       "      <td>1972.000000</td>\n",
       "      <td>121.000000</td>\n",
       "      <td>7.600000</td>\n",
       "      <td>91.000000</td>\n",
       "      <td>54.000000</td>\n",
       "      <td>85.000000</td>\n",
       "      <td>3.716600e+04</td>\n",
       "      <td>11.000000</td>\n",
       "      <td>49.000000</td>\n",
       "      <td>5.000000</td>\n",
       "    </tr>\n",
       "    <tr>\n",
       "      <th>75%</th>\n",
       "      <td>427.500000</td>\n",
       "      <td>2001.000000</td>\n",
       "      <td>136.500000</td>\n",
       "      <td>7.900000</td>\n",
       "      <td>95.000000</td>\n",
       "      <td>199.000000</td>\n",
       "      <td>90.000000</td>\n",
       "      <td>1.255365e+05</td>\n",
       "      <td>45.000000</td>\n",
       "      <td>163.500000</td>\n",
       "      <td>15.000000</td>\n",
       "    </tr>\n",
       "    <tr>\n",
       "      <th>max</th>\n",
       "      <td>570.000000</td>\n",
       "      <td>2021.000000</td>\n",
       "      <td>238.000000</td>\n",
       "      <td>9.300000</td>\n",
       "      <td>100.000000</td>\n",
       "      <td>574.000000</td>\n",
       "      <td>98.000000</td>\n",
       "      <td>3.579764e+07</td>\n",
       "      <td>69.000000</td>\n",
       "      <td>495.000000</td>\n",
       "      <td>182.000000</td>\n",
       "    </tr>\n",
       "  </tbody>\n",
       "</table>\n",
       "</div>"
      ],
      "text/plain": [
       "       Unnamed: 0  Year of Release  Movie Time  IMDB Rating  \\\n",
       "count  571.000000       571.000000  571.000000   571.000000   \n",
       "mean   285.000000      1973.357268  124.894921     7.570403   \n",
       "std    164.977776        29.315738   26.322817     0.559652   \n",
       "min      0.000000      1927.000000   66.000000     5.600000   \n",
       "25%    142.500000      1944.000000  107.000000     7.300000   \n",
       "50%    285.000000      1972.000000  121.000000     7.600000   \n",
       "75%    427.500000      2001.000000  136.500000     7.900000   \n",
       "max    570.000000      2021.000000  238.000000     9.300000   \n",
       "\n",
       "       Tomatometer Rating  Tomatometer Count  Audience Rating  Audience Count  \\\n",
       "count          439.000000         439.000000       439.000000    4.390000e+02   \n",
       "mean            87.503417         110.697039        82.428246    5.154145e+05   \n",
       "std             11.690622         119.541406        10.927897    3.623107e+06   \n",
       "min             29.000000           5.000000        21.000000    6.000000e+00   \n",
       "25%             84.000000          25.000000        78.000000    6.637500e+03   \n",
       "50%             91.000000          54.000000        85.000000    3.716600e+04   \n",
       "75%             95.000000         199.000000        90.000000    1.255365e+05   \n",
       "max            100.000000         574.000000        98.000000    3.579764e+07   \n",
       "\n",
       "       Tomatometer Top Critics Count  Tomatometer Fresh Critics Count  \\\n",
       "count                     439.000000                       439.000000   \n",
       "mean                       21.861048                        98.471526   \n",
       "std                        21.615492                       107.798554   \n",
       "min                         0.000000                         3.000000   \n",
       "25%                         5.000000                        21.500000   \n",
       "50%                        11.000000                        49.000000   \n",
       "75%                        45.000000                       163.500000   \n",
       "max                        69.000000                       495.000000   \n",
       "\n",
       "       Tomatometer Rotten Critics Count  \n",
       "count                        439.000000  \n",
       "mean                          12.275626  \n",
       "std                           19.310232  \n",
       "min                            0.000000  \n",
       "25%                            2.000000  \n",
       "50%                            5.000000  \n",
       "75%                           15.000000  \n",
       "max                          182.000000  "
      ]
     },
     "execution_count": 5,
     "metadata": {},
     "output_type": "execute_result"
    }
   ],
   "source": [
    "df.describe()"
   ]
  },
  {
   "cell_type": "code",
   "execution_count": 6,
   "id": "9f5b9f47",
   "metadata": {},
   "outputs": [
    {
     "data": {
      "text/plain": [
       "Index(['Unnamed: 0', 'Film', 'Oscar Year', 'Film Studio/Producer(s)', 'Award',\n",
       "       'Year of Release', 'Movie Time', 'Movie Genre', 'IMDB Rating',\n",
       "       'IMDB Votes', 'Movie Info', 'Genres', 'Critic Consensus',\n",
       "       'Content Rating', 'Directors', 'Authors', 'Actors',\n",
       "       'Original Release Date', 'Streaming Release Date', 'Production Company',\n",
       "       'Tomatometer Status', 'Tomatometer Rating', 'Tomatometer Count',\n",
       "       'Audience Status', 'Audience Rating', 'Audience Count',\n",
       "       'Tomatometer Top Critics Count', 'Tomatometer Fresh Critics Count',\n",
       "       'Tomatometer Rotten Critics Count', 'Film ID'],\n",
       "      dtype='object')"
      ]
     },
     "execution_count": 6,
     "metadata": {},
     "output_type": "execute_result"
    }
   ],
   "source": [
    "df.columns"
   ]
  },
  {
   "cell_type": "markdown",
   "id": "35b24e58",
   "metadata": {},
   "source": [
    "## Обработка пропущенных значений (если таковые имеются)"
   ]
  },
  {
   "cell_type": "code",
   "execution_count": 7,
   "id": "66e03ce6",
   "metadata": {},
   "outputs": [],
   "source": [
    "df.drop(columns=[\"Unnamed: 0\", \"Critic Consensus\", \"Movie Info\"], inplace=True)"
   ]
  },
  {
   "cell_type": "code",
   "execution_count": 8,
   "id": "abaf3687",
   "metadata": {},
   "outputs": [],
   "source": [
    "new_name_column = []\n",
    "for i in df.columns:\n",
    "    df.rename(columns={i: i.replace(\" \", \"_\").lower()}, inplace=True) "
   ]
  },
  {
   "cell_type": "code",
   "execution_count": 9,
   "id": "7af2bd92",
   "metadata": {},
   "outputs": [
    {
     "data": {
      "text/plain": [
       "film                                  0\n",
       "oscar_year                            0\n",
       "film_studio/producer(s)               0\n",
       "award                                 0\n",
       "year_of_release                       0\n",
       "movie_time                            0\n",
       "movie_genre                           0\n",
       "imdb_rating                           0\n",
       "imdb_votes                            0\n",
       "genres                              132\n",
       "content_rating                      132\n",
       "directors                           134\n",
       "authors                             134\n",
       "actors                              132\n",
       "original_release_date               132\n",
       "streaming_release_date              133\n",
       "production_company                  132\n",
       "tomatometer_status                  132\n",
       "tomatometer_rating                  132\n",
       "tomatometer_count                   132\n",
       "audience_status                     135\n",
       "audience_rating                     132\n",
       "audience_count                      132\n",
       "tomatometer_top_critics_count       132\n",
       "tomatometer_fresh_critics_count     132\n",
       "tomatometer_rotten_critics_count    132\n",
       "film_id                               0\n",
       "dtype: int64"
      ]
     },
     "execution_count": 9,
     "metadata": {},
     "output_type": "execute_result"
    }
   ],
   "source": [
    "df.isna().sum()"
   ]
  },
  {
   "cell_type": "code",
   "execution_count": 10,
   "id": "69bf9b7c",
   "metadata": {},
   "outputs": [],
   "source": [
    "imdb_votes = df.imdb_votes\n",
    "new_imdb_votes = [int(i.replace(\",\", \"\")) for i in imdb_votes.values]\n",
    "df.imdb_votes = new_imdb_votes"
   ]
  },
  {
   "cell_type": "code",
   "execution_count": 11,
   "id": "515ac3d2",
   "metadata": {},
   "outputs": [],
   "source": [
    "df_na = df.iloc[:, 9:26]"
   ]
  },
  {
   "cell_type": "code",
   "execution_count": 12,
   "id": "a1d2a4b9",
   "metadata": {},
   "outputs": [
    {
     "data": {
      "text/plain": [
       "(139, 27)"
      ]
     },
     "execution_count": 12,
     "metadata": {},
     "output_type": "execute_result"
    }
   ],
   "source": [
    "df_na = df[df_na[df_na.columns].isna().any(axis=1)]\n",
    "df_na.shape"
   ]
  },
  {
   "cell_type": "markdown",
   "id": "11f9ed16",
   "metadata": {},
   "source": [
    "Почти все пропущенные значения располагаются в 132, поэтому их можно удалить."
   ]
  },
  {
   "cell_type": "code",
   "execution_count": 13,
   "id": "9e8db71c",
   "metadata": {},
   "outputs": [],
   "source": [
    "df.dropna(subset=[\"tomatometer_rotten_critics_count\"], inplace=True)\n",
    "df.reset_index(drop=True, inplace=True)"
   ]
  },
  {
   "cell_type": "code",
   "execution_count": 14,
   "id": "70a3c6d6",
   "metadata": {},
   "outputs": [
    {
     "data": {
      "text/plain": [
       "film                                0\n",
       "oscar_year                          0\n",
       "film_studio/producer(s)             0\n",
       "award                               0\n",
       "year_of_release                     0\n",
       "movie_time                          0\n",
       "movie_genre                         0\n",
       "imdb_rating                         0\n",
       "imdb_votes                          0\n",
       "genres                              0\n",
       "content_rating                      0\n",
       "directors                           2\n",
       "authors                             2\n",
       "actors                              0\n",
       "original_release_date               0\n",
       "streaming_release_date              1\n",
       "production_company                  0\n",
       "tomatometer_status                  0\n",
       "tomatometer_rating                  0\n",
       "tomatometer_count                   0\n",
       "audience_status                     3\n",
       "audience_rating                     0\n",
       "audience_count                      0\n",
       "tomatometer_top_critics_count       0\n",
       "tomatometer_fresh_critics_count     0\n",
       "tomatometer_rotten_critics_count    0\n",
       "film_id                             0\n",
       "dtype: int64"
      ]
     },
     "execution_count": 14,
     "metadata": {},
     "output_type": "execute_result"
    }
   ],
   "source": [
    "df.isna().sum()"
   ]
  },
  {
   "cell_type": "code",
   "execution_count": 15,
   "id": "f56c7b7b",
   "metadata": {},
   "outputs": [],
   "source": [
    "df.fillna(\"unknown\", inplace=True)"
   ]
  },
  {
   "cell_type": "markdown",
   "id": "27288850",
   "metadata": {},
   "source": [
    "## Обогащение данных"
   ]
  },
  {
   "cell_type": "code",
   "execution_count": 16,
   "id": "9849597b",
   "metadata": {},
   "outputs": [],
   "source": [
    "df['original_release_date'] = pd.to_datetime(df['original_release_date'],format = '%Y-%m-%d')"
   ]
  },
  {
   "cell_type": "code",
   "execution_count": 17,
   "id": "6af8a244",
   "metadata": {},
   "outputs": [
    {
     "data": {
      "text/plain": [
       "Friday       176\n",
       "Wednesday    112\n",
       "Thursday      52\n",
       "Tuesday       32\n",
       "Saturday      26\n",
       "Sunday        22\n",
       "Monday        19\n",
       "Name: day_posted, dtype: int64"
      ]
     },
     "execution_count": 17,
     "metadata": {},
     "output_type": "execute_result"
    }
   ],
   "source": [
    "df['day_posted'] = df.original_release_date.dt.day_name()\n",
    "df['day_posted'].value_counts()"
   ]
  },
  {
   "cell_type": "code",
   "execution_count": 18,
   "id": "25b3d137",
   "metadata": {},
   "outputs": [
    {
     "data": {
      "text/plain": [
       "December     118\n",
       "November      65\n",
       "October       46\n",
       "September     39\n",
       "January       35\n",
       "August        30\n",
       "June          25\n",
       "July          22\n",
       "May           18\n",
       "March         18\n",
       "February      12\n",
       "April         11\n",
       "Name: month_posted, dtype: int64"
      ]
     },
     "execution_count": 18,
     "metadata": {},
     "output_type": "execute_result"
    }
   ],
   "source": [
    "df['month_posted'] = df.original_release_date.dt.month_name()\n",
    "df['month_posted'].value_counts()"
   ]
  },
  {
   "cell_type": "code",
   "execution_count": 19,
   "id": "2850f94a",
   "metadata": {},
   "outputs": [
    {
     "data": {
      "text/plain": [
       "2010    10\n",
       "2013     9\n",
       "1939     9\n",
       "1942     9\n",
       "2009     8\n",
       "        ..\n",
       "1931     2\n",
       "1929     1\n",
       "1930     1\n",
       "1928     1\n",
       "1927     1\n",
       "Name: year_posted, Length: 93, dtype: int64"
      ]
     },
     "execution_count": 19,
     "metadata": {},
     "output_type": "execute_result"
    }
   ],
   "source": [
    "df['year_posted'] = df.original_release_date.dt.year\n",
    "df['year_posted'].value_counts()"
   ]
  },
  {
   "cell_type": "code",
   "execution_count": 20,
   "id": "3a99b7f2",
   "metadata": {},
   "outputs": [],
   "source": [
    "df = df.replace({'oscar_year':{\"1927/28\":\"1927\", \"1928/29\":\"1928\", \"1929/30\":\"1929\", \"1930/31\":\"1930\",\n",
    "                              \"1931/32\":\"1931\", \"1932/33\":\"1932\"}})"
   ]
  },
  {
   "cell_type": "code",
   "execution_count": 21,
   "id": "e5f126c4",
   "metadata": {},
   "outputs": [],
   "source": [
    "df = df.astype({'oscar_year': np.int16})"
   ]
  },
  {
   "cell_type": "code",
   "execution_count": 22,
   "id": "50e84c5d",
   "metadata": {},
   "outputs": [],
   "source": [
    "df[[\"audience_rating\", \"tomatometer_rating\"]] /= 10"
   ]
  },
  {
   "cell_type": "markdown",
   "id": "baf8692f",
   "metadata": {},
   "source": [
    "### **Проверка \"очищенных\" данных**"
   ]
  },
  {
   "cell_type": "markdown",
   "id": "fde8dbf4",
   "metadata": {},
   "source": [
    "Данные готовы для анализа. Просто взгляните на них еще раз, и его можно будет использовать для EDA."
   ]
  },
  {
   "cell_type": "code",
   "execution_count": 23,
   "id": "442da270",
   "metadata": {},
   "outputs": [
    {
     "data": {
      "text/plain": [
       "0"
      ]
     },
     "execution_count": 23,
     "metadata": {},
     "output_type": "execute_result"
    }
   ],
   "source": [
    "df.duplicated().sum()"
   ]
  },
  {
   "cell_type": "markdown",
   "id": "db487642",
   "metadata": {},
   "source": [
    "Никаких дублированных данных в необработанных данных. Проверим сводную информацию в DataFrame."
   ]
  },
  {
   "cell_type": "code",
   "execution_count": 24,
   "id": "e8049cab",
   "metadata": {},
   "outputs": [
    {
     "name": "stdout",
     "output_type": "stream",
     "text": [
      "<class 'pandas.core.frame.DataFrame'>\n",
      "RangeIndex: 439 entries, 0 to 438\n",
      "Data columns (total 30 columns):\n",
      " #   Column                            Non-Null Count  Dtype         \n",
      "---  ------                            --------------  -----         \n",
      " 0   film                              439 non-null    object        \n",
      " 1   oscar_year                        439 non-null    int16         \n",
      " 2   film_studio/producer(s)           439 non-null    object        \n",
      " 3   award                             439 non-null    object        \n",
      " 4   year_of_release                   439 non-null    int64         \n",
      " 5   movie_time                        439 non-null    int64         \n",
      " 6   movie_genre                       439 non-null    object        \n",
      " 7   imdb_rating                       439 non-null    float64       \n",
      " 8   imdb_votes                        439 non-null    int64         \n",
      " 9   genres                            439 non-null    object        \n",
      " 10  content_rating                    439 non-null    object        \n",
      " 11  directors                         439 non-null    object        \n",
      " 12  authors                           439 non-null    object        \n",
      " 13  actors                            439 non-null    object        \n",
      " 14  original_release_date             439 non-null    datetime64[ns]\n",
      " 15  streaming_release_date            439 non-null    object        \n",
      " 16  production_company                439 non-null    object        \n",
      " 17  tomatometer_status                439 non-null    object        \n",
      " 18  tomatometer_rating                439 non-null    float64       \n",
      " 19  tomatometer_count                 439 non-null    float64       \n",
      " 20  audience_status                   439 non-null    object        \n",
      " 21  audience_rating                   439 non-null    float64       \n",
      " 22  audience_count                    439 non-null    float64       \n",
      " 23  tomatometer_top_critics_count     439 non-null    float64       \n",
      " 24  tomatometer_fresh_critics_count   439 non-null    float64       \n",
      " 25  tomatometer_rotten_critics_count  439 non-null    float64       \n",
      " 26  film_id                           439 non-null    object        \n",
      " 27  day_posted                        439 non-null    object        \n",
      " 28  month_posted                      439 non-null    object        \n",
      " 29  year_posted                       439 non-null    int64         \n",
      "dtypes: datetime64[ns](1), float64(8), int16(1), int64(4), object(16)\n",
      "memory usage: 100.4+ KB\n"
     ]
    }
   ],
   "source": [
    "df.info()"
   ]
  },
  {
   "cell_type": "code",
   "execution_count": 25,
   "id": "088d6179",
   "metadata": {},
   "outputs": [
    {
     "data": {
      "text/html": [
       "<div>\n",
       "<style scoped>\n",
       "    .dataframe tbody tr th:only-of-type {\n",
       "        vertical-align: middle;\n",
       "    }\n",
       "\n",
       "    .dataframe tbody tr th {\n",
       "        vertical-align: top;\n",
       "    }\n",
       "\n",
       "    .dataframe thead th {\n",
       "        text-align: right;\n",
       "    }\n",
       "</style>\n",
       "<table border=\"1\" class=\"dataframe\">\n",
       "  <thead>\n",
       "    <tr style=\"text-align: right;\">\n",
       "      <th></th>\n",
       "      <th>film</th>\n",
       "      <th>oscar_year</th>\n",
       "      <th>film_studio/producer(s)</th>\n",
       "      <th>award</th>\n",
       "      <th>year_of_release</th>\n",
       "      <th>movie_time</th>\n",
       "      <th>movie_genre</th>\n",
       "      <th>imdb_rating</th>\n",
       "      <th>imdb_votes</th>\n",
       "      <th>genres</th>\n",
       "      <th>...</th>\n",
       "      <th>audience_status</th>\n",
       "      <th>audience_rating</th>\n",
       "      <th>audience_count</th>\n",
       "      <th>tomatometer_top_critics_count</th>\n",
       "      <th>tomatometer_fresh_critics_count</th>\n",
       "      <th>tomatometer_rotten_critics_count</th>\n",
       "      <th>film_id</th>\n",
       "      <th>day_posted</th>\n",
       "      <th>month_posted</th>\n",
       "      <th>year_posted</th>\n",
       "    </tr>\n",
       "  </thead>\n",
       "  <tbody>\n",
       "    <tr>\n",
       "      <th>0</th>\n",
       "      <td>Wings</td>\n",
       "      <td>1927</td>\n",
       "      <td>Famous Players-Lasky</td>\n",
       "      <td>Winner</td>\n",
       "      <td>1927</td>\n",
       "      <td>144</td>\n",
       "      <td>Drama,Romance,War</td>\n",
       "      <td>7.5</td>\n",
       "      <td>12221</td>\n",
       "      <td>Action &amp; Adventure, Classics</td>\n",
       "      <td>...</td>\n",
       "      <td>Upright</td>\n",
       "      <td>7.8</td>\n",
       "      <td>3530.0</td>\n",
       "      <td>9.0</td>\n",
       "      <td>43.0</td>\n",
       "      <td>3.0</td>\n",
       "      <td>2becf7d5-a3de-46ab-ae45-abdd6b588067</td>\n",
       "      <td>Friday</td>\n",
       "      <td>August</td>\n",
       "      <td>1927</td>\n",
       "    </tr>\n",
       "    <tr>\n",
       "      <th>1</th>\n",
       "      <td>The Broadway Melody</td>\n",
       "      <td>1928</td>\n",
       "      <td>Metro-Goldwyn-Mayer</td>\n",
       "      <td>Winner</td>\n",
       "      <td>1929</td>\n",
       "      <td>100</td>\n",
       "      <td>Drama,Musical,Romance</td>\n",
       "      <td>5.7</td>\n",
       "      <td>6890</td>\n",
       "      <td>Musical &amp; Performing Arts, Romance</td>\n",
       "      <td>...</td>\n",
       "      <td>Spilled</td>\n",
       "      <td>2.1</td>\n",
       "      <td>1813.0</td>\n",
       "      <td>7.0</td>\n",
       "      <td>8.0</td>\n",
       "      <td>16.0</td>\n",
       "      <td>de063f3f-2d35-4e1c-8636-6eb4c16bd236</td>\n",
       "      <td>Friday</td>\n",
       "      <td>February</td>\n",
       "      <td>1929</td>\n",
       "    </tr>\n",
       "    <tr>\n",
       "      <th>2</th>\n",
       "      <td>In Old Arizona</td>\n",
       "      <td>1928</td>\n",
       "      <td>Fox</td>\n",
       "      <td>Nominee</td>\n",
       "      <td>1928</td>\n",
       "      <td>95</td>\n",
       "      <td>Western</td>\n",
       "      <td>5.6</td>\n",
       "      <td>1019</td>\n",
       "      <td>Action &amp; Adventure, Classics, Western, Romance</td>\n",
       "      <td>...</td>\n",
       "      <td>Spilled</td>\n",
       "      <td>3.8</td>\n",
       "      <td>356.0</td>\n",
       "      <td>2.0</td>\n",
       "      <td>5.0</td>\n",
       "      <td>4.0</td>\n",
       "      <td>a0644f19-a136-44c2-ab5d-50978ef19608</td>\n",
       "      <td>Tuesday</td>\n",
       "      <td>December</td>\n",
       "      <td>1928</td>\n",
       "    </tr>\n",
       "    <tr>\n",
       "      <th>3</th>\n",
       "      <td>The Big House</td>\n",
       "      <td>1929</td>\n",
       "      <td>Cosmopolitan</td>\n",
       "      <td>Nominee</td>\n",
       "      <td>1930</td>\n",
       "      <td>87</td>\n",
       "      <td>Crime,Drama,Thriller</td>\n",
       "      <td>7.1</td>\n",
       "      <td>2079</td>\n",
       "      <td>Classics, Drama</td>\n",
       "      <td>...</td>\n",
       "      <td>Upright</td>\n",
       "      <td>6.9</td>\n",
       "      <td>323.0</td>\n",
       "      <td>0.0</td>\n",
       "      <td>6.0</td>\n",
       "      <td>2.0</td>\n",
       "      <td>297aa285-29d7-4a22-b833-c5632ab3e562</td>\n",
       "      <td>Wednesday</td>\n",
       "      <td>May</td>\n",
       "      <td>1930</td>\n",
       "    </tr>\n",
       "    <tr>\n",
       "      <th>4</th>\n",
       "      <td>Cimarron</td>\n",
       "      <td>1930</td>\n",
       "      <td>RKO Radio</td>\n",
       "      <td>Winner</td>\n",
       "      <td>1931</td>\n",
       "      <td>123</td>\n",
       "      <td>Drama,Western</td>\n",
       "      <td>5.9</td>\n",
       "      <td>5851</td>\n",
       "      <td>Classics, Drama, Western</td>\n",
       "      <td>...</td>\n",
       "      <td>Spilled</td>\n",
       "      <td>2.5</td>\n",
       "      <td>1514.0</td>\n",
       "      <td>6.0</td>\n",
       "      <td>12.0</td>\n",
       "      <td>12.0</td>\n",
       "      <td>db2683c0-128e-4b5c-858f-d9f18c2fb9b9</td>\n",
       "      <td>Monday</td>\n",
       "      <td>January</td>\n",
       "      <td>1931</td>\n",
       "    </tr>\n",
       "  </tbody>\n",
       "</table>\n",
       "<p>5 rows × 30 columns</p>\n",
       "</div>"
      ],
      "text/plain": [
       "                  film  oscar_year film_studio/producer(s)    award  \\\n",
       "0                Wings        1927    Famous Players-Lasky   Winner   \n",
       "1  The Broadway Melody        1928     Metro-Goldwyn-Mayer   Winner   \n",
       "2       In Old Arizona        1928                     Fox  Nominee   \n",
       "3        The Big House        1929            Cosmopolitan  Nominee   \n",
       "4             Cimarron        1930               RKO Radio   Winner   \n",
       "\n",
       "   year_of_release  movie_time            movie_genre  imdb_rating  \\\n",
       "0             1927         144      Drama,Romance,War          7.5   \n",
       "1             1929         100  Drama,Musical,Romance          5.7   \n",
       "2             1928          95                Western          5.6   \n",
       "3             1930          87   Crime,Drama,Thriller          7.1   \n",
       "4             1931         123          Drama,Western          5.9   \n",
       "\n",
       "   imdb_votes                                          genres  ...  \\\n",
       "0       12221                    Action & Adventure, Classics  ...   \n",
       "1        6890              Musical & Performing Arts, Romance  ...   \n",
       "2        1019  Action & Adventure, Classics, Western, Romance  ...   \n",
       "3        2079                                 Classics, Drama  ...   \n",
       "4        5851                        Classics, Drama, Western  ...   \n",
       "\n",
       "  audience_status audience_rating audience_count  \\\n",
       "0         Upright             7.8         3530.0   \n",
       "1         Spilled             2.1         1813.0   \n",
       "2         Spilled             3.8          356.0   \n",
       "3         Upright             6.9          323.0   \n",
       "4         Spilled             2.5         1514.0   \n",
       "\n",
       "  tomatometer_top_critics_count tomatometer_fresh_critics_count  \\\n",
       "0                           9.0                            43.0   \n",
       "1                           7.0                             8.0   \n",
       "2                           2.0                             5.0   \n",
       "3                           0.0                             6.0   \n",
       "4                           6.0                            12.0   \n",
       "\n",
       "  tomatometer_rotten_critics_count                               film_id  \\\n",
       "0                              3.0  2becf7d5-a3de-46ab-ae45-abdd6b588067   \n",
       "1                             16.0  de063f3f-2d35-4e1c-8636-6eb4c16bd236   \n",
       "2                              4.0  a0644f19-a136-44c2-ab5d-50978ef19608   \n",
       "3                              2.0  297aa285-29d7-4a22-b833-c5632ab3e562   \n",
       "4                             12.0  db2683c0-128e-4b5c-858f-d9f18c2fb9b9   \n",
       "\n",
       "  day_posted  month_posted  year_posted  \n",
       "0     Friday        August         1927  \n",
       "1     Friday      February         1929  \n",
       "2    Tuesday      December         1928  \n",
       "3  Wednesday           May         1930  \n",
       "4     Monday       January         1931  \n",
       "\n",
       "[5 rows x 30 columns]"
      ]
     },
     "execution_count": 25,
     "metadata": {},
     "output_type": "execute_result"
    }
   ],
   "source": [
    "df.head()"
   ]
  },
  {
   "cell_type": "markdown",
   "id": "1abd94c4",
   "metadata": {},
   "source": [
    "Данные выглядят \"чистыми\" и готовы к EDA."
   ]
  },
  {
   "cell_type": "markdown",
   "id": "0685d07a",
   "metadata": {},
   "source": [
    "# EDA"
   ]
  },
  {
   "cell_type": "code",
   "execution_count": 26,
   "id": "05ea2c78",
   "metadata": {},
   "outputs": [
    {
     "data": {
      "text/html": [
       "<div>\n",
       "<style scoped>\n",
       "    .dataframe tbody tr th:only-of-type {\n",
       "        vertical-align: middle;\n",
       "    }\n",
       "\n",
       "    .dataframe tbody tr th {\n",
       "        vertical-align: top;\n",
       "    }\n",
       "\n",
       "    .dataframe thead th {\n",
       "        text-align: right;\n",
       "    }\n",
       "</style>\n",
       "<table border=\"1\" class=\"dataframe\">\n",
       "  <thead>\n",
       "    <tr style=\"text-align: right;\">\n",
       "      <th></th>\n",
       "      <th>oscar_year</th>\n",
       "      <th>year_of_release</th>\n",
       "      <th>movie_time</th>\n",
       "      <th>imdb_rating</th>\n",
       "      <th>imdb_votes</th>\n",
       "      <th>tomatometer_rating</th>\n",
       "      <th>tomatometer_count</th>\n",
       "      <th>audience_rating</th>\n",
       "      <th>audience_count</th>\n",
       "      <th>tomatometer_top_critics_count</th>\n",
       "      <th>tomatometer_fresh_critics_count</th>\n",
       "      <th>tomatometer_rotten_critics_count</th>\n",
       "      <th>year_posted</th>\n",
       "    </tr>\n",
       "  </thead>\n",
       "  <tbody>\n",
       "    <tr>\n",
       "      <th>count</th>\n",
       "      <td>439.000000</td>\n",
       "      <td>439.000000</td>\n",
       "      <td>439.000000</td>\n",
       "      <td>439.000000</td>\n",
       "      <td>4.390000e+02</td>\n",
       "      <td>439.000000</td>\n",
       "      <td>439.000000</td>\n",
       "      <td>439.000000</td>\n",
       "      <td>4.390000e+02</td>\n",
       "      <td>439.000000</td>\n",
       "      <td>439.000000</td>\n",
       "      <td>439.000000</td>\n",
       "      <td>439.000000</td>\n",
       "    </tr>\n",
       "    <tr>\n",
       "      <th>mean</th>\n",
       "      <td>1975.876993</td>\n",
       "      <td>1975.881549</td>\n",
       "      <td>126.742597</td>\n",
       "      <td>7.634624</td>\n",
       "      <td>2.355875e+05</td>\n",
       "      <td>8.750342</td>\n",
       "      <td>110.697039</td>\n",
       "      <td>8.242825</td>\n",
       "      <td>5.154145e+05</td>\n",
       "      <td>21.861048</td>\n",
       "      <td>98.471526</td>\n",
       "      <td>12.275626</td>\n",
       "      <td>1975.881549</td>\n",
       "    </tr>\n",
       "    <tr>\n",
       "      <th>std</th>\n",
       "      <td>27.851176</td>\n",
       "      <td>27.824377</td>\n",
       "      <td>25.831555</td>\n",
       "      <td>0.508857</td>\n",
       "      <td>3.657208e+05</td>\n",
       "      <td>1.169062</td>\n",
       "      <td>119.541406</td>\n",
       "      <td>1.092790</td>\n",
       "      <td>3.623107e+06</td>\n",
       "      <td>21.615492</td>\n",
       "      <td>107.798554</td>\n",
       "      <td>19.310232</td>\n",
       "      <td>27.824377</td>\n",
       "    </tr>\n",
       "    <tr>\n",
       "      <th>min</th>\n",
       "      <td>1927.000000</td>\n",
       "      <td>1927.000000</td>\n",
       "      <td>66.000000</td>\n",
       "      <td>5.600000</td>\n",
       "      <td>1.019000e+03</td>\n",
       "      <td>2.900000</td>\n",
       "      <td>5.000000</td>\n",
       "      <td>2.100000</td>\n",
       "      <td>6.000000e+00</td>\n",
       "      <td>0.000000</td>\n",
       "      <td>3.000000</td>\n",
       "      <td>0.000000</td>\n",
       "      <td>1927.000000</td>\n",
       "    </tr>\n",
       "    <tr>\n",
       "      <th>25%</th>\n",
       "      <td>1950.000000</td>\n",
       "      <td>1950.000000</td>\n",
       "      <td>109.000000</td>\n",
       "      <td>7.300000</td>\n",
       "      <td>1.438900e+04</td>\n",
       "      <td>8.400000</td>\n",
       "      <td>25.000000</td>\n",
       "      <td>7.800000</td>\n",
       "      <td>6.637500e+03</td>\n",
       "      <td>5.000000</td>\n",
       "      <td>21.500000</td>\n",
       "      <td>2.000000</td>\n",
       "      <td>1950.000000</td>\n",
       "    </tr>\n",
       "    <tr>\n",
       "      <th>50%</th>\n",
       "      <td>1975.000000</td>\n",
       "      <td>1975.000000</td>\n",
       "      <td>123.000000</td>\n",
       "      <td>7.700000</td>\n",
       "      <td>8.205100e+04</td>\n",
       "      <td>9.100000</td>\n",
       "      <td>54.000000</td>\n",
       "      <td>8.500000</td>\n",
       "      <td>3.716600e+04</td>\n",
       "      <td>11.000000</td>\n",
       "      <td>49.000000</td>\n",
       "      <td>5.000000</td>\n",
       "      <td>1975.000000</td>\n",
       "    </tr>\n",
       "    <tr>\n",
       "      <th>75%</th>\n",
       "      <td>2002.000000</td>\n",
       "      <td>2002.000000</td>\n",
       "      <td>138.000000</td>\n",
       "      <td>8.000000</td>\n",
       "      <td>2.965760e+05</td>\n",
       "      <td>9.500000</td>\n",
       "      <td>199.000000</td>\n",
       "      <td>9.000000</td>\n",
       "      <td>1.255365e+05</td>\n",
       "      <td>45.000000</td>\n",
       "      <td>163.500000</td>\n",
       "      <td>15.000000</td>\n",
       "      <td>2002.000000</td>\n",
       "    </tr>\n",
       "    <tr>\n",
       "      <th>max</th>\n",
       "      <td>2019.000000</td>\n",
       "      <td>2019.000000</td>\n",
       "      <td>228.000000</td>\n",
       "      <td>9.300000</td>\n",
       "      <td>2.452594e+06</td>\n",
       "      <td>10.000000</td>\n",
       "      <td>574.000000</td>\n",
       "      <td>9.800000</td>\n",
       "      <td>3.579764e+07</td>\n",
       "      <td>69.000000</td>\n",
       "      <td>495.000000</td>\n",
       "      <td>182.000000</td>\n",
       "      <td>2019.000000</td>\n",
       "    </tr>\n",
       "  </tbody>\n",
       "</table>\n",
       "</div>"
      ],
      "text/plain": [
       "        oscar_year  year_of_release  movie_time  imdb_rating    imdb_votes  \\\n",
       "count   439.000000       439.000000  439.000000   439.000000  4.390000e+02   \n",
       "mean   1975.876993      1975.881549  126.742597     7.634624  2.355875e+05   \n",
       "std      27.851176        27.824377   25.831555     0.508857  3.657208e+05   \n",
       "min    1927.000000      1927.000000   66.000000     5.600000  1.019000e+03   \n",
       "25%    1950.000000      1950.000000  109.000000     7.300000  1.438900e+04   \n",
       "50%    1975.000000      1975.000000  123.000000     7.700000  8.205100e+04   \n",
       "75%    2002.000000      2002.000000  138.000000     8.000000  2.965760e+05   \n",
       "max    2019.000000      2019.000000  228.000000     9.300000  2.452594e+06   \n",
       "\n",
       "       tomatometer_rating  tomatometer_count  audience_rating  audience_count  \\\n",
       "count          439.000000         439.000000       439.000000    4.390000e+02   \n",
       "mean             8.750342         110.697039         8.242825    5.154145e+05   \n",
       "std              1.169062         119.541406         1.092790    3.623107e+06   \n",
       "min              2.900000           5.000000         2.100000    6.000000e+00   \n",
       "25%              8.400000          25.000000         7.800000    6.637500e+03   \n",
       "50%              9.100000          54.000000         8.500000    3.716600e+04   \n",
       "75%              9.500000         199.000000         9.000000    1.255365e+05   \n",
       "max             10.000000         574.000000         9.800000    3.579764e+07   \n",
       "\n",
       "       tomatometer_top_critics_count  tomatometer_fresh_critics_count  \\\n",
       "count                     439.000000                       439.000000   \n",
       "mean                       21.861048                        98.471526   \n",
       "std                        21.615492                       107.798554   \n",
       "min                         0.000000                         3.000000   \n",
       "25%                         5.000000                        21.500000   \n",
       "50%                        11.000000                        49.000000   \n",
       "75%                        45.000000                       163.500000   \n",
       "max                        69.000000                       495.000000   \n",
       "\n",
       "       tomatometer_rotten_critics_count  year_posted  \n",
       "count                        439.000000   439.000000  \n",
       "mean                          12.275626  1975.881549  \n",
       "std                           19.310232    27.824377  \n",
       "min                            0.000000  1927.000000  \n",
       "25%                            2.000000  1950.000000  \n",
       "50%                            5.000000  1975.000000  \n",
       "75%                           15.000000  2002.000000  \n",
       "max                          182.000000  2019.000000  "
      ]
     },
     "execution_count": 26,
     "metadata": {},
     "output_type": "execute_result"
    }
   ],
   "source": [
    "df.describe()"
   ]
  },
  {
   "cell_type": "code",
   "execution_count": 27,
   "id": "2fda4270",
   "metadata": {},
   "outputs": [
    {
     "data": {
      "image/png": "[encoded data removed]",
      "text/plain": [
       "<Figure size 432x288 with 1 Axes>"
      ]
     },
     "metadata": {
      "needs_background": "light"
     },
     "output_type": "display_data"
    },
    {
     "data": {
      "image/png": "[encoded data removed]",
      "text/plain": [
       "<Figure size 432x288 with 1 Axes>"
      ]
     },
     "metadata": {
      "needs_background": "light"
     },
     "output_type": "display_data"
    },
    {
     "data": {
      "image/png": "[encoded data removed]",
      "text/plain": [
       "<Figure size 432x288 with 1 Axes>"
      ]
     },
     "metadata": {
      "needs_background": "light"
     },
     "output_type": "display_data"
    },
    {
     "data": {
      "image/png": "[encoded data removed]",
      "text/plain": [
       "<Figure size 432x288 with 1 Axes>"
      ]
     },
     "metadata": {
      "needs_background": "light"
     },
     "output_type": "display_data"
    },
    {
     "data": {
      "image/png": "[encoded data removed]",
      "text/plain": [
       "<Figure size 432x288 with 1 Axes>"
      ]
     },
     "metadata": {
      "needs_background": "light"
     },
     "output_type": "display_data"
    },
    {
     "data": {
      "image/png": "[encoded data removed]",
      "text/plain": [
       "<Figure size 432x288 with 1 Axes>"
      ]
     },
     "metadata": {
      "needs_background": "light"
     },
     "output_type": "display_data"
    }
   ],
   "source": [
    "columns = ['year_posted','movie_time','imdb_rating','tomatometer_rating','audience_rating', 'audience_count']\n",
    "\n",
    "for column in columns:\n",
    "    df.hist(column)"
   ]
  },
  {
   "cell_type": "markdown",
   "id": "fd5d504c",
   "metadata": {},
   "source": [
    "**Заключение:**\n",
    "- выбросы затрудняют чтение данных о рейтингах и продолжительности фильмов;"
   ]
  },
  {
   "cell_type": "markdown",
   "id": "6b176389",
   "metadata": {},
   "source": [
    "## Изучение и обработка выбросов\n",
    "\n",
    "Учитывая приведенные выше результаты, столбцы, содержащие выбросы, — это 'movie_time', 'imdb_rating', 'tomatometer_rating' и 'audience_rating'. Создадим DataFrame без этих выбросов. Выбросы можно идентифицировать путем определения нижнего/верхнего предела нормального диапазона значений."
   ]
  },
  {
   "cell_type": "code",
   "execution_count": 28,
   "id": "491946e6",
   "metadata": {},
   "outputs": [
    {
     "data": {
      "text/html": [
       "<div>\n",
       "<style scoped>\n",
       "    .dataframe tbody tr th:only-of-type {\n",
       "        vertical-align: middle;\n",
       "    }\n",
       "\n",
       "    .dataframe tbody tr th {\n",
       "        vertical-align: top;\n",
       "    }\n",
       "\n",
       "    .dataframe thead th {\n",
       "        text-align: right;\n",
       "    }\n",
       "</style>\n",
       "<table border=\"1\" class=\"dataframe\">\n",
       "  <thead>\n",
       "    <tr style=\"text-align: right;\">\n",
       "      <th></th>\n",
       "      <th>movie_time</th>\n",
       "      <th>imdb_rating</th>\n",
       "      <th>tomatometer_rating</th>\n",
       "      <th>audience_rating</th>\n",
       "      <th>audience_count</th>\n",
       "    </tr>\n",
       "  </thead>\n",
       "  <tbody>\n",
       "    <tr>\n",
       "      <th>0</th>\n",
       "      <td>144</td>\n",
       "      <td>7.5</td>\n",
       "      <td>9.3</td>\n",
       "      <td>7.8</td>\n",
       "      <td>3530.0</td>\n",
       "    </tr>\n",
       "    <tr>\n",
       "      <th>1</th>\n",
       "      <td>100</td>\n",
       "      <td>5.7</td>\n",
       "      <td>3.3</td>\n",
       "      <td>2.1</td>\n",
       "      <td>1813.0</td>\n",
       "    </tr>\n",
       "    <tr>\n",
       "      <th>2</th>\n",
       "      <td>95</td>\n",
       "      <td>5.6</td>\n",
       "      <td>5.6</td>\n",
       "      <td>3.8</td>\n",
       "      <td>356.0</td>\n",
       "    </tr>\n",
       "    <tr>\n",
       "      <th>3</th>\n",
       "      <td>87</td>\n",
       "      <td>7.1</td>\n",
       "      <td>7.5</td>\n",
       "      <td>6.9</td>\n",
       "      <td>323.0</td>\n",
       "    </tr>\n",
       "    <tr>\n",
       "      <th>4</th>\n",
       "      <td>123</td>\n",
       "      <td>5.9</td>\n",
       "      <td>5.0</td>\n",
       "      <td>2.5</td>\n",
       "      <td>1514.0</td>\n",
       "    </tr>\n",
       "    <tr>\n",
       "      <th>...</th>\n",
       "      <td>...</td>\n",
       "      <td>...</td>\n",
       "      <td>...</td>\n",
       "      <td>...</td>\n",
       "      <td>...</td>\n",
       "    </tr>\n",
       "    <tr>\n",
       "      <th>434</th>\n",
       "      <td>136</td>\n",
       "      <td>7.6</td>\n",
       "      <td>9.0</td>\n",
       "      <td>7.9</td>\n",
       "      <td>20442.0</td>\n",
       "    </tr>\n",
       "    <tr>\n",
       "      <th>435</th>\n",
       "      <td>132</td>\n",
       "      <td>7.2</td>\n",
       "      <td>6.5</td>\n",
       "      <td>6.0</td>\n",
       "      <td>5061.0</td>\n",
       "    </tr>\n",
       "    <tr>\n",
       "      <th>436</th>\n",
       "      <td>209</td>\n",
       "      <td>7.8</td>\n",
       "      <td>9.6</td>\n",
       "      <td>8.6</td>\n",
       "      <td>1057.0</td>\n",
       "    </tr>\n",
       "    <tr>\n",
       "      <th>437</th>\n",
       "      <td>122</td>\n",
       "      <td>8.4</td>\n",
       "      <td>6.8</td>\n",
       "      <td>8.8</td>\n",
       "      <td>66303.0</td>\n",
       "    </tr>\n",
       "    <tr>\n",
       "      <th>438</th>\n",
       "      <td>137</td>\n",
       "      <td>7.9</td>\n",
       "      <td>9.4</td>\n",
       "      <td>8.5</td>\n",
       "      <td>184.0</td>\n",
       "    </tr>\n",
       "  </tbody>\n",
       "</table>\n",
       "<p>439 rows × 5 columns</p>\n",
       "</div>"
      ],
      "text/plain": [
       "     movie_time  imdb_rating  tomatometer_rating  audience_rating  \\\n",
       "0           144          7.5                 9.3              7.8   \n",
       "1           100          5.7                 3.3              2.1   \n",
       "2            95          5.6                 5.6              3.8   \n",
       "3            87          7.1                 7.5              6.9   \n",
       "4           123          5.9                 5.0              2.5   \n",
       "..          ...          ...                 ...              ...   \n",
       "434         136          7.6                 9.0              7.9   \n",
       "435         132          7.2                 6.5              6.0   \n",
       "436         209          7.8                 9.6              8.6   \n",
       "437         122          8.4                 6.8              8.8   \n",
       "438         137          7.9                 9.4              8.5   \n",
       "\n",
       "     audience_count  \n",
       "0            3530.0  \n",
       "1            1813.0  \n",
       "2             356.0  \n",
       "3             323.0  \n",
       "4            1514.0  \n",
       "..              ...  \n",
       "434         20442.0  \n",
       "435          5061.0  \n",
       "436          1057.0  \n",
       "437         66303.0  \n",
       "438           184.0  \n",
       "\n",
       "[439 rows x 5 columns]"
      ]
     },
     "execution_count": 28,
     "metadata": {},
     "output_type": "execute_result"
    }
   ],
   "source": [
    "outlier = df[['movie_time','imdb_rating','tomatometer_rating','audience_rating', 'audience_count']]\n",
    "outlier"
   ]
  },
  {
   "cell_type": "code",
   "execution_count": 29,
   "id": "1a5c239a",
   "metadata": {},
   "outputs": [
    {
     "data": {
      "text/plain": [
       "movie_time             109.0\n",
       "imdb_rating              7.3\n",
       "tomatometer_rating       8.4\n",
       "audience_rating          7.8\n",
       "audience_count        6637.5\n",
       "Name: 0.25, dtype: float64"
      ]
     },
     "execution_count": 29,
     "metadata": {},
     "output_type": "execute_result"
    }
   ],
   "source": [
    "Q1 = outlier.quantile(0.25)\n",
    "Q1"
   ]
  },
  {
   "cell_type": "code",
   "execution_count": 30,
   "id": "c71d41ad",
   "metadata": {},
   "outputs": [
    {
     "data": {
      "text/plain": [
       "movie_time               138.0\n",
       "imdb_rating                8.0\n",
       "tomatometer_rating         9.5\n",
       "audience_rating            9.0\n",
       "audience_count        125536.5\n",
       "Name: 0.75, dtype: float64"
      ]
     },
     "execution_count": 30,
     "metadata": {},
     "output_type": "execute_result"
    }
   ],
   "source": [
    "Q3 = outlier.quantile(0.75)\n",
    "Q3"
   ]
  },
  {
   "cell_type": "code",
   "execution_count": 31,
   "id": "44553184",
   "metadata": {},
   "outputs": [
    {
     "data": {
      "text/html": [
       "<div>\n",
       "<style scoped>\n",
       "    .dataframe tbody tr th:only-of-type {\n",
       "        vertical-align: middle;\n",
       "    }\n",
       "\n",
       "    .dataframe tbody tr th {\n",
       "        vertical-align: top;\n",
       "    }\n",
       "\n",
       "    .dataframe thead th {\n",
       "        text-align: right;\n",
       "    }\n",
       "</style>\n",
       "<table border=\"1\" class=\"dataframe\">\n",
       "  <thead>\n",
       "    <tr style=\"text-align: right;\">\n",
       "      <th></th>\n",
       "      <th>movie_time</th>\n",
       "      <th>imdb_rating</th>\n",
       "      <th>tomatometer_rating</th>\n",
       "      <th>audience_rating</th>\n",
       "      <th>audience_count</th>\n",
       "    </tr>\n",
       "  </thead>\n",
       "  <tbody>\n",
       "    <tr>\n",
       "      <th>0</th>\n",
       "      <td>144</td>\n",
       "      <td>7.5</td>\n",
       "      <td>9.3</td>\n",
       "      <td>7.8</td>\n",
       "      <td>3530.0</td>\n",
       "    </tr>\n",
       "    <tr>\n",
       "      <th>3</th>\n",
       "      <td>87</td>\n",
       "      <td>7.1</td>\n",
       "      <td>7.5</td>\n",
       "      <td>6.9</td>\n",
       "      <td>323.0</td>\n",
       "    </tr>\n",
       "    <tr>\n",
       "      <th>5</th>\n",
       "      <td>112</td>\n",
       "      <td>7.4</td>\n",
       "      <td>8.6</td>\n",
       "      <td>7.7</td>\n",
       "      <td>7014.0</td>\n",
       "    </tr>\n",
       "    <tr>\n",
       "      <th>6</th>\n",
       "      <td>86</td>\n",
       "      <td>7.3</td>\n",
       "      <td>9.0</td>\n",
       "      <td>7.4</td>\n",
       "      <td>617.0</td>\n",
       "    </tr>\n",
       "    <tr>\n",
       "      <th>8</th>\n",
       "      <td>89</td>\n",
       "      <td>7.4</td>\n",
       "      <td>9.6</td>\n",
       "      <td>7.4</td>\n",
       "      <td>7561.0</td>\n",
       "    </tr>\n",
       "    <tr>\n",
       "      <th>...</th>\n",
       "      <td>...</td>\n",
       "      <td>...</td>\n",
       "      <td>...</td>\n",
       "      <td>...</td>\n",
       "      <td>...</td>\n",
       "    </tr>\n",
       "    <tr>\n",
       "      <th>432</th>\n",
       "      <td>119</td>\n",
       "      <td>7.5</td>\n",
       "      <td>9.3</td>\n",
       "      <td>6.9</td>\n",
       "      <td>7189.0</td>\n",
       "    </tr>\n",
       "    <tr>\n",
       "      <th>433</th>\n",
       "      <td>135</td>\n",
       "      <td>7.7</td>\n",
       "      <td>9.6</td>\n",
       "      <td>7.2</td>\n",
       "      <td>5521.0</td>\n",
       "    </tr>\n",
       "    <tr>\n",
       "      <th>434</th>\n",
       "      <td>136</td>\n",
       "      <td>7.6</td>\n",
       "      <td>9.0</td>\n",
       "      <td>7.9</td>\n",
       "      <td>20442.0</td>\n",
       "    </tr>\n",
       "    <tr>\n",
       "      <th>437</th>\n",
       "      <td>122</td>\n",
       "      <td>8.4</td>\n",
       "      <td>6.8</td>\n",
       "      <td>8.8</td>\n",
       "      <td>66303.0</td>\n",
       "    </tr>\n",
       "    <tr>\n",
       "      <th>438</th>\n",
       "      <td>137</td>\n",
       "      <td>7.9</td>\n",
       "      <td>9.4</td>\n",
       "      <td>8.5</td>\n",
       "      <td>184.0</td>\n",
       "    </tr>\n",
       "  </tbody>\n",
       "</table>\n",
       "<p>331 rows × 5 columns</p>\n",
       "</div>"
      ],
      "text/plain": [
       "     movie_time  imdb_rating  tomatometer_rating  audience_rating  \\\n",
       "0           144          7.5                 9.3              7.8   \n",
       "3            87          7.1                 7.5              6.9   \n",
       "5           112          7.4                 8.6              7.7   \n",
       "6            86          7.3                 9.0              7.4   \n",
       "8            89          7.4                 9.6              7.4   \n",
       "..          ...          ...                 ...              ...   \n",
       "432         119          7.5                 9.3              6.9   \n",
       "433         135          7.7                 9.6              7.2   \n",
       "434         136          7.6                 9.0              7.9   \n",
       "437         122          8.4                 6.8              8.8   \n",
       "438         137          7.9                 9.4              8.5   \n",
       "\n",
       "     audience_count  \n",
       "0            3530.0  \n",
       "3             323.0  \n",
       "5            7014.0  \n",
       "6             617.0  \n",
       "8            7561.0  \n",
       "..              ...  \n",
       "432          7189.0  \n",
       "433          5521.0  \n",
       "434         20442.0  \n",
       "437         66303.0  \n",
       "438           184.0  \n",
       "\n",
       "[331 rows x 5 columns]"
      ]
     },
     "execution_count": 31,
     "metadata": {},
     "output_type": "execute_result"
    }
   ],
   "source": [
    "IQR = Q3-Q1\n",
    "# Отфильтрованные данные, из которых удалены выбросы\n",
    "data_filtered = outlier[~((outlier < (Q1 - 1.5 * IQR)) |(outlier > (Q3 + 1.5 * IQR))).any(axis=1)]\n",
    "data_filtered"
   ]
  },
  {
   "cell_type": "code",
   "execution_count": 32,
   "id": "d5cf59bf",
   "metadata": {},
   "outputs": [
    {
     "data": {
      "text/html": [
       "<div>\n",
       "<style scoped>\n",
       "    .dataframe tbody tr th:only-of-type {\n",
       "        vertical-align: middle;\n",
       "    }\n",
       "\n",
       "    .dataframe tbody tr th {\n",
       "        vertical-align: top;\n",
       "    }\n",
       "\n",
       "    .dataframe thead th {\n",
       "        text-align: right;\n",
       "    }\n",
       "</style>\n",
       "<table border=\"1\" class=\"dataframe\">\n",
       "  <thead>\n",
       "    <tr style=\"text-align: right;\">\n",
       "      <th></th>\n",
       "      <th>film</th>\n",
       "      <th>oscar_year</th>\n",
       "      <th>film_studio/producer(s)</th>\n",
       "      <th>award</th>\n",
       "      <th>year_of_release</th>\n",
       "      <th>movie_time</th>\n",
       "      <th>movie_genre</th>\n",
       "      <th>imdb_rating</th>\n",
       "      <th>imdb_votes</th>\n",
       "      <th>genres</th>\n",
       "      <th>...</th>\n",
       "      <th>audience_status</th>\n",
       "      <th>audience_rating</th>\n",
       "      <th>audience_count</th>\n",
       "      <th>tomatometer_top_critics_count</th>\n",
       "      <th>tomatometer_fresh_critics_count</th>\n",
       "      <th>tomatometer_rotten_critics_count</th>\n",
       "      <th>film_id</th>\n",
       "      <th>day_posted</th>\n",
       "      <th>month_posted</th>\n",
       "      <th>year_posted</th>\n",
       "    </tr>\n",
       "  </thead>\n",
       "  <tbody>\n",
       "    <tr>\n",
       "      <th>0</th>\n",
       "      <td>Wings</td>\n",
       "      <td>1927</td>\n",
       "      <td>Famous Players-Lasky</td>\n",
       "      <td>Winner</td>\n",
       "      <td>1927</td>\n",
       "      <td>144</td>\n",
       "      <td>Drama,Romance,War</td>\n",
       "      <td>7.5</td>\n",
       "      <td>12221</td>\n",
       "      <td>Action &amp; Adventure, Classics</td>\n",
       "      <td>...</td>\n",
       "      <td>Upright</td>\n",
       "      <td>7.8</td>\n",
       "      <td>3530.0</td>\n",
       "      <td>9.0</td>\n",
       "      <td>43.0</td>\n",
       "      <td>3.0</td>\n",
       "      <td>2becf7d5-a3de-46ab-ae45-abdd6b588067</td>\n",
       "      <td>Friday</td>\n",
       "      <td>August</td>\n",
       "      <td>1927</td>\n",
       "    </tr>\n",
       "    <tr>\n",
       "      <th>1</th>\n",
       "      <td>The Big House</td>\n",
       "      <td>1929</td>\n",
       "      <td>Cosmopolitan</td>\n",
       "      <td>Nominee</td>\n",
       "      <td>1930</td>\n",
       "      <td>87</td>\n",
       "      <td>Crime,Drama,Thriller</td>\n",
       "      <td>7.1</td>\n",
       "      <td>2079</td>\n",
       "      <td>Classics, Drama</td>\n",
       "      <td>...</td>\n",
       "      <td>Upright</td>\n",
       "      <td>6.9</td>\n",
       "      <td>323.0</td>\n",
       "      <td>0.0</td>\n",
       "      <td>6.0</td>\n",
       "      <td>2.0</td>\n",
       "      <td>297aa285-29d7-4a22-b833-c5632ab3e562</td>\n",
       "      <td>Wednesday</td>\n",
       "      <td>May</td>\n",
       "      <td>1930</td>\n",
       "    </tr>\n",
       "    <tr>\n",
       "      <th>2</th>\n",
       "      <td>Grand Hotel</td>\n",
       "      <td>1931</td>\n",
       "      <td>Metro-Goldwyn-Mayer</td>\n",
       "      <td>Winner</td>\n",
       "      <td>1932</td>\n",
       "      <td>112</td>\n",
       "      <td>Drama,Romance</td>\n",
       "      <td>7.4</td>\n",
       "      <td>18314</td>\n",
       "      <td>Classics, Drama, Romance</td>\n",
       "      <td>...</td>\n",
       "      <td>Upright</td>\n",
       "      <td>7.7</td>\n",
       "      <td>7014.0</td>\n",
       "      <td>10.0</td>\n",
       "      <td>36.0</td>\n",
       "      <td>6.0</td>\n",
       "      <td>be69f946-6adc-47e4-8491-79d6c033f59d</td>\n",
       "      <td>Friday</td>\n",
       "      <td>January</td>\n",
       "      <td>1932</td>\n",
       "    </tr>\n",
       "    <tr>\n",
       "      <th>3</th>\n",
       "      <td>The Champ</td>\n",
       "      <td>1931</td>\n",
       "      <td>Metro-Goldwyn-Mayer</td>\n",
       "      <td>Nominee</td>\n",
       "      <td>1931</td>\n",
       "      <td>86</td>\n",
       "      <td>Drama,Sport</td>\n",
       "      <td>7.3</td>\n",
       "      <td>3003</td>\n",
       "      <td>Classics, Drama, Kids &amp; Family</td>\n",
       "      <td>...</td>\n",
       "      <td>Upright</td>\n",
       "      <td>7.4</td>\n",
       "      <td>617.0</td>\n",
       "      <td>2.0</td>\n",
       "      <td>9.0</td>\n",
       "      <td>1.0</td>\n",
       "      <td>c8994348-093e-4e22-8ffe-6ad3332a2bab</td>\n",
       "      <td>Saturday</td>\n",
       "      <td>November</td>\n",
       "      <td>1931</td>\n",
       "    </tr>\n",
       "    <tr>\n",
       "      <th>4</th>\n",
       "      <td>42nd Street</td>\n",
       "      <td>1932</td>\n",
       "      <td>Warner Bros.</td>\n",
       "      <td>Nominee</td>\n",
       "      <td>1933</td>\n",
       "      <td>89</td>\n",
       "      <td>Comedy,Drama,Musical</td>\n",
       "      <td>7.4</td>\n",
       "      <td>11342</td>\n",
       "      <td>Musical &amp; Performing Arts</td>\n",
       "      <td>...</td>\n",
       "      <td>Upright</td>\n",
       "      <td>7.4</td>\n",
       "      <td>7561.0</td>\n",
       "      <td>4.0</td>\n",
       "      <td>24.0</td>\n",
       "      <td>1.0</td>\n",
       "      <td>1ad59370-1ed5-4d3a-a8c4-8571f95da168</td>\n",
       "      <td>Thursday</td>\n",
       "      <td>March</td>\n",
       "      <td>1933</td>\n",
       "    </tr>\n",
       "  </tbody>\n",
       "</table>\n",
       "<p>5 rows × 30 columns</p>\n",
       "</div>"
      ],
      "text/plain": [
       "            film  oscar_year film_studio/producer(s)    award  \\\n",
       "0          Wings        1927    Famous Players-Lasky   Winner   \n",
       "1  The Big House        1929            Cosmopolitan  Nominee   \n",
       "2    Grand Hotel        1931     Metro-Goldwyn-Mayer   Winner   \n",
       "3      The Champ        1931     Metro-Goldwyn-Mayer  Nominee   \n",
       "4    42nd Street        1932            Warner Bros.  Nominee   \n",
       "\n",
       "   year_of_release  movie_time           movie_genre  imdb_rating  imdb_votes  \\\n",
       "0             1927         144     Drama,Romance,War          7.5       12221   \n",
       "1             1930          87  Crime,Drama,Thriller          7.1        2079   \n",
       "2             1932         112         Drama,Romance          7.4       18314   \n",
       "3             1931          86           Drama,Sport          7.3        3003   \n",
       "4             1933          89  Comedy,Drama,Musical          7.4       11342   \n",
       "\n",
       "                           genres  ... audience_status audience_rating  \\\n",
       "0    Action & Adventure, Classics  ...         Upright             7.8   \n",
       "1                 Classics, Drama  ...         Upright             6.9   \n",
       "2        Classics, Drama, Romance  ...         Upright             7.7   \n",
       "3  Classics, Drama, Kids & Family  ...         Upright             7.4   \n",
       "4       Musical & Performing Arts  ...         Upright             7.4   \n",
       "\n",
       "  audience_count tomatometer_top_critics_count  \\\n",
       "0         3530.0                           9.0   \n",
       "1          323.0                           0.0   \n",
       "2         7014.0                          10.0   \n",
       "3          617.0                           2.0   \n",
       "4         7561.0                           4.0   \n",
       "\n",
       "  tomatometer_fresh_critics_count tomatometer_rotten_critics_count  \\\n",
       "0                            43.0                              3.0   \n",
       "1                             6.0                              2.0   \n",
       "2                            36.0                              6.0   \n",
       "3                             9.0                              1.0   \n",
       "4                            24.0                              1.0   \n",
       "\n",
       "                                film_id day_posted  month_posted  year_posted  \n",
       "0  2becf7d5-a3de-46ab-ae45-abdd6b588067     Friday        August         1927  \n",
       "1  297aa285-29d7-4a22-b833-c5632ab3e562  Wednesday           May         1930  \n",
       "2  be69f946-6adc-47e4-8491-79d6c033f59d     Friday       January         1932  \n",
       "3  c8994348-093e-4e22-8ffe-6ad3332a2bab   Saturday      November         1931  \n",
       "4  1ad59370-1ed5-4d3a-a8c4-8571f95da168   Thursday         March         1933  \n",
       "\n",
       "[5 rows x 30 columns]"
      ]
     },
     "execution_count": 32,
     "metadata": {},
     "output_type": "execute_result"
    }
   ],
   "source": [
    "index_list = list(data_filtered.index.values)\n",
    "data_filtered = df[df.index.isin(index_list)]\n",
    "data_filtered.reset_index(drop=True, inplace=True)\n",
    "data_filtered.head()"
   ]
  },
  {
   "cell_type": "markdown",
   "id": "43a7b134",
   "metadata": {},
   "source": [
    "Новая переменная сохранила отфильтрованные данные без выбросов. Далее отфильтрованные данные будут использоваться для создания гистограммы."
   ]
  },
  {
   "cell_type": "code",
   "execution_count": 33,
   "id": "0e53298a",
   "metadata": {},
   "outputs": [
    {
     "data": {
      "image/png": "[encoded data removed]",
      "text/plain": [
       "<Figure size 432x288 with 1 Axes>"
      ]
     },
     "metadata": {
      "needs_background": "light"
     },
     "output_type": "display_data"
    },
    {
     "data": {
      "image/png": "[encoded data removed]",
      "text/plain": [
       "<Figure size 432x288 with 1 Axes>"
      ]
     },
     "metadata": {
      "needs_background": "light"
     },
     "output_type": "display_data"
    },
    {
     "data": {
      "image/png": "[encoded data removed]",
      "text/plain": [
       "<Figure size 432x288 with 1 Axes>"
      ]
     },
     "metadata": {
      "needs_background": "light"
     },
     "output_type": "display_data"
    },
    {
     "data": {
      "image/png": "[encoded data removed]",
      "text/plain": [
       "<Figure size 432x288 with 1 Axes>"
      ]
     },
     "metadata": {
      "needs_background": "light"
     },
     "output_type": "display_data"
    },
    {
     "data": {
      "image/png": "[encoded data removed]",
      "text/plain": [
       "<Figure size 432x288 with 1 Axes>"
      ]
     },
     "metadata": {
      "needs_background": "light"
     },
     "output_type": "display_data"
    }
   ],
   "source": [
    "filtered_outlier = data_filtered[['movie_time','imdb_rating','tomatometer_rating','audience_rating', 'audience_count']]\n",
    "\n",
    "for col in filtered_outlier:\n",
    "    data_filtered.hist(col, bins=100)"
   ]
  },
  {
   "cell_type": "markdown",
   "id": "1891d41f",
   "metadata": {},
   "source": [
    "**Заключение:**\n",
    "- Определили нижний и верхний пределы выбросов, определив 25-й и 75-й процентили. Затем нашли межквартильный размах. Использовали эту информацию для фильтрации выбросов. После удаления выбросов график выглядит более симметричным по сравнению с выбросами, и в данных легче наблюдать среднее значение, медиану и моду.\n",
    "\n",
    "- Судя по гистограмму значений столбца 'movie_time', распределение большинства фильмов по времени находится в диапозоне 110-125. \n",
    "- Судя по гистограммам рейтинг пользователей и пользователей на 'rotten tomatoes' в среднем выше, чем на 'imdb'.\n"
   ]
  },
  {
   "cell_type": "code",
   "execution_count": 34,
   "id": "8995dc02",
   "metadata": {},
   "outputs": [
    {
     "name": "stdout",
     "output_type": "stream",
     "text": [
      "[[<AxesSubplot:title={'center':'imdb_rating'}>]]\n",
      "[[<AxesSubplot:title={'center':'imdb_rating'}>]]\n"
     ]
    },
    {
     "data": {
      "image/png": "[encoded data removed]",
      "text/plain": [
       "<Figure size 432x288 with 1 Axes>"
      ]
     },
     "metadata": {
      "needs_background": "light"
     },
     "output_type": "display_data"
    },
    {
     "data": {
      "image/png": "[encoded data removed]",
      "text/plain": [
       "<Figure size 432x288 with 1 Axes>"
      ]
     },
     "metadata": {
      "needs_background": "light"
     },
     "output_type": "display_data"
    }
   ],
   "source": [
    "print(df.hist('imdb_rating', bins=100))\n",
    "print(data_filtered.hist('imdb_rating', bins=100))"
   ]
  },
  {
   "cell_type": "code",
   "execution_count": 35,
   "id": "e306a22b",
   "metadata": {},
   "outputs": [
    {
     "name": "stdout",
     "output_type": "stream",
     "text": [
      "[[<AxesSubplot:title={'center':'tomatometer_rating'}>]]\n",
      "[[<AxesSubplot:title={'center':'tomatometer_rating'}>]]\n"
     ]
    },
    {
     "data": {
      "image/png": "[encoded data removed]",
      "text/plain": [
       "<Figure size 432x288 with 1 Axes>"
      ]
     },
     "metadata": {
      "needs_background": "light"
     },
     "output_type": "display_data"
    },
    {
     "data": {
      "image/png": "[encoded data removed]",
      "text/plain": [
       "<Figure size 432x288 with 1 Axes>"
      ]
     },
     "metadata": {
      "needs_background": "light"
     },
     "output_type": "display_data"
    }
   ],
   "source": [
    "print(df.hist('tomatometer_rating', bins=100))\n",
    "print(data_filtered.hist('tomatometer_rating', bins=100))"
   ]
  },
  {
   "cell_type": "code",
   "execution_count": 36,
   "id": "01168aa7",
   "metadata": {},
   "outputs": [
    {
     "name": "stdout",
     "output_type": "stream",
     "text": [
      "[[<AxesSubplot:title={'center':'audience_rating'}>]]\n",
      "[[<AxesSubplot:title={'center':'audience_rating'}>]]\n"
     ]
    },
    {
     "data": {
      "image/png": "[encoded data removed]",
      "text/plain": [
       "<Figure size 432x288 with 1 Axes>"
      ]
     },
     "metadata": {
      "needs_background": "light"
     },
     "output_type": "display_data"
    },
    {
     "data": {
      "image/png": "[encoded data removed]",
      "text/plain": [
       "<Figure size 432x288 with 1 Axes>"
      ]
     },
     "metadata": {
      "needs_background": "light"
     },
     "output_type": "display_data"
    }
   ],
   "source": [
    "print(df.hist('audience_rating', bins=100))\n",
    "print(data_filtered.hist('audience_rating', bins=100))"
   ]
  },
  {
   "cell_type": "code",
   "execution_count": 37,
   "id": "b2e88661",
   "metadata": {},
   "outputs": [
    {
     "name": "stdout",
     "output_type": "stream",
     "text": [
      "[[<AxesSubplot:title={'center':'audience_count'}>]]\n",
      "[[<AxesSubplot:title={'center':'audience_count'}>]]\n"
     ]
    },
    {
     "data": {
      "image/png": "[encoded data removed]",
      "text/plain": [
       "<Figure size 432x288 with 1 Axes>"
      ]
     },
     "metadata": {
      "needs_background": "light"
     },
     "output_type": "display_data"
    },
    {
     "data": {
      "image/png": "[encoded data removed]",
      "text/plain": [
       "<Figure size 432x288 with 1 Axes>"
      ]
     },
     "metadata": {
      "needs_background": "light"
     },
     "output_type": "display_data"
    }
   ],
   "source": [
    "print(df.hist('audience_count', bins=100))\n",
    "print(data_filtered.hist('audience_count', bins=100))"
   ]
  },
  {
   "cell_type": "markdown",
   "id": "f56b044b",
   "metadata": {},
   "source": [
    "## Средняя оценка за каждый рейтинг фильма"
   ]
  },
  {
   "cell_type": "markdown",
   "id": "faa6c294",
   "metadata": {},
   "source": [
    "В этом разделе будет анализироваться количество оценок и средняя оценка для каждого рейтинга.\n",
    "<br> Для этого необходимо построить график зависимости количества оценок для каждого рейтинга. Затем следует выбрать два типа с наибольшим количеством оценок."
   ]
  },
  {
   "cell_type": "code",
   "execution_count": 38,
   "id": "a69239e3",
   "metadata": {},
   "outputs": [
    {
     "data": {
      "text/html": [
       "<div>\n",
       "<style scoped>\n",
       "    .dataframe tbody tr th:only-of-type {\n",
       "        vertical-align: middle;\n",
       "    }\n",
       "\n",
       "    .dataframe tbody tr th {\n",
       "        vertical-align: top;\n",
       "    }\n",
       "\n",
       "    .dataframe thead th {\n",
       "        text-align: right;\n",
       "    }\n",
       "</style>\n",
       "<table border=\"1\" class=\"dataframe\">\n",
       "  <thead>\n",
       "    <tr style=\"text-align: right;\">\n",
       "      <th></th>\n",
       "      <th>audience_rating</th>\n",
       "    </tr>\n",
       "    <tr>\n",
       "      <th>content_rating</th>\n",
       "      <th></th>\n",
       "    </tr>\n",
       "  </thead>\n",
       "  <tbody>\n",
       "    <tr>\n",
       "      <th>PG</th>\n",
       "      <td>8.447541</td>\n",
       "    </tr>\n",
       "    <tr>\n",
       "      <th>R</th>\n",
       "      <td>8.437143</td>\n",
       "    </tr>\n",
       "    <tr>\n",
       "      <th>PG-13</th>\n",
       "      <td>8.391489</td>\n",
       "    </tr>\n",
       "    <tr>\n",
       "      <th>NR</th>\n",
       "      <td>8.233721</td>\n",
       "    </tr>\n",
       "    <tr>\n",
       "      <th>G</th>\n",
       "      <td>8.190625</td>\n",
       "    </tr>\n",
       "  </tbody>\n",
       "</table>\n",
       "</div>"
      ],
      "text/plain": [
       "                audience_rating\n",
       "content_rating                 \n",
       "PG                     8.447541\n",
       "R                      8.437143\n",
       "PG-13                  8.391489\n",
       "NR                     8.233721\n",
       "G                      8.190625"
      ]
     },
     "execution_count": 38,
     "metadata": {},
     "output_type": "execute_result"
    }
   ],
   "source": [
    "avg_audience = data_filtered.pivot_table(index='content_rating', values='audience_rating', aggfunc='mean')\n",
    "avg_audience.sort_values(ascending=False ,by='audience_rating')"
   ]
  },
  {
   "cell_type": "code",
   "execution_count": 39,
   "id": "cdd07570",
   "metadata": {},
   "outputs": [],
   "source": [
    "count_audience = data_filtered.pivot_table(index='content_rating', values='audience_rating', aggfunc='count')\n",
    "count_audience.sort_values(ascending=False ,by='audience_rating')\n",
    "count_audience = count_audience.reset_index()"
   ]
  },
  {
   "cell_type": "code",
   "execution_count": 40,
   "id": "a848d66f",
   "metadata": {},
   "outputs": [
    {
     "data": {
      "text/plain": [
       "<AxesSubplot:xlabel='content_rating'>"
      ]
     },
     "execution_count": 40,
     "metadata": {},
     "output_type": "execute_result"
    },
    {
     "data": {
      "image/png": "[encoded data removed]",
      "text/plain": [
       "<Figure size 1440x504 with 1 Axes>"
      ]
     },
     "metadata": {
      "needs_background": "light"
     },
     "output_type": "display_data"
    }
   ],
   "source": [
    "count_audience.plot(grid=True, figsize=(20, 7), kind = 'bar', x='content_rating',y='audience_rating')"
   ]
  },
  {
   "cell_type": "markdown",
   "id": "d0dec6c9",
   "metadata": {},
   "source": [
    "**Заключение:**\n",
    "\n",
    "- Средняя оценка для каждого типа показывает, что с самой высокой оценкой фильмы 'R', но разница с другими рейтингами не очень велика.\n",
    "\n",
    "- Два самых популярных рейтингов среди фильмов:\n",
    "     - R\n",
    "     - NR"
   ]
  },
  {
   "cell_type": "markdown",
   "id": "c0471245",
   "metadata": {},
   "source": [
    "## Факторы просмотров"
   ]
  },
  {
   "cell_type": "markdown",
   "id": "deb73ff6",
   "metadata": {},
   "source": [
    "В этом разделе будут проанализированы факторы, которые больше всего влияют на количество просмотров у фильма, на основе популярных типов с предыдущего этапа.\n",
    "\n",
    "Количество просмотров зависит от следующих характеристик:\n",
    "\n",
    "- месяц выпуска<br>\n",
    "- день выпуска<br>\n",
    "- рейтинг<br>\n",
    "- продолжительность фильма<br>\n",
    "- количество отзывов<br>\n",
    "<br>\n",
    "Для категориальных переменных (цвет и тип передачи) использовались прямоугольные диаграммы, а для остальных — диаграммы рассеяния.\n",
    "<br>Матрица корреляции и графики корреляции будут использоваться для оценки силы и направления линейных связей между парами переменных."
   ]
  },
  {
   "cell_type": "code",
   "execution_count": 41,
   "id": "52ce9608",
   "metadata": {},
   "outputs": [
    {
     "data": {
      "text/plain": [
       "Text(0.5, 1.0, 'imdb_votes')"
      ]
     },
     "execution_count": 41,
     "metadata": {},
     "output_type": "execute_result"
    },
    {
     "data": {
      "image/png": "[encoded data removed]",
      "text/plain": [
       "<Figure size 360x360 with 1 Axes>"
      ]
     },
     "metadata": {
      "needs_background": "light"
     },
     "output_type": "display_data"
    },
    {
     "data": {
      "image/png": "[encoded data removed]",
      "text/plain": [
       "<Figure size 360x360 with 1 Axes>"
      ]
     },
     "metadata": {
      "needs_background": "light"
     },
     "output_type": "display_data"
    },
    {
     "data": {
      "image/png": "[encoded data removed]",
      "text/plain": [
       "<Figure size 360x360 with 1 Axes>"
      ]
     },
     "metadata": {
      "needs_background": "light"
     },
     "output_type": "display_data"
    }
   ],
   "source": [
    "sns.lmplot(x=\"imdb_rating\", y=\"audience_count\", data=data_filtered)\n",
    "plt.title('imbd_rating')\n",
    "sns.lmplot(x=\"movie_time\", y=\"audience_count\", data=data_filtered)\n",
    "plt.title('movie_time')\n",
    "sns.lmplot(x=\"imdb_votes\", y=\"audience_count\", data=data_filtered)\n",
    "plt.title('imdb_votes')"
   ]
  },
  {
   "cell_type": "code",
   "execution_count": 42,
   "id": "c7c555be",
   "metadata": {},
   "outputs": [],
   "source": [
    "age_imdb = data_filtered[['imdb_rating','audience_count']]\n",
    "corr_imdb = age_imdb.corr()\n",
    "age_time = data_filtered[['movie_time','audience_count']]\n",
    "corr_time = age_time.corr()\n",
    "age_votes = data_filtered[['imdb_votes','audience_count']]\n",
    "corr_votes = age_votes.corr()"
   ]
  },
  {
   "cell_type": "code",
   "execution_count": 43,
   "id": "95b927a7",
   "metadata": {},
   "outputs": [
    {
     "data": {
      "text/html": [
       "<div>\n",
       "<style scoped>\n",
       "    .dataframe tbody tr th:only-of-type {\n",
       "        vertical-align: middle;\n",
       "    }\n",
       "\n",
       "    .dataframe tbody tr th {\n",
       "        vertical-align: top;\n",
       "    }\n",
       "\n",
       "    .dataframe thead th {\n",
       "        text-align: right;\n",
       "    }\n",
       "</style>\n",
       "<table border=\"1\" class=\"dataframe\">\n",
       "  <thead>\n",
       "    <tr style=\"text-align: right;\">\n",
       "      <th></th>\n",
       "      <th>imdb_rating</th>\n",
       "      <th>audience_count</th>\n",
       "    </tr>\n",
       "  </thead>\n",
       "  <tbody>\n",
       "    <tr>\n",
       "      <th>imdb_rating</th>\n",
       "      <td>1.000</td>\n",
       "      <td>0.276</td>\n",
       "    </tr>\n",
       "    <tr>\n",
       "      <th>audience_count</th>\n",
       "      <td>0.276</td>\n",
       "      <td>1.000</td>\n",
       "    </tr>\n",
       "  </tbody>\n",
       "</table>\n",
       "</div>"
      ],
      "text/plain": [
       "                imdb_rating  audience_count\n",
       "imdb_rating           1.000           0.276\n",
       "audience_count        0.276           1.000"
      ]
     },
     "execution_count": 43,
     "metadata": {},
     "output_type": "execute_result"
    }
   ],
   "source": [
    "round(corr_imdb,3)"
   ]
  },
  {
   "cell_type": "code",
   "execution_count": 44,
   "id": "13d48067",
   "metadata": {},
   "outputs": [
    {
     "data": {
      "text/html": [
       "<div>\n",
       "<style scoped>\n",
       "    .dataframe tbody tr th:only-of-type {\n",
       "        vertical-align: middle;\n",
       "    }\n",
       "\n",
       "    .dataframe tbody tr th {\n",
       "        vertical-align: top;\n",
       "    }\n",
       "\n",
       "    .dataframe thead th {\n",
       "        text-align: right;\n",
       "    }\n",
       "</style>\n",
       "<table border=\"1\" class=\"dataframe\">\n",
       "  <thead>\n",
       "    <tr style=\"text-align: right;\">\n",
       "      <th></th>\n",
       "      <th>movie_time</th>\n",
       "      <th>audience_count</th>\n",
       "    </tr>\n",
       "  </thead>\n",
       "  <tbody>\n",
       "    <tr>\n",
       "      <th>movie_time</th>\n",
       "      <td>1.000</td>\n",
       "      <td>0.209</td>\n",
       "    </tr>\n",
       "    <tr>\n",
       "      <th>audience_count</th>\n",
       "      <td>0.209</td>\n",
       "      <td>1.000</td>\n",
       "    </tr>\n",
       "  </tbody>\n",
       "</table>\n",
       "</div>"
      ],
      "text/plain": [
       "                movie_time  audience_count\n",
       "movie_time           1.000           0.209\n",
       "audience_count       0.209           1.000"
      ]
     },
     "execution_count": 44,
     "metadata": {},
     "output_type": "execute_result"
    }
   ],
   "source": [
    "round(corr_time,3)"
   ]
  },
  {
   "cell_type": "code",
   "execution_count": 45,
   "id": "04da8830",
   "metadata": {},
   "outputs": [
    {
     "data": {
      "text/html": [
       "<div>\n",
       "<style scoped>\n",
       "    .dataframe tbody tr th:only-of-type {\n",
       "        vertical-align: middle;\n",
       "    }\n",
       "\n",
       "    .dataframe tbody tr th {\n",
       "        vertical-align: top;\n",
       "    }\n",
       "\n",
       "    .dataframe thead th {\n",
       "        text-align: right;\n",
       "    }\n",
       "</style>\n",
       "<table border=\"1\" class=\"dataframe\">\n",
       "  <thead>\n",
       "    <tr style=\"text-align: right;\">\n",
       "      <th></th>\n",
       "      <th>imdb_votes</th>\n",
       "      <th>audience_count</th>\n",
       "    </tr>\n",
       "  </thead>\n",
       "  <tbody>\n",
       "    <tr>\n",
       "      <th>imdb_votes</th>\n",
       "      <td>1.000</td>\n",
       "      <td>0.681</td>\n",
       "    </tr>\n",
       "    <tr>\n",
       "      <th>audience_count</th>\n",
       "      <td>0.681</td>\n",
       "      <td>1.000</td>\n",
       "    </tr>\n",
       "  </tbody>\n",
       "</table>\n",
       "</div>"
      ],
      "text/plain": [
       "                imdb_votes  audience_count\n",
       "imdb_votes           1.000           0.681\n",
       "audience_count       0.681           1.000"
      ]
     },
     "execution_count": 45,
     "metadata": {},
     "output_type": "execute_result"
    }
   ],
   "source": [
    "round(corr_votes,3)"
   ]
  },
  {
   "cell_type": "markdown",
   "id": "80b1fb28",
   "metadata": {},
   "source": [
    "**Заключение** :\n",
    "<br>\n",
    "На количество просмотров больше влияет количество отзывов, чем рейтинг фильма и его продолжительность. Увеличение отзывов приводит к повышению просмотров. "
   ]
  },
  {
   "cell_type": "code",
   "execution_count": 46,
   "id": "9b30c0f5",
   "metadata": {},
   "outputs": [
    {
     "data": {
      "text/plain": [
       "Friday       129\n",
       "Wednesday     88\n",
       "Thursday      43\n",
       "Saturday      22\n",
       "Tuesday       22\n",
       "Sunday        15\n",
       "Monday        12\n",
       "Name: day_posted, dtype: int64"
      ]
     },
     "execution_count": 46,
     "metadata": {},
     "output_type": "execute_result"
    }
   ],
   "source": [
    "data_filtered.day_posted.value_counts()"
   ]
  },
  {
   "cell_type": "code",
   "execution_count": 47,
   "id": "63e94021",
   "metadata": {},
   "outputs": [
    {
     "data": {
      "text/plain": [
       "Text(0.5, 1.0, 'Day')"
      ]
     },
     "execution_count": 47,
     "metadata": {},
     "output_type": "execute_result"
    },
    {
     "data": {
      "image/png": "[encoded data removed]",
      "text/plain": [
       "<Figure size 1440x504 with 1 Axes>"
      ]
     },
     "metadata": {
      "needs_background": "light"
     },
     "output_type": "display_data"
    },
    {
     "data": {
      "image/png": "[encoded data removed]",
      "text/plain": [
       "<Figure size 1440x504 with 1 Axes>"
      ]
     },
     "metadata": {
      "needs_background": "light"
     },
     "output_type": "display_data"
    }
   ],
   "source": [
    "data_filtered.boxplot(by ='month_posted', column ='audience_count', figsize=(20, 7), grid = True)\n",
    "plt.title('Month')\n",
    "data_filtered.boxplot(by ='day_posted', column ='audience_count', figsize=(20, 7), grid = True)\n",
    "plt.title('Day')"
   ]
  },
  {
   "cell_type": "markdown",
   "id": "9d559ee2",
   "metadata": {},
   "source": [
    "**Заключение**:\n",
    "\n",
    "Оба графика показывают, что на количество просмотров немного влияют дни и месяцы выхода. Фильмы выходящие в декабре и октября собирают больше просмотров, также если фильм выходит в понедельник, то в среднем он собирает больше."
   ]
  },
  {
   "cell_type": "markdown",
   "id": "d9875f28",
   "metadata": {},
   "source": [
    "# Общие выводы:"
   ]
  },
  {
   "cell_type": "markdown",
   "id": "2604ba00",
   "metadata": {},
   "source": [
    "Этот проект призван изучить данные, собранные за всё время производства фильмов, и определить, какие факторы влияют на количество просмотров. Вначале, после загрузки данных и всех необходимых библиотек, образцы данных и общее резюме выводятся на экран для их анализа. Необходимо выявить \"аномальные\" данные, отсутствующие значения и некорректные типы данных.\n",
    "\n",
    "\n",
    "**Изменение типа данных:**\n",
    "\n",
    "- Тип данных столбца 'oscar_year' изменен на  тип данных int;\n",
    "- Тип данных столбца 'original_release_date' изменен на  тип данных 'дата и время';             \n",
    "\n",
    "<br>\n",
    "\n",
    "**Редактирование данных:**\n",
    "<br>\n",
    "- Добавили значения даты и времени, чтобы указать день, месяц и год размещения объявления.\n",
    "- Проверка дублированных данные и их удаление.\n",
    "<br>\n",
    "**Проверка выбросов: **\n",
    "<br>\n",
    "Выбросы параметров: 'movie_time','imdb_rating','tomatometer_rating','audience_rating', 'audience_count'.\n",
    "На гистограмме данные столбцов 'tomatometer_rating','audience_rating' смещены вправо, а 'audience_count' смещены влево.\n",
    "\n",
    "<br>\n",
    "**Удаление выбросов:**\n",
    "<br>\n",
    "- Определили нижний и верхний пределы выбросов и сохранили их в отдельном DataFrame.\n",
    "- Выполнили сравнение, используя гистограмму данных, которые содержат выбросы и не содержат выбросов. Сравнение показало, что гистограмма без выбросов позволяет легко исследовать среднее, медианное значение в данных столбцов.\n",
    "\n",
    "<br>\n",
    "**Изучение фактора просмотров:**\n",
    "\n",
    "Факторы, влияющие на количество просмотров: длительность фильма, рейтинг, количество отзывов, а также день и месяц выхода.\n",
    "длительность, рейтинг и количество отзывов используют метод диаграммы рассеяния, а остальные используют коробчатую диаграмму для исследования.\n",
    "Среди всех выбранных факторов больше всего влияет количество отзывов, наблюдалась сильная зависимость количества просмотров от количества отзывов и также была сильная зависимость от месяца выхода."
   ]
  },
  {
   "cell_type": "code",
   "execution_count": null,
   "id": "bfc74c0b",
   "metadata": {},
   "outputs": [],
   "source": []
  }
 ],
 "metadata": {
  "kernelspec": {
   "display_name": "Python 3 (ipykernel)",
   "language": "python",
   "name": "python3"
  },
  "language_info": {
   "codemirror_mode": {
    "name": "ipython",
    "version": 3
   },
   "file_extension": ".py",
   "mimetype": "text/x-python",
   "name": "python",
   "nbconvert_exporter": "python",
   "pygments_lexer": "ipython3",
   "version": "3.10.5"
  }
 },
 "nbformat": 4,
 "nbformat_minor": 5
}
